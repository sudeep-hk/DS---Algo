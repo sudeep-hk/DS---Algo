{
 "cells": [
  {
   "cell_type": "code",
   "execution_count": 2,
   "metadata": {},
   "outputs": [],
   "source": [
    "#loading dataset from pycaret\n",
    "from pycaret.datasets import get_data"
   ]
  },
  {
   "cell_type": "code",
   "execution_count": 11,
   "metadata": {},
   "outputs": [
    {
     "data": {
      "text/html": [
       "<div>\n",
       "<style scoped>\n",
       "    .dataframe tbody tr th:only-of-type {\n",
       "        vertical-align: middle;\n",
       "    }\n",
       "\n",
       "    .dataframe tbody tr th {\n",
       "        vertical-align: top;\n",
       "    }\n",
       "\n",
       "    .dataframe thead th {\n",
       "        text-align: right;\n",
       "    }\n",
       "</style>\n",
       "<table border=\"1\" class=\"dataframe\">\n",
       "  <thead>\n",
       "    <tr style=\"text-align: right;\">\n",
       "      <th></th>\n",
       "      <th>Id</th>\n",
       "      <th>Purchase</th>\n",
       "      <th>WeekofPurchase</th>\n",
       "      <th>StoreID</th>\n",
       "      <th>PriceCH</th>\n",
       "      <th>PriceMM</th>\n",
       "      <th>DiscCH</th>\n",
       "      <th>DiscMM</th>\n",
       "      <th>SpecialCH</th>\n",
       "      <th>SpecialMM</th>\n",
       "      <th>LoyalCH</th>\n",
       "      <th>SalePriceMM</th>\n",
       "      <th>SalePriceCH</th>\n",
       "      <th>PriceDiff</th>\n",
       "      <th>Store7</th>\n",
       "      <th>PctDiscMM</th>\n",
       "      <th>PctDiscCH</th>\n",
       "      <th>ListPriceDiff</th>\n",
       "      <th>STORE</th>\n",
       "    </tr>\n",
       "  </thead>\n",
       "  <tbody>\n",
       "    <tr>\n",
       "      <th>0</th>\n",
       "      <td>1</td>\n",
       "      <td>CH</td>\n",
       "      <td>237</td>\n",
       "      <td>1</td>\n",
       "      <td>1.75</td>\n",
       "      <td>1.99</td>\n",
       "      <td>0.00</td>\n",
       "      <td>0.0</td>\n",
       "      <td>0</td>\n",
       "      <td>0</td>\n",
       "      <td>0.500000</td>\n",
       "      <td>1.99</td>\n",
       "      <td>1.75</td>\n",
       "      <td>0.24</td>\n",
       "      <td>No</td>\n",
       "      <td>0.000000</td>\n",
       "      <td>0.000000</td>\n",
       "      <td>0.24</td>\n",
       "      <td>1</td>\n",
       "    </tr>\n",
       "    <tr>\n",
       "      <th>1</th>\n",
       "      <td>2</td>\n",
       "      <td>CH</td>\n",
       "      <td>239</td>\n",
       "      <td>1</td>\n",
       "      <td>1.75</td>\n",
       "      <td>1.99</td>\n",
       "      <td>0.00</td>\n",
       "      <td>0.3</td>\n",
       "      <td>0</td>\n",
       "      <td>1</td>\n",
       "      <td>0.600000</td>\n",
       "      <td>1.69</td>\n",
       "      <td>1.75</td>\n",
       "      <td>-0.06</td>\n",
       "      <td>No</td>\n",
       "      <td>0.150754</td>\n",
       "      <td>0.000000</td>\n",
       "      <td>0.24</td>\n",
       "      <td>1</td>\n",
       "    </tr>\n",
       "    <tr>\n",
       "      <th>2</th>\n",
       "      <td>3</td>\n",
       "      <td>CH</td>\n",
       "      <td>245</td>\n",
       "      <td>1</td>\n",
       "      <td>1.86</td>\n",
       "      <td>2.09</td>\n",
       "      <td>0.17</td>\n",
       "      <td>0.0</td>\n",
       "      <td>0</td>\n",
       "      <td>0</td>\n",
       "      <td>0.680000</td>\n",
       "      <td>2.09</td>\n",
       "      <td>1.69</td>\n",
       "      <td>0.40</td>\n",
       "      <td>No</td>\n",
       "      <td>0.000000</td>\n",
       "      <td>0.091398</td>\n",
       "      <td>0.23</td>\n",
       "      <td>1</td>\n",
       "    </tr>\n",
       "    <tr>\n",
       "      <th>3</th>\n",
       "      <td>4</td>\n",
       "      <td>MM</td>\n",
       "      <td>227</td>\n",
       "      <td>1</td>\n",
       "      <td>1.69</td>\n",
       "      <td>1.69</td>\n",
       "      <td>0.00</td>\n",
       "      <td>0.0</td>\n",
       "      <td>0</td>\n",
       "      <td>0</td>\n",
       "      <td>0.400000</td>\n",
       "      <td>1.69</td>\n",
       "      <td>1.69</td>\n",
       "      <td>0.00</td>\n",
       "      <td>No</td>\n",
       "      <td>0.000000</td>\n",
       "      <td>0.000000</td>\n",
       "      <td>0.00</td>\n",
       "      <td>1</td>\n",
       "    </tr>\n",
       "    <tr>\n",
       "      <th>4</th>\n",
       "      <td>5</td>\n",
       "      <td>CH</td>\n",
       "      <td>228</td>\n",
       "      <td>7</td>\n",
       "      <td>1.69</td>\n",
       "      <td>1.69</td>\n",
       "      <td>0.00</td>\n",
       "      <td>0.0</td>\n",
       "      <td>0</td>\n",
       "      <td>0</td>\n",
       "      <td>0.956535</td>\n",
       "      <td>1.69</td>\n",
       "      <td>1.69</td>\n",
       "      <td>0.00</td>\n",
       "      <td>Yes</td>\n",
       "      <td>0.000000</td>\n",
       "      <td>0.000000</td>\n",
       "      <td>0.00</td>\n",
       "      <td>0</td>\n",
       "    </tr>\n",
       "  </tbody>\n",
       "</table>\n",
       "</div>"
      ],
      "text/plain": [
       "   Id Purchase  WeekofPurchase  ...  PctDiscCH  ListPriceDiff  STORE\n",
       "0   1       CH             237  ...   0.000000           0.24      1\n",
       "1   2       CH             239  ...   0.000000           0.24      1\n",
       "2   3       CH             245  ...   0.091398           0.23      1\n",
       "3   4       MM             227  ...   0.000000           0.00      1\n",
       "4   5       CH             228  ...   0.000000           0.00      0\n",
       "\n",
       "[5 rows x 19 columns]"
      ]
     },
     "metadata": {},
     "output_type": "display_data"
    }
   ],
   "source": [
    "df_juice=get_data('juice')"
   ]
  },
  {
   "cell_type": "code",
   "execution_count": 6,
   "metadata": {},
   "outputs": [
    {
     "data": {
      "text/html": [
       "<div>\n",
       "<style scoped>\n",
       "    .dataframe tbody tr th:only-of-type {\n",
       "        vertical-align: middle;\n",
       "    }\n",
       "\n",
       "    .dataframe tbody tr th {\n",
       "        vertical-align: top;\n",
       "    }\n",
       "\n",
       "    .dataframe thead th {\n",
       "        text-align: right;\n",
       "    }\n",
       "</style>\n",
       "<table border=\"1\" class=\"dataframe\">\n",
       "  <thead>\n",
       "    <tr style=\"text-align: right;\">\n",
       "      <th></th>\n",
       "      <th>Number of times pregnant</th>\n",
       "      <th>Plasma glucose concentration a 2 hours in an oral glucose tolerance test</th>\n",
       "      <th>Diastolic blood pressure (mm Hg)</th>\n",
       "      <th>Triceps skin fold thickness (mm)</th>\n",
       "      <th>2-Hour serum insulin (mu U/ml)</th>\n",
       "      <th>Body mass index (weight in kg/(height in m)^2)</th>\n",
       "      <th>Diabetes pedigree function</th>\n",
       "      <th>Age (years)</th>\n",
       "      <th>Class variable</th>\n",
       "    </tr>\n",
       "  </thead>\n",
       "  <tbody>\n",
       "    <tr>\n",
       "      <th>0</th>\n",
       "      <td>6</td>\n",
       "      <td>148</td>\n",
       "      <td>72</td>\n",
       "      <td>35</td>\n",
       "      <td>0</td>\n",
       "      <td>33.6</td>\n",
       "      <td>0.627</td>\n",
       "      <td>50</td>\n",
       "      <td>1</td>\n",
       "    </tr>\n",
       "    <tr>\n",
       "      <th>1</th>\n",
       "      <td>1</td>\n",
       "      <td>85</td>\n",
       "      <td>66</td>\n",
       "      <td>29</td>\n",
       "      <td>0</td>\n",
       "      <td>26.6</td>\n",
       "      <td>0.351</td>\n",
       "      <td>31</td>\n",
       "      <td>0</td>\n",
       "    </tr>\n",
       "    <tr>\n",
       "      <th>2</th>\n",
       "      <td>8</td>\n",
       "      <td>183</td>\n",
       "      <td>64</td>\n",
       "      <td>0</td>\n",
       "      <td>0</td>\n",
       "      <td>23.3</td>\n",
       "      <td>0.672</td>\n",
       "      <td>32</td>\n",
       "      <td>1</td>\n",
       "    </tr>\n",
       "    <tr>\n",
       "      <th>3</th>\n",
       "      <td>1</td>\n",
       "      <td>89</td>\n",
       "      <td>66</td>\n",
       "      <td>23</td>\n",
       "      <td>94</td>\n",
       "      <td>28.1</td>\n",
       "      <td>0.167</td>\n",
       "      <td>21</td>\n",
       "      <td>0</td>\n",
       "    </tr>\n",
       "    <tr>\n",
       "      <th>4</th>\n",
       "      <td>0</td>\n",
       "      <td>137</td>\n",
       "      <td>40</td>\n",
       "      <td>35</td>\n",
       "      <td>168</td>\n",
       "      <td>43.1</td>\n",
       "      <td>2.288</td>\n",
       "      <td>33</td>\n",
       "      <td>1</td>\n",
       "    </tr>\n",
       "  </tbody>\n",
       "</table>\n",
       "</div>"
      ],
      "text/plain": [
       "   Number of times pregnant  ...  Class variable\n",
       "0                         6  ...               1\n",
       "1                         1  ...               0\n",
       "2                         8  ...               1\n",
       "3                         1  ...               0\n",
       "4                         0  ...               1\n",
       "\n",
       "[5 rows x 9 columns]"
      ]
     },
     "metadata": {},
     "output_type": "display_data"
    }
   ],
   "source": [
    "df=get_data('diabetes')"
   ]
  },
  {
   "cell_type": "code",
   "execution_count": 9,
   "metadata": {},
   "outputs": [
    {
     "data": {
      "text/html": [
       "<style type=\"text/css\">\n",
       "#T_c6a1f_row8_col1 {\n",
       "  background-color: lightgreen;\n",
       "}\n",
       "</style>\n",
       "<table id=\"T_c6a1f\">\n",
       "  <thead>\n",
       "    <tr>\n",
       "      <th class=\"blank level0\" >&nbsp;</th>\n",
       "      <th id=\"T_c6a1f_level0_col0\" class=\"col_heading level0 col0\" >Description</th>\n",
       "      <th id=\"T_c6a1f_level0_col1\" class=\"col_heading level0 col1\" >Value</th>\n",
       "    </tr>\n",
       "  </thead>\n",
       "  <tbody>\n",
       "    <tr>\n",
       "      <th id=\"T_c6a1f_level0_row0\" class=\"row_heading level0 row0\" >0</th>\n",
       "      <td id=\"T_c6a1f_row0_col0\" class=\"data row0 col0\" >Session id</td>\n",
       "      <td id=\"T_c6a1f_row0_col1\" class=\"data row0 col1\" >4062</td>\n",
       "    </tr>\n",
       "    <tr>\n",
       "      <th id=\"T_c6a1f_level0_row1\" class=\"row_heading level0 row1\" >1</th>\n",
       "      <td id=\"T_c6a1f_row1_col0\" class=\"data row1 col0\" >Target</td>\n",
       "      <td id=\"T_c6a1f_row1_col1\" class=\"data row1 col1\" >Class variable</td>\n",
       "    </tr>\n",
       "    <tr>\n",
       "      <th id=\"T_c6a1f_level0_row2\" class=\"row_heading level0 row2\" >2</th>\n",
       "      <td id=\"T_c6a1f_row2_col0\" class=\"data row2 col0\" >Target type</td>\n",
       "      <td id=\"T_c6a1f_row2_col1\" class=\"data row2 col1\" >Binary</td>\n",
       "    </tr>\n",
       "    <tr>\n",
       "      <th id=\"T_c6a1f_level0_row3\" class=\"row_heading level0 row3\" >3</th>\n",
       "      <td id=\"T_c6a1f_row3_col0\" class=\"data row3 col0\" >Original data shape</td>\n",
       "      <td id=\"T_c6a1f_row3_col1\" class=\"data row3 col1\" >(768, 9)</td>\n",
       "    </tr>\n",
       "    <tr>\n",
       "      <th id=\"T_c6a1f_level0_row4\" class=\"row_heading level0 row4\" >4</th>\n",
       "      <td id=\"T_c6a1f_row4_col0\" class=\"data row4 col0\" >Transformed data shape</td>\n",
       "      <td id=\"T_c6a1f_row4_col1\" class=\"data row4 col1\" >(768, 9)</td>\n",
       "    </tr>\n",
       "    <tr>\n",
       "      <th id=\"T_c6a1f_level0_row5\" class=\"row_heading level0 row5\" >5</th>\n",
       "      <td id=\"T_c6a1f_row5_col0\" class=\"data row5 col0\" >Transformed train set shape</td>\n",
       "      <td id=\"T_c6a1f_row5_col1\" class=\"data row5 col1\" >(537, 9)</td>\n",
       "    </tr>\n",
       "    <tr>\n",
       "      <th id=\"T_c6a1f_level0_row6\" class=\"row_heading level0 row6\" >6</th>\n",
       "      <td id=\"T_c6a1f_row6_col0\" class=\"data row6 col0\" >Transformed test set shape</td>\n",
       "      <td id=\"T_c6a1f_row6_col1\" class=\"data row6 col1\" >(231, 9)</td>\n",
       "    </tr>\n",
       "    <tr>\n",
       "      <th id=\"T_c6a1f_level0_row7\" class=\"row_heading level0 row7\" >7</th>\n",
       "      <td id=\"T_c6a1f_row7_col0\" class=\"data row7 col0\" >Numeric features</td>\n",
       "      <td id=\"T_c6a1f_row7_col1\" class=\"data row7 col1\" >8</td>\n",
       "    </tr>\n",
       "    <tr>\n",
       "      <th id=\"T_c6a1f_level0_row8\" class=\"row_heading level0 row8\" >8</th>\n",
       "      <td id=\"T_c6a1f_row8_col0\" class=\"data row8 col0\" >Preprocess</td>\n",
       "      <td id=\"T_c6a1f_row8_col1\" class=\"data row8 col1\" >True</td>\n",
       "    </tr>\n",
       "    <tr>\n",
       "      <th id=\"T_c6a1f_level0_row9\" class=\"row_heading level0 row9\" >9</th>\n",
       "      <td id=\"T_c6a1f_row9_col0\" class=\"data row9 col0\" >Imputation type</td>\n",
       "      <td id=\"T_c6a1f_row9_col1\" class=\"data row9 col1\" >simple</td>\n",
       "    </tr>\n",
       "    <tr>\n",
       "      <th id=\"T_c6a1f_level0_row10\" class=\"row_heading level0 row10\" >10</th>\n",
       "      <td id=\"T_c6a1f_row10_col0\" class=\"data row10 col0\" >Numeric imputation</td>\n",
       "      <td id=\"T_c6a1f_row10_col1\" class=\"data row10 col1\" >mean</td>\n",
       "    </tr>\n",
       "    <tr>\n",
       "      <th id=\"T_c6a1f_level0_row11\" class=\"row_heading level0 row11\" >11</th>\n",
       "      <td id=\"T_c6a1f_row11_col0\" class=\"data row11 col0\" >Categorical imputation</td>\n",
       "      <td id=\"T_c6a1f_row11_col1\" class=\"data row11 col1\" >mode</td>\n",
       "    </tr>\n",
       "    <tr>\n",
       "      <th id=\"T_c6a1f_level0_row12\" class=\"row_heading level0 row12\" >12</th>\n",
       "      <td id=\"T_c6a1f_row12_col0\" class=\"data row12 col0\" >Fold Generator</td>\n",
       "      <td id=\"T_c6a1f_row12_col1\" class=\"data row12 col1\" >StratifiedKFold</td>\n",
       "    </tr>\n",
       "    <tr>\n",
       "      <th id=\"T_c6a1f_level0_row13\" class=\"row_heading level0 row13\" >13</th>\n",
       "      <td id=\"T_c6a1f_row13_col0\" class=\"data row13 col0\" >Fold Number</td>\n",
       "      <td id=\"T_c6a1f_row13_col1\" class=\"data row13 col1\" >10</td>\n",
       "    </tr>\n",
       "    <tr>\n",
       "      <th id=\"T_c6a1f_level0_row14\" class=\"row_heading level0 row14\" >14</th>\n",
       "      <td id=\"T_c6a1f_row14_col0\" class=\"data row14 col0\" >CPU Jobs</td>\n",
       "      <td id=\"T_c6a1f_row14_col1\" class=\"data row14 col1\" >-1</td>\n",
       "    </tr>\n",
       "    <tr>\n",
       "      <th id=\"T_c6a1f_level0_row15\" class=\"row_heading level0 row15\" >15</th>\n",
       "      <td id=\"T_c6a1f_row15_col0\" class=\"data row15 col0\" >Use GPU</td>\n",
       "      <td id=\"T_c6a1f_row15_col1\" class=\"data row15 col1\" >False</td>\n",
       "    </tr>\n",
       "    <tr>\n",
       "      <th id=\"T_c6a1f_level0_row16\" class=\"row_heading level0 row16\" >16</th>\n",
       "      <td id=\"T_c6a1f_row16_col0\" class=\"data row16 col0\" >Log Experiment</td>\n",
       "      <td id=\"T_c6a1f_row16_col1\" class=\"data row16 col1\" >False</td>\n",
       "    </tr>\n",
       "    <tr>\n",
       "      <th id=\"T_c6a1f_level0_row17\" class=\"row_heading level0 row17\" >17</th>\n",
       "      <td id=\"T_c6a1f_row17_col0\" class=\"data row17 col0\" >Experiment Name</td>\n",
       "      <td id=\"T_c6a1f_row17_col1\" class=\"data row17 col1\" >clf-default-name</td>\n",
       "    </tr>\n",
       "    <tr>\n",
       "      <th id=\"T_c6a1f_level0_row18\" class=\"row_heading level0 row18\" >18</th>\n",
       "      <td id=\"T_c6a1f_row18_col0\" class=\"data row18 col0\" >USI</td>\n",
       "      <td id=\"T_c6a1f_row18_col1\" class=\"data row18 col1\" >5bde</td>\n",
       "    </tr>\n",
       "  </tbody>\n",
       "</table>\n"
      ],
      "text/plain": [
       "<pandas.io.formats.style.Styler at 0x1de7af1b7f0>"
      ]
     },
     "metadata": {},
     "output_type": "display_data"
    }
   ],
   "source": [
    "from pycaret.classification import *\n",
    "clf=setup(data=df,target='Class variable')"
   ]
  },
  {
   "cell_type": "code",
   "execution_count": 10,
   "metadata": {},
   "outputs": [
    {
     "data": {
      "text/html": [],
      "text/plain": [
       "<IPython.core.display.HTML object>"
      ]
     },
     "metadata": {},
     "output_type": "display_data"
    },
    {
     "data": {
      "text/html": [
       "<style type=\"text/css\">\n",
       "#T_e3a7e th {\n",
       "  text-align: left;\n",
       "}\n",
       "#T_e3a7e_row0_col0, #T_e3a7e_row0_col2, #T_e3a7e_row0_col3, #T_e3a7e_row0_col5, #T_e3a7e_row1_col0, #T_e3a7e_row1_col1, #T_e3a7e_row1_col2, #T_e3a7e_row1_col3, #T_e3a7e_row1_col4, #T_e3a7e_row1_col5, #T_e3a7e_row1_col6, #T_e3a7e_row1_col7, #T_e3a7e_row2_col0, #T_e3a7e_row2_col1, #T_e3a7e_row2_col3, #T_e3a7e_row2_col4, #T_e3a7e_row2_col6, #T_e3a7e_row2_col7, #T_e3a7e_row3_col0, #T_e3a7e_row3_col1, #T_e3a7e_row3_col2, #T_e3a7e_row3_col3, #T_e3a7e_row3_col4, #T_e3a7e_row3_col5, #T_e3a7e_row3_col6, #T_e3a7e_row3_col7, #T_e3a7e_row4_col0, #T_e3a7e_row4_col1, #T_e3a7e_row4_col2, #T_e3a7e_row4_col3, #T_e3a7e_row4_col4, #T_e3a7e_row4_col5, #T_e3a7e_row4_col6, #T_e3a7e_row4_col7, #T_e3a7e_row5_col0, #T_e3a7e_row5_col1, #T_e3a7e_row5_col2, #T_e3a7e_row5_col3, #T_e3a7e_row5_col4, #T_e3a7e_row5_col5, #T_e3a7e_row5_col6, #T_e3a7e_row5_col7, #T_e3a7e_row6_col0, #T_e3a7e_row6_col1, #T_e3a7e_row6_col2, #T_e3a7e_row6_col3, #T_e3a7e_row6_col4, #T_e3a7e_row6_col5, #T_e3a7e_row6_col6, #T_e3a7e_row6_col7, #T_e3a7e_row7_col0, #T_e3a7e_row7_col1, #T_e3a7e_row7_col2, #T_e3a7e_row7_col4, #T_e3a7e_row7_col5, #T_e3a7e_row7_col6, #T_e3a7e_row7_col7, #T_e3a7e_row8_col0, #T_e3a7e_row8_col1, #T_e3a7e_row8_col2, #T_e3a7e_row8_col3, #T_e3a7e_row8_col4, #T_e3a7e_row8_col5, #T_e3a7e_row8_col6, #T_e3a7e_row8_col7, #T_e3a7e_row9_col0, #T_e3a7e_row9_col1, #T_e3a7e_row9_col2, #T_e3a7e_row9_col3, #T_e3a7e_row9_col4, #T_e3a7e_row9_col5, #T_e3a7e_row9_col6, #T_e3a7e_row9_col7, #T_e3a7e_row10_col0, #T_e3a7e_row10_col1, #T_e3a7e_row10_col2, #T_e3a7e_row10_col3, #T_e3a7e_row10_col4, #T_e3a7e_row10_col5, #T_e3a7e_row10_col6, #T_e3a7e_row10_col7, #T_e3a7e_row11_col0, #T_e3a7e_row11_col1, #T_e3a7e_row11_col2, #T_e3a7e_row11_col3, #T_e3a7e_row11_col4, #T_e3a7e_row11_col5, #T_e3a7e_row11_col6, #T_e3a7e_row11_col7, #T_e3a7e_row12_col0, #T_e3a7e_row12_col1, #T_e3a7e_row12_col2, #T_e3a7e_row12_col3, #T_e3a7e_row12_col4, #T_e3a7e_row12_col5, #T_e3a7e_row12_col6, #T_e3a7e_row12_col7, #T_e3a7e_row13_col0, #T_e3a7e_row13_col1, #T_e3a7e_row13_col2, #T_e3a7e_row13_col3, #T_e3a7e_row13_col4, #T_e3a7e_row13_col5, #T_e3a7e_row13_col6, #T_e3a7e_row13_col7, #T_e3a7e_row14_col0, #T_e3a7e_row14_col1, #T_e3a7e_row14_col2, #T_e3a7e_row14_col3, #T_e3a7e_row14_col4, #T_e3a7e_row14_col5, #T_e3a7e_row14_col6, #T_e3a7e_row14_col7 {\n",
       "  text-align: left;\n",
       "}\n",
       "#T_e3a7e_row0_col1, #T_e3a7e_row0_col4, #T_e3a7e_row0_col6, #T_e3a7e_row0_col7, #T_e3a7e_row2_col2, #T_e3a7e_row2_col5, #T_e3a7e_row7_col3 {\n",
       "  text-align: left;\n",
       "  background-color: yellow;\n",
       "}\n",
       "#T_e3a7e_row0_col8 {\n",
       "  text-align: left;\n",
       "  background-color: yellow;\n",
       "  background-color: lightgrey;\n",
       "}\n",
       "#T_e3a7e_row1_col8, #T_e3a7e_row2_col8, #T_e3a7e_row3_col8, #T_e3a7e_row4_col8, #T_e3a7e_row5_col8, #T_e3a7e_row6_col8, #T_e3a7e_row7_col8, #T_e3a7e_row8_col8, #T_e3a7e_row9_col8, #T_e3a7e_row10_col8, #T_e3a7e_row11_col8, #T_e3a7e_row12_col8, #T_e3a7e_row13_col8, #T_e3a7e_row14_col8 {\n",
       "  text-align: left;\n",
       "  background-color: lightgrey;\n",
       "}\n",
       "</style>\n",
       "<table id=\"T_e3a7e\">\n",
       "  <thead>\n",
       "    <tr>\n",
       "      <th class=\"blank level0\" >&nbsp;</th>\n",
       "      <th id=\"T_e3a7e_level0_col0\" class=\"col_heading level0 col0\" >Model</th>\n",
       "      <th id=\"T_e3a7e_level0_col1\" class=\"col_heading level0 col1\" >Accuracy</th>\n",
       "      <th id=\"T_e3a7e_level0_col2\" class=\"col_heading level0 col2\" >AUC</th>\n",
       "      <th id=\"T_e3a7e_level0_col3\" class=\"col_heading level0 col3\" >Recall</th>\n",
       "      <th id=\"T_e3a7e_level0_col4\" class=\"col_heading level0 col4\" >Prec.</th>\n",
       "      <th id=\"T_e3a7e_level0_col5\" class=\"col_heading level0 col5\" >F1</th>\n",
       "      <th id=\"T_e3a7e_level0_col6\" class=\"col_heading level0 col6\" >Kappa</th>\n",
       "      <th id=\"T_e3a7e_level0_col7\" class=\"col_heading level0 col7\" >MCC</th>\n",
       "      <th id=\"T_e3a7e_level0_col8\" class=\"col_heading level0 col8\" >TT (Sec)</th>\n",
       "    </tr>\n",
       "  </thead>\n",
       "  <tbody>\n",
       "    <tr>\n",
       "      <th id=\"T_e3a7e_level0_row0\" class=\"row_heading level0 row0\" >ridge</th>\n",
       "      <td id=\"T_e3a7e_row0_col0\" class=\"data row0 col0\" >Ridge Classifier</td>\n",
       "      <td id=\"T_e3a7e_row0_col1\" class=\"data row0 col1\" >0.7877</td>\n",
       "      <td id=\"T_e3a7e_row0_col2\" class=\"data row0 col2\" >0.0000</td>\n",
       "      <td id=\"T_e3a7e_row0_col3\" class=\"data row0 col3\" >0.5769</td>\n",
       "      <td id=\"T_e3a7e_row0_col4\" class=\"data row0 col4\" >0.7590</td>\n",
       "      <td id=\"T_e3a7e_row0_col5\" class=\"data row0 col5\" >0.6475</td>\n",
       "      <td id=\"T_e3a7e_row0_col6\" class=\"data row0 col6\" >0.5016</td>\n",
       "      <td id=\"T_e3a7e_row0_col7\" class=\"data row0 col7\" >0.5158</td>\n",
       "      <td id=\"T_e3a7e_row0_col8\" class=\"data row0 col8\" >0.0100</td>\n",
       "    </tr>\n",
       "    <tr>\n",
       "      <th id=\"T_e3a7e_level0_row1\" class=\"row_heading level0 row1\" >lda</th>\n",
       "      <td id=\"T_e3a7e_row1_col0\" class=\"data row1 col0\" >Linear Discriminant Analysis</td>\n",
       "      <td id=\"T_e3a7e_row1_col1\" class=\"data row1 col1\" >0.7840</td>\n",
       "      <td id=\"T_e3a7e_row1_col2\" class=\"data row1 col2\" >0.8347</td>\n",
       "      <td id=\"T_e3a7e_row1_col3\" class=\"data row1 col3\" >0.5822</td>\n",
       "      <td id=\"T_e3a7e_row1_col4\" class=\"data row1 col4\" >0.7408</td>\n",
       "      <td id=\"T_e3a7e_row1_col5\" class=\"data row1 col5\" >0.6459</td>\n",
       "      <td id=\"T_e3a7e_row1_col6\" class=\"data row1 col6\" >0.4956</td>\n",
       "      <td id=\"T_e3a7e_row1_col7\" class=\"data row1 col7\" >0.5064</td>\n",
       "      <td id=\"T_e3a7e_row1_col8\" class=\"data row1 col8\" >0.0130</td>\n",
       "    </tr>\n",
       "    <tr>\n",
       "      <th id=\"T_e3a7e_level0_row2\" class=\"row_heading level0 row2\" >rf</th>\n",
       "      <td id=\"T_e3a7e_row2_col0\" class=\"data row2 col0\" >Random Forest Classifier</td>\n",
       "      <td id=\"T_e3a7e_row2_col1\" class=\"data row2 col1\" >0.7803</td>\n",
       "      <td id=\"T_e3a7e_row2_col2\" class=\"data row2 col2\" >0.8386</td>\n",
       "      <td id=\"T_e3a7e_row2_col3\" class=\"data row2 col3\" >0.6251</td>\n",
       "      <td id=\"T_e3a7e_row2_col4\" class=\"data row2 col4\" >0.7261</td>\n",
       "      <td id=\"T_e3a7e_row2_col5\" class=\"data row2 col5\" >0.6606</td>\n",
       "      <td id=\"T_e3a7e_row2_col6\" class=\"data row2 col6\" >0.5011</td>\n",
       "      <td id=\"T_e3a7e_row2_col7\" class=\"data row2 col7\" >0.5115</td>\n",
       "      <td id=\"T_e3a7e_row2_col8\" class=\"data row2 col8\" >0.0630</td>\n",
       "    </tr>\n",
       "    <tr>\n",
       "      <th id=\"T_e3a7e_level0_row3\" class=\"row_heading level0 row3\" >lr</th>\n",
       "      <td id=\"T_e3a7e_row3_col0\" class=\"data row3 col0\" >Logistic Regression</td>\n",
       "      <td id=\"T_e3a7e_row3_col1\" class=\"data row3 col1\" >0.7802</td>\n",
       "      <td id=\"T_e3a7e_row3_col2\" class=\"data row3 col2\" >0.8358</td>\n",
       "      <td id=\"T_e3a7e_row3_col3\" class=\"data row3 col3\" >0.5874</td>\n",
       "      <td id=\"T_e3a7e_row3_col4\" class=\"data row3 col4\" >0.7338</td>\n",
       "      <td id=\"T_e3a7e_row3_col5\" class=\"data row3 col5\" >0.6453</td>\n",
       "      <td id=\"T_e3a7e_row3_col6\" class=\"data row3 col6\" >0.4904</td>\n",
       "      <td id=\"T_e3a7e_row3_col7\" class=\"data row3 col7\" >0.5011</td>\n",
       "      <td id=\"T_e3a7e_row3_col8\" class=\"data row3 col8\" >0.6910</td>\n",
       "    </tr>\n",
       "    <tr>\n",
       "      <th id=\"T_e3a7e_level0_row4\" class=\"row_heading level0 row4\" >et</th>\n",
       "      <td id=\"T_e3a7e_row4_col0\" class=\"data row4 col0\" >Extra Trees Classifier</td>\n",
       "      <td id=\"T_e3a7e_row4_col1\" class=\"data row4 col1\" >0.7765</td>\n",
       "      <td id=\"T_e3a7e_row4_col2\" class=\"data row4 col2\" >0.8327</td>\n",
       "      <td id=\"T_e3a7e_row4_col3\" class=\"data row4 col3\" >0.5819</td>\n",
       "      <td id=\"T_e3a7e_row4_col4\" class=\"data row4 col4\" >0.7261</td>\n",
       "      <td id=\"T_e3a7e_row4_col5\" class=\"data row4 col5\" >0.6390</td>\n",
       "      <td id=\"T_e3a7e_row4_col6\" class=\"data row4 col6\" >0.4820</td>\n",
       "      <td id=\"T_e3a7e_row4_col7\" class=\"data row4 col7\" >0.4918</td>\n",
       "      <td id=\"T_e3a7e_row4_col8\" class=\"data row4 col8\" >0.0570</td>\n",
       "    </tr>\n",
       "    <tr>\n",
       "      <th id=\"T_e3a7e_level0_row5\" class=\"row_heading level0 row5\" >gbc</th>\n",
       "      <td id=\"T_e3a7e_row5_col0\" class=\"data row5 col0\" >Gradient Boosting Classifier</td>\n",
       "      <td id=\"T_e3a7e_row5_col1\" class=\"data row5 col1\" >0.7578</td>\n",
       "      <td id=\"T_e3a7e_row5_col2\" class=\"data row5 col2\" >0.8276</td>\n",
       "      <td id=\"T_e3a7e_row5_col3\" class=\"data row5 col3\" >0.6301</td>\n",
       "      <td id=\"T_e3a7e_row5_col4\" class=\"data row5 col4\" >0.6715</td>\n",
       "      <td id=\"T_e3a7e_row5_col5\" class=\"data row5 col5\" >0.6403</td>\n",
       "      <td id=\"T_e3a7e_row5_col6\" class=\"data row5 col6\" >0.4596</td>\n",
       "      <td id=\"T_e3a7e_row5_col7\" class=\"data row5 col7\" >0.4674</td>\n",
       "      <td id=\"T_e3a7e_row5_col8\" class=\"data row5 col8\" >0.0380</td>\n",
       "    </tr>\n",
       "    <tr>\n",
       "      <th id=\"T_e3a7e_level0_row6\" class=\"row_heading level0 row6\" >nb</th>\n",
       "      <td id=\"T_e3a7e_row6_col0\" class=\"data row6 col0\" >Naive Bayes</td>\n",
       "      <td id=\"T_e3a7e_row6_col1\" class=\"data row6 col1\" >0.7543</td>\n",
       "      <td id=\"T_e3a7e_row6_col2\" class=\"data row6 col2\" >0.8108</td>\n",
       "      <td id=\"T_e3a7e_row6_col3\" class=\"data row6 col3\" >0.6149</td>\n",
       "      <td id=\"T_e3a7e_row6_col4\" class=\"data row6 col4\" >0.6558</td>\n",
       "      <td id=\"T_e3a7e_row6_col5\" class=\"data row6 col5\" >0.6298</td>\n",
       "      <td id=\"T_e3a7e_row6_col6\" class=\"data row6 col6\" >0.4473</td>\n",
       "      <td id=\"T_e3a7e_row6_col7\" class=\"data row6 col7\" >0.4515</td>\n",
       "      <td id=\"T_e3a7e_row6_col8\" class=\"data row6 col8\" >0.0130</td>\n",
       "    </tr>\n",
       "    <tr>\n",
       "      <th id=\"T_e3a7e_level0_row7\" class=\"row_heading level0 row7\" >xgboost</th>\n",
       "      <td id=\"T_e3a7e_row7_col0\" class=\"data row7 col0\" >Extreme Gradient Boosting</td>\n",
       "      <td id=\"T_e3a7e_row7_col1\" class=\"data row7 col1\" >0.7505</td>\n",
       "      <td id=\"T_e3a7e_row7_col2\" class=\"data row7 col2\" >0.8089</td>\n",
       "      <td id=\"T_e3a7e_row7_col3\" class=\"data row7 col3\" >0.6360</td>\n",
       "      <td id=\"T_e3a7e_row7_col4\" class=\"data row7 col4\" >0.6507</td>\n",
       "      <td id=\"T_e3a7e_row7_col5\" class=\"data row7 col5\" >0.6358</td>\n",
       "      <td id=\"T_e3a7e_row7_col6\" class=\"data row7 col6\" >0.4477</td>\n",
       "      <td id=\"T_e3a7e_row7_col7\" class=\"data row7 col7\" >0.4531</td>\n",
       "      <td id=\"T_e3a7e_row7_col8\" class=\"data row7 col8\" >0.0330</td>\n",
       "    </tr>\n",
       "    <tr>\n",
       "      <th id=\"T_e3a7e_level0_row8\" class=\"row_heading level0 row8\" >ada</th>\n",
       "      <td id=\"T_e3a7e_row8_col0\" class=\"data row8 col0\" >Ada Boost Classifier</td>\n",
       "      <td id=\"T_e3a7e_row8_col1\" class=\"data row8 col1\" >0.7486</td>\n",
       "      <td id=\"T_e3a7e_row8_col2\" class=\"data row8 col2\" >0.8100</td>\n",
       "      <td id=\"T_e3a7e_row8_col3\" class=\"data row8 col3\" >0.5763</td>\n",
       "      <td id=\"T_e3a7e_row8_col4\" class=\"data row8 col4\" >0.6588</td>\n",
       "      <td id=\"T_e3a7e_row8_col5\" class=\"data row8 col5\" >0.6075</td>\n",
       "      <td id=\"T_e3a7e_row8_col6\" class=\"data row8 col6\" >0.4261</td>\n",
       "      <td id=\"T_e3a7e_row8_col7\" class=\"data row8 col7\" >0.4322</td>\n",
       "      <td id=\"T_e3a7e_row8_col8\" class=\"data row8 col8\" >0.0300</td>\n",
       "    </tr>\n",
       "    <tr>\n",
       "      <th id=\"T_e3a7e_level0_row9\" class=\"row_heading level0 row9\" >dt</th>\n",
       "      <td id=\"T_e3a7e_row9_col0\" class=\"data row9 col0\" >Decision Tree Classifier</td>\n",
       "      <td id=\"T_e3a7e_row9_col1\" class=\"data row9 col1\" >0.7432</td>\n",
       "      <td id=\"T_e3a7e_row9_col2\" class=\"data row9 col2\" >0.7157</td>\n",
       "      <td id=\"T_e3a7e_row9_col3\" class=\"data row9 col3\" >0.6257</td>\n",
       "      <td id=\"T_e3a7e_row9_col4\" class=\"data row9 col4\" >0.6377</td>\n",
       "      <td id=\"T_e3a7e_row9_col5\" class=\"data row9 col5\" >0.6297</td>\n",
       "      <td id=\"T_e3a7e_row9_col6\" class=\"data row9 col6\" >0.4334</td>\n",
       "      <td id=\"T_e3a7e_row9_col7\" class=\"data row9 col7\" >0.4351</td>\n",
       "      <td id=\"T_e3a7e_row9_col8\" class=\"data row9 col8\" >0.0140</td>\n",
       "    </tr>\n",
       "    <tr>\n",
       "      <th id=\"T_e3a7e_level0_row10\" class=\"row_heading level0 row10\" >qda</th>\n",
       "      <td id=\"T_e3a7e_row10_col0\" class=\"data row10 col0\" >Quadratic Discriminant Analysis</td>\n",
       "      <td id=\"T_e3a7e_row10_col1\" class=\"data row10 col1\" >0.7411</td>\n",
       "      <td id=\"T_e3a7e_row10_col2\" class=\"data row10 col2\" >0.8116</td>\n",
       "      <td id=\"T_e3a7e_row10_col3\" class=\"data row10 col3\" >0.5716</td>\n",
       "      <td id=\"T_e3a7e_row10_col4\" class=\"data row10 col4\" >0.6469</td>\n",
       "      <td id=\"T_e3a7e_row10_col5\" class=\"data row10 col5\" >0.6037</td>\n",
       "      <td id=\"T_e3a7e_row10_col6\" class=\"data row10 col6\" >0.4131</td>\n",
       "      <td id=\"T_e3a7e_row10_col7\" class=\"data row10 col7\" >0.4172</td>\n",
       "      <td id=\"T_e3a7e_row10_col8\" class=\"data row10 col8\" >0.0120</td>\n",
       "    </tr>\n",
       "    <tr>\n",
       "      <th id=\"T_e3a7e_level0_row11\" class=\"row_heading level0 row11\" >knn</th>\n",
       "      <td id=\"T_e3a7e_row11_col0\" class=\"data row11 col0\" >K Neighbors Classifier</td>\n",
       "      <td id=\"T_e3a7e_row11_col1\" class=\"data row11 col1\" >0.7376</td>\n",
       "      <td id=\"T_e3a7e_row11_col2\" class=\"data row11 col2\" >0.7742</td>\n",
       "      <td id=\"T_e3a7e_row11_col3\" class=\"data row11 col3\" >0.5512</td>\n",
       "      <td id=\"T_e3a7e_row11_col4\" class=\"data row11 col4\" >0.6470</td>\n",
       "      <td id=\"T_e3a7e_row11_col5\" class=\"data row11 col5\" >0.5908</td>\n",
       "      <td id=\"T_e3a7e_row11_col6\" class=\"data row11 col6\" >0.4006</td>\n",
       "      <td id=\"T_e3a7e_row11_col7\" class=\"data row11 col7\" >0.4063</td>\n",
       "      <td id=\"T_e3a7e_row11_col8\" class=\"data row11 col8\" >0.0590</td>\n",
       "    </tr>\n",
       "    <tr>\n",
       "      <th id=\"T_e3a7e_level0_row12\" class=\"row_heading level0 row12\" >lightgbm</th>\n",
       "      <td id=\"T_e3a7e_row12_col0\" class=\"data row12 col0\" >Light Gradient Boosting Machine</td>\n",
       "      <td id=\"T_e3a7e_row12_col1\" class=\"data row12 col1\" >0.7354</td>\n",
       "      <td id=\"T_e3a7e_row12_col2\" class=\"data row12 col2\" >0.8066</td>\n",
       "      <td id=\"T_e3a7e_row12_col3\" class=\"data row12 col3\" >0.5868</td>\n",
       "      <td id=\"T_e3a7e_row12_col4\" class=\"data row12 col4\" >0.6374</td>\n",
       "      <td id=\"T_e3a7e_row12_col5\" class=\"data row12 col5\" >0.6031</td>\n",
       "      <td id=\"T_e3a7e_row12_col6\" class=\"data row12 col6\" >0.4068</td>\n",
       "      <td id=\"T_e3a7e_row12_col7\" class=\"data row12 col7\" >0.4130</td>\n",
       "      <td id=\"T_e3a7e_row12_col8\" class=\"data row12 col8\" >0.0320</td>\n",
       "    </tr>\n",
       "    <tr>\n",
       "      <th id=\"T_e3a7e_level0_row13\" class=\"row_heading level0 row13\" >dummy</th>\n",
       "      <td id=\"T_e3a7e_row13_col0\" class=\"data row13 col0\" >Dummy Classifier</td>\n",
       "      <td id=\"T_e3a7e_row13_col1\" class=\"data row13 col1\" >0.6518</td>\n",
       "      <td id=\"T_e3a7e_row13_col2\" class=\"data row13 col2\" >0.5000</td>\n",
       "      <td id=\"T_e3a7e_row13_col3\" class=\"data row13 col3\" >0.0000</td>\n",
       "      <td id=\"T_e3a7e_row13_col4\" class=\"data row13 col4\" >0.0000</td>\n",
       "      <td id=\"T_e3a7e_row13_col5\" class=\"data row13 col5\" >0.0000</td>\n",
       "      <td id=\"T_e3a7e_row13_col6\" class=\"data row13 col6\" >0.0000</td>\n",
       "      <td id=\"T_e3a7e_row13_col7\" class=\"data row13 col7\" >0.0000</td>\n",
       "      <td id=\"T_e3a7e_row13_col8\" class=\"data row13 col8\" >0.0140</td>\n",
       "    </tr>\n",
       "    <tr>\n",
       "      <th id=\"T_e3a7e_level0_row14\" class=\"row_heading level0 row14\" >svm</th>\n",
       "      <td id=\"T_e3a7e_row14_col0\" class=\"data row14 col0\" >SVM - Linear Kernel</td>\n",
       "      <td id=\"T_e3a7e_row14_col1\" class=\"data row14 col1\" >0.5636</td>\n",
       "      <td id=\"T_e3a7e_row14_col2\" class=\"data row14 col2\" >0.0000</td>\n",
       "      <td id=\"T_e3a7e_row14_col3\" class=\"data row14 col3\" >0.5368</td>\n",
       "      <td id=\"T_e3a7e_row14_col4\" class=\"data row14 col4\" >0.5358</td>\n",
       "      <td id=\"T_e3a7e_row14_col5\" class=\"data row14 col5\" >0.3945</td>\n",
       "      <td id=\"T_e3a7e_row14_col6\" class=\"data row14 col6\" >0.1143</td>\n",
       "      <td id=\"T_e3a7e_row14_col7\" class=\"data row14 col7\" >0.1584</td>\n",
       "      <td id=\"T_e3a7e_row14_col8\" class=\"data row14 col8\" >0.0120</td>\n",
       "    </tr>\n",
       "  </tbody>\n",
       "</table>\n"
      ],
      "text/plain": [
       "<pandas.io.formats.style.Styler at 0x1de7540d060>"
      ]
     },
     "metadata": {},
     "output_type": "display_data"
    },
    {
     "data": {
      "text/html": [],
      "text/plain": [
       "<IPython.core.display.HTML object>"
      ]
     },
     "metadata": {},
     "output_type": "display_data"
    }
   ],
   "source": [
    "#compare models\n",
    "a=compare_models()"
   ]
  },
  {
   "cell_type": "markdown",
   "metadata": {},
   "source": [
    "Regression"
   ]
  },
  {
   "cell_type": "code",
   "execution_count": 13,
   "metadata": {},
   "outputs": [
    {
     "data": {
      "text/html": [
       "<div>\n",
       "<style scoped>\n",
       "    .dataframe tbody tr th:only-of-type {\n",
       "        vertical-align: middle;\n",
       "    }\n",
       "\n",
       "    .dataframe tbody tr th {\n",
       "        vertical-align: top;\n",
       "    }\n",
       "\n",
       "    .dataframe thead th {\n",
       "        text-align: right;\n",
       "    }\n",
       "</style>\n",
       "<table border=\"1\" class=\"dataframe\">\n",
       "  <thead>\n",
       "    <tr style=\"text-align: right;\">\n",
       "      <th></th>\n",
       "      <th>crim</th>\n",
       "      <th>zn</th>\n",
       "      <th>indus</th>\n",
       "      <th>chas</th>\n",
       "      <th>nox</th>\n",
       "      <th>rm</th>\n",
       "      <th>age</th>\n",
       "      <th>dis</th>\n",
       "      <th>rad</th>\n",
       "      <th>tax</th>\n",
       "      <th>ptratio</th>\n",
       "      <th>black</th>\n",
       "      <th>lstat</th>\n",
       "      <th>medv</th>\n",
       "    </tr>\n",
       "  </thead>\n",
       "  <tbody>\n",
       "    <tr>\n",
       "      <th>0</th>\n",
       "      <td>0.00632</td>\n",
       "      <td>18.0</td>\n",
       "      <td>2.31</td>\n",
       "      <td>0</td>\n",
       "      <td>0.538</td>\n",
       "      <td>6.575</td>\n",
       "      <td>65.2</td>\n",
       "      <td>4.0900</td>\n",
       "      <td>1</td>\n",
       "      <td>296</td>\n",
       "      <td>15.3</td>\n",
       "      <td>396.90</td>\n",
       "      <td>4.98</td>\n",
       "      <td>24.0</td>\n",
       "    </tr>\n",
       "    <tr>\n",
       "      <th>1</th>\n",
       "      <td>0.02731</td>\n",
       "      <td>0.0</td>\n",
       "      <td>7.07</td>\n",
       "      <td>0</td>\n",
       "      <td>0.469</td>\n",
       "      <td>6.421</td>\n",
       "      <td>78.9</td>\n",
       "      <td>4.9671</td>\n",
       "      <td>2</td>\n",
       "      <td>242</td>\n",
       "      <td>17.8</td>\n",
       "      <td>396.90</td>\n",
       "      <td>9.14</td>\n",
       "      <td>21.6</td>\n",
       "    </tr>\n",
       "    <tr>\n",
       "      <th>2</th>\n",
       "      <td>0.02729</td>\n",
       "      <td>0.0</td>\n",
       "      <td>7.07</td>\n",
       "      <td>0</td>\n",
       "      <td>0.469</td>\n",
       "      <td>7.185</td>\n",
       "      <td>61.1</td>\n",
       "      <td>4.9671</td>\n",
       "      <td>2</td>\n",
       "      <td>242</td>\n",
       "      <td>17.8</td>\n",
       "      <td>392.83</td>\n",
       "      <td>4.03</td>\n",
       "      <td>34.7</td>\n",
       "    </tr>\n",
       "    <tr>\n",
       "      <th>3</th>\n",
       "      <td>0.03237</td>\n",
       "      <td>0.0</td>\n",
       "      <td>2.18</td>\n",
       "      <td>0</td>\n",
       "      <td>0.458</td>\n",
       "      <td>6.998</td>\n",
       "      <td>45.8</td>\n",
       "      <td>6.0622</td>\n",
       "      <td>3</td>\n",
       "      <td>222</td>\n",
       "      <td>18.7</td>\n",
       "      <td>394.63</td>\n",
       "      <td>2.94</td>\n",
       "      <td>33.4</td>\n",
       "    </tr>\n",
       "    <tr>\n",
       "      <th>4</th>\n",
       "      <td>0.06905</td>\n",
       "      <td>0.0</td>\n",
       "      <td>2.18</td>\n",
       "      <td>0</td>\n",
       "      <td>0.458</td>\n",
       "      <td>7.147</td>\n",
       "      <td>54.2</td>\n",
       "      <td>6.0622</td>\n",
       "      <td>3</td>\n",
       "      <td>222</td>\n",
       "      <td>18.7</td>\n",
       "      <td>396.90</td>\n",
       "      <td>5.33</td>\n",
       "      <td>36.2</td>\n",
       "    </tr>\n",
       "  </tbody>\n",
       "</table>\n",
       "</div>"
      ],
      "text/plain": [
       "      crim    zn  indus  chas    nox  ...  tax  ptratio   black  lstat  medv\n",
       "0  0.00632  18.0   2.31     0  0.538  ...  296     15.3  396.90   4.98  24.0\n",
       "1  0.02731   0.0   7.07     0  0.469  ...  242     17.8  396.90   9.14  21.6\n",
       "2  0.02729   0.0   7.07     0  0.469  ...  242     17.8  392.83   4.03  34.7\n",
       "3  0.03237   0.0   2.18     0  0.458  ...  222     18.7  394.63   2.94  33.4\n",
       "4  0.06905   0.0   2.18     0  0.458  ...  222     18.7  396.90   5.33  36.2\n",
       "\n",
       "[5 rows x 14 columns]"
      ]
     },
     "metadata": {},
     "output_type": "display_data"
    }
   ],
   "source": [
    "boston_df=get_data('boston')"
   ]
  },
  {
   "cell_type": "code",
   "execution_count": 16,
   "metadata": {},
   "outputs": [
    {
     "data": {
      "text/html": [
       "<style type=\"text/css\">\n",
       "#T_307a3_row8_col1 {\n",
       "  background-color: lightgreen;\n",
       "}\n",
       "</style>\n",
       "<table id=\"T_307a3\">\n",
       "  <thead>\n",
       "    <tr>\n",
       "      <th class=\"blank level0\" >&nbsp;</th>\n",
       "      <th id=\"T_307a3_level0_col0\" class=\"col_heading level0 col0\" >Description</th>\n",
       "      <th id=\"T_307a3_level0_col1\" class=\"col_heading level0 col1\" >Value</th>\n",
       "    </tr>\n",
       "  </thead>\n",
       "  <tbody>\n",
       "    <tr>\n",
       "      <th id=\"T_307a3_level0_row0\" class=\"row_heading level0 row0\" >0</th>\n",
       "      <td id=\"T_307a3_row0_col0\" class=\"data row0 col0\" >Session id</td>\n",
       "      <td id=\"T_307a3_row0_col1\" class=\"data row0 col1\" >1641</td>\n",
       "    </tr>\n",
       "    <tr>\n",
       "      <th id=\"T_307a3_level0_row1\" class=\"row_heading level0 row1\" >1</th>\n",
       "      <td id=\"T_307a3_row1_col0\" class=\"data row1 col0\" >Target</td>\n",
       "      <td id=\"T_307a3_row1_col1\" class=\"data row1 col1\" >medv</td>\n",
       "    </tr>\n",
       "    <tr>\n",
       "      <th id=\"T_307a3_level0_row2\" class=\"row_heading level0 row2\" >2</th>\n",
       "      <td id=\"T_307a3_row2_col0\" class=\"data row2 col0\" >Target type</td>\n",
       "      <td id=\"T_307a3_row2_col1\" class=\"data row2 col1\" >Regression</td>\n",
       "    </tr>\n",
       "    <tr>\n",
       "      <th id=\"T_307a3_level0_row3\" class=\"row_heading level0 row3\" >3</th>\n",
       "      <td id=\"T_307a3_row3_col0\" class=\"data row3 col0\" >Original data shape</td>\n",
       "      <td id=\"T_307a3_row3_col1\" class=\"data row3 col1\" >(506, 14)</td>\n",
       "    </tr>\n",
       "    <tr>\n",
       "      <th id=\"T_307a3_level0_row4\" class=\"row_heading level0 row4\" >4</th>\n",
       "      <td id=\"T_307a3_row4_col0\" class=\"data row4 col0\" >Transformed data shape</td>\n",
       "      <td id=\"T_307a3_row4_col1\" class=\"data row4 col1\" >(506, 14)</td>\n",
       "    </tr>\n",
       "    <tr>\n",
       "      <th id=\"T_307a3_level0_row5\" class=\"row_heading level0 row5\" >5</th>\n",
       "      <td id=\"T_307a3_row5_col0\" class=\"data row5 col0\" >Transformed train set shape</td>\n",
       "      <td id=\"T_307a3_row5_col1\" class=\"data row5 col1\" >(354, 14)</td>\n",
       "    </tr>\n",
       "    <tr>\n",
       "      <th id=\"T_307a3_level0_row6\" class=\"row_heading level0 row6\" >6</th>\n",
       "      <td id=\"T_307a3_row6_col0\" class=\"data row6 col0\" >Transformed test set shape</td>\n",
       "      <td id=\"T_307a3_row6_col1\" class=\"data row6 col1\" >(152, 14)</td>\n",
       "    </tr>\n",
       "    <tr>\n",
       "      <th id=\"T_307a3_level0_row7\" class=\"row_heading level0 row7\" >7</th>\n",
       "      <td id=\"T_307a3_row7_col0\" class=\"data row7 col0\" >Numeric features</td>\n",
       "      <td id=\"T_307a3_row7_col1\" class=\"data row7 col1\" >13</td>\n",
       "    </tr>\n",
       "    <tr>\n",
       "      <th id=\"T_307a3_level0_row8\" class=\"row_heading level0 row8\" >8</th>\n",
       "      <td id=\"T_307a3_row8_col0\" class=\"data row8 col0\" >Preprocess</td>\n",
       "      <td id=\"T_307a3_row8_col1\" class=\"data row8 col1\" >True</td>\n",
       "    </tr>\n",
       "    <tr>\n",
       "      <th id=\"T_307a3_level0_row9\" class=\"row_heading level0 row9\" >9</th>\n",
       "      <td id=\"T_307a3_row9_col0\" class=\"data row9 col0\" >Imputation type</td>\n",
       "      <td id=\"T_307a3_row9_col1\" class=\"data row9 col1\" >simple</td>\n",
       "    </tr>\n",
       "    <tr>\n",
       "      <th id=\"T_307a3_level0_row10\" class=\"row_heading level0 row10\" >10</th>\n",
       "      <td id=\"T_307a3_row10_col0\" class=\"data row10 col0\" >Numeric imputation</td>\n",
       "      <td id=\"T_307a3_row10_col1\" class=\"data row10 col1\" >mean</td>\n",
       "    </tr>\n",
       "    <tr>\n",
       "      <th id=\"T_307a3_level0_row11\" class=\"row_heading level0 row11\" >11</th>\n",
       "      <td id=\"T_307a3_row11_col0\" class=\"data row11 col0\" >Categorical imputation</td>\n",
       "      <td id=\"T_307a3_row11_col1\" class=\"data row11 col1\" >mode</td>\n",
       "    </tr>\n",
       "    <tr>\n",
       "      <th id=\"T_307a3_level0_row12\" class=\"row_heading level0 row12\" >12</th>\n",
       "      <td id=\"T_307a3_row12_col0\" class=\"data row12 col0\" >Fold Generator</td>\n",
       "      <td id=\"T_307a3_row12_col1\" class=\"data row12 col1\" >KFold</td>\n",
       "    </tr>\n",
       "    <tr>\n",
       "      <th id=\"T_307a3_level0_row13\" class=\"row_heading level0 row13\" >13</th>\n",
       "      <td id=\"T_307a3_row13_col0\" class=\"data row13 col0\" >Fold Number</td>\n",
       "      <td id=\"T_307a3_row13_col1\" class=\"data row13 col1\" >10</td>\n",
       "    </tr>\n",
       "    <tr>\n",
       "      <th id=\"T_307a3_level0_row14\" class=\"row_heading level0 row14\" >14</th>\n",
       "      <td id=\"T_307a3_row14_col0\" class=\"data row14 col0\" >CPU Jobs</td>\n",
       "      <td id=\"T_307a3_row14_col1\" class=\"data row14 col1\" >-1</td>\n",
       "    </tr>\n",
       "    <tr>\n",
       "      <th id=\"T_307a3_level0_row15\" class=\"row_heading level0 row15\" >15</th>\n",
       "      <td id=\"T_307a3_row15_col0\" class=\"data row15 col0\" >Use GPU</td>\n",
       "      <td id=\"T_307a3_row15_col1\" class=\"data row15 col1\" >False</td>\n",
       "    </tr>\n",
       "    <tr>\n",
       "      <th id=\"T_307a3_level0_row16\" class=\"row_heading level0 row16\" >16</th>\n",
       "      <td id=\"T_307a3_row16_col0\" class=\"data row16 col0\" >Log Experiment</td>\n",
       "      <td id=\"T_307a3_row16_col1\" class=\"data row16 col1\" >False</td>\n",
       "    </tr>\n",
       "    <tr>\n",
       "      <th id=\"T_307a3_level0_row17\" class=\"row_heading level0 row17\" >17</th>\n",
       "      <td id=\"T_307a3_row17_col0\" class=\"data row17 col0\" >Experiment Name</td>\n",
       "      <td id=\"T_307a3_row17_col1\" class=\"data row17 col1\" >reg-default-name</td>\n",
       "    </tr>\n",
       "    <tr>\n",
       "      <th id=\"T_307a3_level0_row18\" class=\"row_heading level0 row18\" >18</th>\n",
       "      <td id=\"T_307a3_row18_col0\" class=\"data row18 col0\" >USI</td>\n",
       "      <td id=\"T_307a3_row18_col1\" class=\"data row18 col1\" >42ad</td>\n",
       "    </tr>\n",
       "  </tbody>\n",
       "</table>\n"
      ],
      "text/plain": [
       "<pandas.io.formats.style.Styler at 0x1de7f1bc250>"
      ]
     },
     "metadata": {},
     "output_type": "display_data"
    }
   ],
   "source": [
    "from pycaret.regression import *\n",
    "reg=setup(data=boston_df,target='medv')"
   ]
  },
  {
   "cell_type": "code",
   "execution_count": 17,
   "metadata": {},
   "outputs": [
    {
     "data": {
      "text/html": [],
      "text/plain": [
       "<IPython.core.display.HTML object>"
      ]
     },
     "metadata": {},
     "output_type": "display_data"
    },
    {
     "data": {
      "text/html": [
       "<style type=\"text/css\">\n",
       "#T_589a6 th {\n",
       "  text-align: left;\n",
       "}\n",
       "#T_589a6_row0_col0, #T_589a6_row1_col0, #T_589a6_row1_col1, #T_589a6_row1_col2, #T_589a6_row1_col3, #T_589a6_row1_col4, #T_589a6_row1_col5, #T_589a6_row1_col6, #T_589a6_row2_col0, #T_589a6_row2_col1, #T_589a6_row2_col2, #T_589a6_row2_col3, #T_589a6_row2_col4, #T_589a6_row2_col5, #T_589a6_row2_col6, #T_589a6_row3_col0, #T_589a6_row3_col1, #T_589a6_row3_col2, #T_589a6_row3_col3, #T_589a6_row3_col4, #T_589a6_row3_col5, #T_589a6_row3_col6, #T_589a6_row4_col0, #T_589a6_row4_col1, #T_589a6_row4_col2, #T_589a6_row4_col3, #T_589a6_row4_col4, #T_589a6_row4_col5, #T_589a6_row4_col6, #T_589a6_row5_col0, #T_589a6_row5_col1, #T_589a6_row5_col2, #T_589a6_row5_col3, #T_589a6_row5_col4, #T_589a6_row5_col5, #T_589a6_row5_col6, #T_589a6_row6_col0, #T_589a6_row6_col1, #T_589a6_row6_col2, #T_589a6_row6_col3, #T_589a6_row6_col4, #T_589a6_row6_col5, #T_589a6_row6_col6, #T_589a6_row7_col0, #T_589a6_row7_col1, #T_589a6_row7_col2, #T_589a6_row7_col3, #T_589a6_row7_col4, #T_589a6_row7_col5, #T_589a6_row7_col6, #T_589a6_row8_col0, #T_589a6_row8_col1, #T_589a6_row8_col2, #T_589a6_row8_col3, #T_589a6_row8_col4, #T_589a6_row8_col5, #T_589a6_row8_col6, #T_589a6_row9_col0, #T_589a6_row9_col1, #T_589a6_row9_col2, #T_589a6_row9_col3, #T_589a6_row9_col4, #T_589a6_row9_col5, #T_589a6_row9_col6, #T_589a6_row10_col0, #T_589a6_row10_col1, #T_589a6_row10_col2, #T_589a6_row10_col3, #T_589a6_row10_col4, #T_589a6_row10_col5, #T_589a6_row10_col6, #T_589a6_row11_col0, #T_589a6_row11_col1, #T_589a6_row11_col2, #T_589a6_row11_col3, #T_589a6_row11_col4, #T_589a6_row11_col5, #T_589a6_row11_col6, #T_589a6_row12_col0, #T_589a6_row12_col1, #T_589a6_row12_col2, #T_589a6_row12_col3, #T_589a6_row12_col4, #T_589a6_row12_col5, #T_589a6_row12_col6, #T_589a6_row13_col0, #T_589a6_row13_col1, #T_589a6_row13_col2, #T_589a6_row13_col3, #T_589a6_row13_col4, #T_589a6_row13_col5, #T_589a6_row13_col6, #T_589a6_row14_col0, #T_589a6_row14_col1, #T_589a6_row14_col2, #T_589a6_row14_col3, #T_589a6_row14_col4, #T_589a6_row14_col5, #T_589a6_row14_col6, #T_589a6_row15_col0, #T_589a6_row15_col1, #T_589a6_row15_col2, #T_589a6_row15_col3, #T_589a6_row15_col4, #T_589a6_row15_col5, #T_589a6_row15_col6, #T_589a6_row16_col0, #T_589a6_row16_col1, #T_589a6_row16_col2, #T_589a6_row16_col3, #T_589a6_row16_col4, #T_589a6_row16_col5, #T_589a6_row16_col6, #T_589a6_row17_col0, #T_589a6_row17_col1, #T_589a6_row17_col2, #T_589a6_row17_col3, #T_589a6_row17_col4, #T_589a6_row17_col5, #T_589a6_row17_col6, #T_589a6_row18_col0, #T_589a6_row18_col1, #T_589a6_row18_col2, #T_589a6_row18_col3, #T_589a6_row18_col4, #T_589a6_row18_col5, #T_589a6_row18_col6 {\n",
       "  text-align: left;\n",
       "}\n",
       "#T_589a6_row0_col1, #T_589a6_row0_col2, #T_589a6_row0_col3, #T_589a6_row0_col4, #T_589a6_row0_col5, #T_589a6_row0_col6 {\n",
       "  text-align: left;\n",
       "  background-color: yellow;\n",
       "}\n",
       "#T_589a6_row0_col7, #T_589a6_row1_col7, #T_589a6_row2_col7, #T_589a6_row3_col7, #T_589a6_row4_col7, #T_589a6_row5_col7, #T_589a6_row6_col7, #T_589a6_row7_col7, #T_589a6_row8_col7, #T_589a6_row10_col7, #T_589a6_row11_col7, #T_589a6_row12_col7, #T_589a6_row13_col7, #T_589a6_row14_col7, #T_589a6_row15_col7, #T_589a6_row17_col7, #T_589a6_row18_col7 {\n",
       "  text-align: left;\n",
       "  background-color: lightgrey;\n",
       "}\n",
       "#T_589a6_row9_col7, #T_589a6_row16_col7 {\n",
       "  text-align: left;\n",
       "  background-color: yellow;\n",
       "  background-color: lightgrey;\n",
       "}\n",
       "</style>\n",
       "<table id=\"T_589a6\">\n",
       "  <thead>\n",
       "    <tr>\n",
       "      <th class=\"blank level0\" >&nbsp;</th>\n",
       "      <th id=\"T_589a6_level0_col0\" class=\"col_heading level0 col0\" >Model</th>\n",
       "      <th id=\"T_589a6_level0_col1\" class=\"col_heading level0 col1\" >MAE</th>\n",
       "      <th id=\"T_589a6_level0_col2\" class=\"col_heading level0 col2\" >MSE</th>\n",
       "      <th id=\"T_589a6_level0_col3\" class=\"col_heading level0 col3\" >RMSE</th>\n",
       "      <th id=\"T_589a6_level0_col4\" class=\"col_heading level0 col4\" >R2</th>\n",
       "      <th id=\"T_589a6_level0_col5\" class=\"col_heading level0 col5\" >RMSLE</th>\n",
       "      <th id=\"T_589a6_level0_col6\" class=\"col_heading level0 col6\" >MAPE</th>\n",
       "      <th id=\"T_589a6_level0_col7\" class=\"col_heading level0 col7\" >TT (Sec)</th>\n",
       "    </tr>\n",
       "  </thead>\n",
       "  <tbody>\n",
       "    <tr>\n",
       "      <th id=\"T_589a6_level0_row0\" class=\"row_heading level0 row0\" >gbr</th>\n",
       "      <td id=\"T_589a6_row0_col0\" class=\"data row0 col0\" >Gradient Boosting Regressor</td>\n",
       "      <td id=\"T_589a6_row0_col1\" class=\"data row0 col1\" >2.0773</td>\n",
       "      <td id=\"T_589a6_row0_col2\" class=\"data row0 col2\" >9.4996</td>\n",
       "      <td id=\"T_589a6_row0_col3\" class=\"data row0 col3\" >2.9759</td>\n",
       "      <td id=\"T_589a6_row0_col4\" class=\"data row0 col4\" >0.8847</td>\n",
       "      <td id=\"T_589a6_row0_col5\" class=\"data row0 col5\" >0.1347</td>\n",
       "      <td id=\"T_589a6_row0_col6\" class=\"data row0 col6\" >0.1043</td>\n",
       "      <td id=\"T_589a6_row0_col7\" class=\"data row0 col7\" >0.0230</td>\n",
       "    </tr>\n",
       "    <tr>\n",
       "      <th id=\"T_589a6_level0_row1\" class=\"row_heading level0 row1\" >et</th>\n",
       "      <td id=\"T_589a6_row1_col0\" class=\"data row1 col0\" >Extra Trees Regressor</td>\n",
       "      <td id=\"T_589a6_row1_col1\" class=\"data row1 col1\" >2.0983</td>\n",
       "      <td id=\"T_589a6_row1_col2\" class=\"data row1 col2\" >10.4171</td>\n",
       "      <td id=\"T_589a6_row1_col3\" class=\"data row1 col3\" >3.0623</td>\n",
       "      <td id=\"T_589a6_row1_col4\" class=\"data row1 col4\" >0.8766</td>\n",
       "      <td id=\"T_589a6_row1_col5\" class=\"data row1 col5\" >0.1373</td>\n",
       "      <td id=\"T_589a6_row1_col6\" class=\"data row1 col6\" >0.1053</td>\n",
       "      <td id=\"T_589a6_row1_col7\" class=\"data row1 col7\" >0.0430</td>\n",
       "    </tr>\n",
       "    <tr>\n",
       "      <th id=\"T_589a6_level0_row2\" class=\"row_heading level0 row2\" >xgboost</th>\n",
       "      <td id=\"T_589a6_row2_col0\" class=\"data row2 col0\" >Extreme Gradient Boosting</td>\n",
       "      <td id=\"T_589a6_row2_col1\" class=\"data row2 col1\" >2.2487</td>\n",
       "      <td id=\"T_589a6_row2_col2\" class=\"data row2 col2\" >10.5302</td>\n",
       "      <td id=\"T_589a6_row2_col3\" class=\"data row2 col3\" >3.1264</td>\n",
       "      <td id=\"T_589a6_row2_col4\" class=\"data row2 col4\" >0.8720</td>\n",
       "      <td id=\"T_589a6_row2_col5\" class=\"data row2 col5\" >0.1455</td>\n",
       "      <td id=\"T_589a6_row2_col6\" class=\"data row2 col6\" >0.1139</td>\n",
       "      <td id=\"T_589a6_row2_col7\" class=\"data row2 col7\" >0.0340</td>\n",
       "    </tr>\n",
       "    <tr>\n",
       "      <th id=\"T_589a6_level0_row3\" class=\"row_heading level0 row3\" >rf</th>\n",
       "      <td id=\"T_589a6_row3_col0\" class=\"data row3 col0\" >Random Forest Regressor</td>\n",
       "      <td id=\"T_589a6_row3_col1\" class=\"data row3 col1\" >2.2876</td>\n",
       "      <td id=\"T_589a6_row3_col2\" class=\"data row3 col2\" >11.2854</td>\n",
       "      <td id=\"T_589a6_row3_col3\" class=\"data row3 col3\" >3.2469</td>\n",
       "      <td id=\"T_589a6_row3_col4\" class=\"data row3 col4\" >0.8661</td>\n",
       "      <td id=\"T_589a6_row3_col5\" class=\"data row3 col5\" >0.1499</td>\n",
       "      <td id=\"T_589a6_row3_col6\" class=\"data row3 col6\" >0.1174</td>\n",
       "      <td id=\"T_589a6_row3_col7\" class=\"data row3 col7\" >0.0560</td>\n",
       "    </tr>\n",
       "    <tr>\n",
       "      <th id=\"T_589a6_level0_row4\" class=\"row_heading level0 row4\" >lightgbm</th>\n",
       "      <td id=\"T_589a6_row4_col0\" class=\"data row4 col0\" >Light Gradient Boosting Machine</td>\n",
       "      <td id=\"T_589a6_row4_col1\" class=\"data row4 col1\" >2.3226</td>\n",
       "      <td id=\"T_589a6_row4_col2\" class=\"data row4 col2\" >12.7832</td>\n",
       "      <td id=\"T_589a6_row4_col3\" class=\"data row4 col3\" >3.4052</td>\n",
       "      <td id=\"T_589a6_row4_col4\" class=\"data row4 col4\" >0.8505</td>\n",
       "      <td id=\"T_589a6_row4_col5\" class=\"data row4 col5\" >0.1535</td>\n",
       "      <td id=\"T_589a6_row4_col6\" class=\"data row4 col6\" >0.1165</td>\n",
       "      <td id=\"T_589a6_row4_col7\" class=\"data row4 col7\" >0.0160</td>\n",
       "    </tr>\n",
       "    <tr>\n",
       "      <th id=\"T_589a6_level0_row5\" class=\"row_heading level0 row5\" >ada</th>\n",
       "      <td id=\"T_589a6_row5_col0\" class=\"data row5 col0\" >AdaBoost Regressor</td>\n",
       "      <td id=\"T_589a6_row5_col1\" class=\"data row5 col1\" >2.7958</td>\n",
       "      <td id=\"T_589a6_row5_col2\" class=\"data row5 col2\" >15.3100</td>\n",
       "      <td id=\"T_589a6_row5_col3\" class=\"data row5 col3\" >3.7983</td>\n",
       "      <td id=\"T_589a6_row5_col4\" class=\"data row5 col4\" >0.8170</td>\n",
       "      <td id=\"T_589a6_row5_col5\" class=\"data row5 col5\" >0.1751</td>\n",
       "      <td id=\"T_589a6_row5_col6\" class=\"data row5 col6\" >0.1474</td>\n",
       "      <td id=\"T_589a6_row5_col7\" class=\"data row5 col7\" >0.0240</td>\n",
       "    </tr>\n",
       "    <tr>\n",
       "      <th id=\"T_589a6_level0_row6\" class=\"row_heading level0 row6\" >dt</th>\n",
       "      <td id=\"T_589a6_row6_col0\" class=\"data row6 col0\" >Decision Tree Regressor</td>\n",
       "      <td id=\"T_589a6_row6_col1\" class=\"data row6 col1\" >2.8920</td>\n",
       "      <td id=\"T_589a6_row6_col2\" class=\"data row6 col2\" >19.4683</td>\n",
       "      <td id=\"T_589a6_row6_col3\" class=\"data row6 col3\" >4.2173</td>\n",
       "      <td id=\"T_589a6_row6_col4\" class=\"data row6 col4\" >0.7626</td>\n",
       "      <td id=\"T_589a6_row6_col5\" class=\"data row6 col5\" >0.2000</td>\n",
       "      <td id=\"T_589a6_row6_col6\" class=\"data row6 col6\" >0.1474</td>\n",
       "      <td id=\"T_589a6_row6_col7\" class=\"data row6 col7\" >0.0090</td>\n",
       "    </tr>\n",
       "    <tr>\n",
       "      <th id=\"T_589a6_level0_row7\" class=\"row_heading level0 row7\" >lr</th>\n",
       "      <td id=\"T_589a6_row7_col0\" class=\"data row7 col0\" >Linear Regression</td>\n",
       "      <td id=\"T_589a6_row7_col1\" class=\"data row7 col1\" >3.1935</td>\n",
       "      <td id=\"T_589a6_row7_col2\" class=\"data row7 col2\" >20.9043</td>\n",
       "      <td id=\"T_589a6_row7_col3\" class=\"data row7 col3\" >4.4366</td>\n",
       "      <td id=\"T_589a6_row7_col4\" class=\"data row7 col4\" >0.7486</td>\n",
       "      <td id=\"T_589a6_row7_col5\" class=\"data row7 col5\" >0.2153</td>\n",
       "      <td id=\"T_589a6_row7_col6\" class=\"data row7 col6\" >0.1622</td>\n",
       "      <td id=\"T_589a6_row7_col7\" class=\"data row7 col7\" >0.5790</td>\n",
       "    </tr>\n",
       "    <tr>\n",
       "      <th id=\"T_589a6_level0_row8\" class=\"row_heading level0 row8\" >ridge</th>\n",
       "      <td id=\"T_589a6_row8_col0\" class=\"data row8 col0\" >Ridge Regression</td>\n",
       "      <td id=\"T_589a6_row8_col1\" class=\"data row8 col1\" >3.1783</td>\n",
       "      <td id=\"T_589a6_row8_col2\" class=\"data row8 col2\" >21.0848</td>\n",
       "      <td id=\"T_589a6_row8_col3\" class=\"data row8 col3\" >4.4507</td>\n",
       "      <td id=\"T_589a6_row8_col4\" class=\"data row8 col4\" >0.7477</td>\n",
       "      <td id=\"T_589a6_row8_col5\" class=\"data row8 col5\" >0.2181</td>\n",
       "      <td id=\"T_589a6_row8_col6\" class=\"data row8 col6\" >0.1620</td>\n",
       "      <td id=\"T_589a6_row8_col7\" class=\"data row8 col7\" >0.0110</td>\n",
       "    </tr>\n",
       "    <tr>\n",
       "      <th id=\"T_589a6_level0_row9\" class=\"row_heading level0 row9\" >br</th>\n",
       "      <td id=\"T_589a6_row9_col0\" class=\"data row9 col0\" >Bayesian Ridge</td>\n",
       "      <td id=\"T_589a6_row9_col1\" class=\"data row9 col1\" >3.2405</td>\n",
       "      <td id=\"T_589a6_row9_col2\" class=\"data row9 col2\" >21.6777</td>\n",
       "      <td id=\"T_589a6_row9_col3\" class=\"data row9 col3\" >4.5187</td>\n",
       "      <td id=\"T_589a6_row9_col4\" class=\"data row9 col4\" >0.7417</td>\n",
       "      <td id=\"T_589a6_row9_col5\" class=\"data row9 col5\" >0.2209</td>\n",
       "      <td id=\"T_589a6_row9_col6\" class=\"data row9 col6\" >0.1650</td>\n",
       "      <td id=\"T_589a6_row9_col7\" class=\"data row9 col7\" >0.0080</td>\n",
       "    </tr>\n",
       "    <tr>\n",
       "      <th id=\"T_589a6_level0_row10\" class=\"row_heading level0 row10\" >lar</th>\n",
       "      <td id=\"T_589a6_row10_col0\" class=\"data row10 col0\" >Least Angle Regression</td>\n",
       "      <td id=\"T_589a6_row10_col1\" class=\"data row10 col1\" >3.4713</td>\n",
       "      <td id=\"T_589a6_row10_col2\" class=\"data row10 col2\" >23.5822</td>\n",
       "      <td id=\"T_589a6_row10_col3\" class=\"data row10 col3\" >4.7462</td>\n",
       "      <td id=\"T_589a6_row10_col4\" class=\"data row10 col4\" >0.7153</td>\n",
       "      <td id=\"T_589a6_row10_col5\" class=\"data row10 col5\" >0.2342</td>\n",
       "      <td id=\"T_589a6_row10_col6\" class=\"data row10 col6\" >0.1779</td>\n",
       "      <td id=\"T_589a6_row10_col7\" class=\"data row10 col7\" >0.0090</td>\n",
       "    </tr>\n",
       "    <tr>\n",
       "      <th id=\"T_589a6_level0_row11\" class=\"row_heading level0 row11\" >lasso</th>\n",
       "      <td id=\"T_589a6_row11_col0\" class=\"data row11 col0\" >Lasso Regression</td>\n",
       "      <td id=\"T_589a6_row11_col1\" class=\"data row11 col1\" >3.5592</td>\n",
       "      <td id=\"T_589a6_row11_col2\" class=\"data row11 col2\" >26.0458</td>\n",
       "      <td id=\"T_589a6_row11_col3\" class=\"data row11 col3\" >4.9853</td>\n",
       "      <td id=\"T_589a6_row11_col4\" class=\"data row11 col4\" >0.6953</td>\n",
       "      <td id=\"T_589a6_row11_col5\" class=\"data row11 col5\" >0.2249</td>\n",
       "      <td id=\"T_589a6_row11_col6\" class=\"data row11 col6\" >0.1709</td>\n",
       "      <td id=\"T_589a6_row11_col7\" class=\"data row11 col7\" >0.0370</td>\n",
       "    </tr>\n",
       "    <tr>\n",
       "      <th id=\"T_589a6_level0_row12\" class=\"row_heading level0 row12\" >en</th>\n",
       "      <td id=\"T_589a6_row12_col0\" class=\"data row12 col0\" >Elastic Net</td>\n",
       "      <td id=\"T_589a6_row12_col1\" class=\"data row12 col1\" >3.6025</td>\n",
       "      <td id=\"T_589a6_row12_col2\" class=\"data row12 col2\" >26.3869</td>\n",
       "      <td id=\"T_589a6_row12_col3\" class=\"data row12 col3\" >5.0259</td>\n",
       "      <td id=\"T_589a6_row12_col4\" class=\"data row12 col4\" >0.6906</td>\n",
       "      <td id=\"T_589a6_row12_col5\" class=\"data row12 col5\" >0.2296</td>\n",
       "      <td id=\"T_589a6_row12_col6\" class=\"data row12 col6\" >0.1722</td>\n",
       "      <td id=\"T_589a6_row12_col7\" class=\"data row12 col7\" >0.0090</td>\n",
       "    </tr>\n",
       "    <tr>\n",
       "      <th id=\"T_589a6_level0_row13\" class=\"row_heading level0 row13\" >huber</th>\n",
       "      <td id=\"T_589a6_row13_col0\" class=\"data row13 col0\" >Huber Regressor</td>\n",
       "      <td id=\"T_589a6_row13_col1\" class=\"data row13 col1\" >3.7919</td>\n",
       "      <td id=\"T_589a6_row13_col2\" class=\"data row13 col2\" >30.1997</td>\n",
       "      <td id=\"T_589a6_row13_col3\" class=\"data row13 col3\" >5.3424</td>\n",
       "      <td id=\"T_589a6_row13_col4\" class=\"data row13 col4\" >0.6396</td>\n",
       "      <td id=\"T_589a6_row13_col5\" class=\"data row13 col5\" >0.2501</td>\n",
       "      <td id=\"T_589a6_row13_col6\" class=\"data row13 col6\" >0.1937</td>\n",
       "      <td id=\"T_589a6_row13_col7\" class=\"data row13 col7\" >0.0130</td>\n",
       "    </tr>\n",
       "    <tr>\n",
       "      <th id=\"T_589a6_level0_row14\" class=\"row_heading level0 row14\" >omp</th>\n",
       "      <td id=\"T_589a6_row14_col0\" class=\"data row14 col0\" >Orthogonal Matching Pursuit</td>\n",
       "      <td id=\"T_589a6_row14_col1\" class=\"data row14 col1\" >4.5943</td>\n",
       "      <td id=\"T_589a6_row14_col2\" class=\"data row14 col2\" >43.0637</td>\n",
       "      <td id=\"T_589a6_row14_col3\" class=\"data row14 col3\" >6.4932</td>\n",
       "      <td id=\"T_589a6_row14_col4\" class=\"data row14 col4\" >0.4897</td>\n",
       "      <td id=\"T_589a6_row14_col5\" class=\"data row14 col5\" >0.3174</td>\n",
       "      <td id=\"T_589a6_row14_col6\" class=\"data row14 col6\" >0.2354</td>\n",
       "      <td id=\"T_589a6_row14_col7\" class=\"data row14 col7\" >0.0120</td>\n",
       "    </tr>\n",
       "    <tr>\n",
       "      <th id=\"T_589a6_level0_row15\" class=\"row_heading level0 row15\" >knn</th>\n",
       "      <td id=\"T_589a6_row15_col0\" class=\"data row15 col0\" >K Neighbors Regressor</td>\n",
       "      <td id=\"T_589a6_row15_col1\" class=\"data row15 col1\" >4.5640</td>\n",
       "      <td id=\"T_589a6_row15_col2\" class=\"data row15 col2\" >46.3204</td>\n",
       "      <td id=\"T_589a6_row15_col3\" class=\"data row15 col3\" >6.6066</td>\n",
       "      <td id=\"T_589a6_row15_col4\" class=\"data row15 col4\" >0.4609</td>\n",
       "      <td id=\"T_589a6_row15_col5\" class=\"data row15 col5\" >0.2603</td>\n",
       "      <td id=\"T_589a6_row15_col6\" class=\"data row15 col6\" >0.2184</td>\n",
       "      <td id=\"T_589a6_row15_col7\" class=\"data row15 col7\" >0.0130</td>\n",
       "    </tr>\n",
       "    <tr>\n",
       "      <th id=\"T_589a6_level0_row16\" class=\"row_heading level0 row16\" >llar</th>\n",
       "      <td id=\"T_589a6_row16_col0\" class=\"data row16 col0\" >Lasso Least Angle Regression</td>\n",
       "      <td id=\"T_589a6_row16_col1\" class=\"data row16 col1\" >6.7849</td>\n",
       "      <td id=\"T_589a6_row16_col2\" class=\"data row16 col2\" >87.2999</td>\n",
       "      <td id=\"T_589a6_row16_col3\" class=\"data row16 col3\" >9.2933</td>\n",
       "      <td id=\"T_589a6_row16_col4\" class=\"data row16 col4\" >-0.0328</td>\n",
       "      <td id=\"T_589a6_row16_col5\" class=\"data row16 col5\" >0.3942</td>\n",
       "      <td id=\"T_589a6_row16_col6\" class=\"data row16 col6\" >0.3681</td>\n",
       "      <td id=\"T_589a6_row16_col7\" class=\"data row16 col7\" >0.0080</td>\n",
       "    </tr>\n",
       "    <tr>\n",
       "      <th id=\"T_589a6_level0_row17\" class=\"row_heading level0 row17\" >dummy</th>\n",
       "      <td id=\"T_589a6_row17_col0\" class=\"data row17 col0\" >Dummy Regressor</td>\n",
       "      <td id=\"T_589a6_row17_col1\" class=\"data row17 col1\" >6.7849</td>\n",
       "      <td id=\"T_589a6_row17_col2\" class=\"data row17 col2\" >87.2999</td>\n",
       "      <td id=\"T_589a6_row17_col3\" class=\"data row17 col3\" >9.2933</td>\n",
       "      <td id=\"T_589a6_row17_col4\" class=\"data row17 col4\" >-0.0328</td>\n",
       "      <td id=\"T_589a6_row17_col5\" class=\"data row17 col5\" >0.3942</td>\n",
       "      <td id=\"T_589a6_row17_col6\" class=\"data row17 col6\" >0.3681</td>\n",
       "      <td id=\"T_589a6_row17_col7\" class=\"data row17 col7\" >0.0090</td>\n",
       "    </tr>\n",
       "    <tr>\n",
       "      <th id=\"T_589a6_level0_row18\" class=\"row_heading level0 row18\" >par</th>\n",
       "      <td id=\"T_589a6_row18_col0\" class=\"data row18 col0\" >Passive Aggressive Regressor</td>\n",
       "      <td id=\"T_589a6_row18_col1\" class=\"data row18 col1\" >8.3121</td>\n",
       "      <td id=\"T_589a6_row18_col2\" class=\"data row18 col2\" >124.3787</td>\n",
       "      <td id=\"T_589a6_row18_col3\" class=\"data row18 col3\" >10.7545</td>\n",
       "      <td id=\"T_589a6_row18_col4\" class=\"data row18 col4\" >-0.4312</td>\n",
       "      <td id=\"T_589a6_row18_col5\" class=\"data row18 col5\" >0.5187</td>\n",
       "      <td id=\"T_589a6_row18_col6\" class=\"data row18 col6\" >0.4241</td>\n",
       "      <td id=\"T_589a6_row18_col7\" class=\"data row18 col7\" >0.0090</td>\n",
       "    </tr>\n",
       "  </tbody>\n",
       "</table>\n"
      ],
      "text/plain": [
       "<pandas.io.formats.style.Styler at 0x1de7a7a73a0>"
      ]
     },
     "metadata": {},
     "output_type": "display_data"
    },
    {
     "data": {
      "text/html": [],
      "text/plain": [
       "<IPython.core.display.HTML object>"
      ]
     },
     "metadata": {},
     "output_type": "display_data"
    },
    {
     "data": {
      "text/html": [
       "<style>#sk-container-id-1 {color: black;background-color: white;}#sk-container-id-1 pre{padding: 0;}#sk-container-id-1 div.sk-toggleable {background-color: white;}#sk-container-id-1 label.sk-toggleable__label {cursor: pointer;display: block;width: 100%;margin-bottom: 0;padding: 0.3em;box-sizing: border-box;text-align: center;}#sk-container-id-1 label.sk-toggleable__label-arrow:before {content: \"▸\";float: left;margin-right: 0.25em;color: #696969;}#sk-container-id-1 label.sk-toggleable__label-arrow:hover:before {color: black;}#sk-container-id-1 div.sk-estimator:hover label.sk-toggleable__label-arrow:before {color: black;}#sk-container-id-1 div.sk-toggleable__content {max-height: 0;max-width: 0;overflow: hidden;text-align: left;background-color: #f0f8ff;}#sk-container-id-1 div.sk-toggleable__content pre {margin: 0.2em;color: black;border-radius: 0.25em;background-color: #f0f8ff;}#sk-container-id-1 input.sk-toggleable__control:checked~div.sk-toggleable__content {max-height: 200px;max-width: 100%;overflow: auto;}#sk-container-id-1 input.sk-toggleable__control:checked~label.sk-toggleable__label-arrow:before {content: \"▾\";}#sk-container-id-1 div.sk-estimator input.sk-toggleable__control:checked~label.sk-toggleable__label {background-color: #d4ebff;}#sk-container-id-1 div.sk-label input.sk-toggleable__control:checked~label.sk-toggleable__label {background-color: #d4ebff;}#sk-container-id-1 input.sk-hidden--visually {border: 0;clip: rect(1px 1px 1px 1px);clip: rect(1px, 1px, 1px, 1px);height: 1px;margin: -1px;overflow: hidden;padding: 0;position: absolute;width: 1px;}#sk-container-id-1 div.sk-estimator {font-family: monospace;background-color: #f0f8ff;border: 1px dotted black;border-radius: 0.25em;box-sizing: border-box;margin-bottom: 0.5em;}#sk-container-id-1 div.sk-estimator:hover {background-color: #d4ebff;}#sk-container-id-1 div.sk-parallel-item::after {content: \"\";width: 100%;border-bottom: 1px solid gray;flex-grow: 1;}#sk-container-id-1 div.sk-label:hover label.sk-toggleable__label {background-color: #d4ebff;}#sk-container-id-1 div.sk-serial::before {content: \"\";position: absolute;border-left: 1px solid gray;box-sizing: border-box;top: 0;bottom: 0;left: 50%;z-index: 0;}#sk-container-id-1 div.sk-serial {display: flex;flex-direction: column;align-items: center;background-color: white;padding-right: 0.2em;padding-left: 0.2em;position: relative;}#sk-container-id-1 div.sk-item {position: relative;z-index: 1;}#sk-container-id-1 div.sk-parallel {display: flex;align-items: stretch;justify-content: center;background-color: white;position: relative;}#sk-container-id-1 div.sk-item::before, #sk-container-id-1 div.sk-parallel-item::before {content: \"\";position: absolute;border-left: 1px solid gray;box-sizing: border-box;top: 0;bottom: 0;left: 50%;z-index: -1;}#sk-container-id-1 div.sk-parallel-item {display: flex;flex-direction: column;z-index: 1;position: relative;background-color: white;}#sk-container-id-1 div.sk-parallel-item:first-child::after {align-self: flex-end;width: 50%;}#sk-container-id-1 div.sk-parallel-item:last-child::after {align-self: flex-start;width: 50%;}#sk-container-id-1 div.sk-parallel-item:only-child::after {width: 0;}#sk-container-id-1 div.sk-dashed-wrapped {border: 1px dashed gray;margin: 0 0.4em 0.5em 0.4em;box-sizing: border-box;padding-bottom: 0.4em;background-color: white;}#sk-container-id-1 div.sk-label label {font-family: monospace;font-weight: bold;display: inline-block;line-height: 1.2em;}#sk-container-id-1 div.sk-label-container {text-align: center;}#sk-container-id-1 div.sk-container {/* jupyter's `normalize.less` sets `[hidden] { display: none; }` but bootstrap.min.css set `[hidden] { display: none !important; }` so we also need the `!important` here to be able to override the default hidden behavior on the sphinx rendered scikit-learn.org. See: https://github.com/scikit-learn/scikit-learn/issues/21755 */display: inline-block !important;position: relative;}#sk-container-id-1 div.sk-text-repr-fallback {display: none;}</style><div id=\"sk-container-id-1\" class=\"sk-top-container\"><div class=\"sk-text-repr-fallback\"><pre>GradientBoostingRegressor(alpha=0.9, ccp_alpha=0.0, criterion=&#x27;friedman_mse&#x27;,\n",
       "                          init=None, learning_rate=0.1, loss=&#x27;squared_error&#x27;,\n",
       "                          max_depth=3, max_features=None, max_leaf_nodes=None,\n",
       "                          min_impurity_decrease=0.0, min_samples_leaf=1,\n",
       "                          min_samples_split=2, min_weight_fraction_leaf=0.0,\n",
       "                          n_estimators=100, n_iter_no_change=None,\n",
       "                          random_state=1641, subsample=1.0, tol=0.0001,\n",
       "                          validation_fraction=0.1, verbose=0, warm_start=False)</pre><b>In a Jupyter environment, please rerun this cell to show the HTML representation or trust the notebook. <br />On GitHub, the HTML representation is unable to render, please try loading this page with nbviewer.org.</b></div><div class=\"sk-container\" hidden><div class=\"sk-item\"><div class=\"sk-estimator sk-toggleable\"><input class=\"sk-toggleable__control sk-hidden--visually\" id=\"sk-estimator-id-1\" type=\"checkbox\" checked><label for=\"sk-estimator-id-1\" class=\"sk-toggleable__label sk-toggleable__label-arrow\">GradientBoostingRegressor</label><div class=\"sk-toggleable__content\"><pre>GradientBoostingRegressor(alpha=0.9, ccp_alpha=0.0, criterion=&#x27;friedman_mse&#x27;,\n",
       "                          init=None, learning_rate=0.1, loss=&#x27;squared_error&#x27;,\n",
       "                          max_depth=3, max_features=None, max_leaf_nodes=None,\n",
       "                          min_impurity_decrease=0.0, min_samples_leaf=1,\n",
       "                          min_samples_split=2, min_weight_fraction_leaf=0.0,\n",
       "                          n_estimators=100, n_iter_no_change=None,\n",
       "                          random_state=1641, subsample=1.0, tol=0.0001,\n",
       "                          validation_fraction=0.1, verbose=0, warm_start=False)</pre></div></div></div></div></div>"
      ],
      "text/plain": [
       "GradientBoostingRegressor(alpha=0.9, ccp_alpha=0.0, criterion='friedman_mse',\n",
       "                          init=None, learning_rate=0.1, loss='squared_error',\n",
       "                          max_depth=3, max_features=None, max_leaf_nodes=None,\n",
       "                          min_impurity_decrease=0.0, min_samples_leaf=1,\n",
       "                          min_samples_split=2, min_weight_fraction_leaf=0.0,\n",
       "                          n_estimators=100, n_iter_no_change=None,\n",
       "                          random_state=1641, subsample=1.0, tol=0.0001,\n",
       "                          validation_fraction=0.1, verbose=0, warm_start=False)"
      ]
     },
     "execution_count": 17,
     "metadata": {},
     "output_type": "execute_result"
    }
   ],
   "source": [
    "compare_models()"
   ]
  },
  {
   "cell_type": "code",
   "execution_count": 18,
   "metadata": {},
   "outputs": [
    {
     "data": {
      "text/html": [],
      "text/plain": [
       "<IPython.core.display.HTML object>"
      ]
     },
     "metadata": {},
     "output_type": "display_data"
    },
    {
     "data": {
      "text/html": [
       "<style type=\"text/css\">\n",
       "#T_fab50_row10_col0, #T_fab50_row10_col1, #T_fab50_row10_col2, #T_fab50_row10_col3, #T_fab50_row10_col4, #T_fab50_row10_col5 {\n",
       "  background: yellow;\n",
       "}\n",
       "</style>\n",
       "<table id=\"T_fab50\">\n",
       "  <thead>\n",
       "    <tr>\n",
       "      <th class=\"blank level0\" >&nbsp;</th>\n",
       "      <th id=\"T_fab50_level0_col0\" class=\"col_heading level0 col0\" >MAE</th>\n",
       "      <th id=\"T_fab50_level0_col1\" class=\"col_heading level0 col1\" >MSE</th>\n",
       "      <th id=\"T_fab50_level0_col2\" class=\"col_heading level0 col2\" >RMSE</th>\n",
       "      <th id=\"T_fab50_level0_col3\" class=\"col_heading level0 col3\" >R2</th>\n",
       "      <th id=\"T_fab50_level0_col4\" class=\"col_heading level0 col4\" >RMSLE</th>\n",
       "      <th id=\"T_fab50_level0_col5\" class=\"col_heading level0 col5\" >MAPE</th>\n",
       "    </tr>\n",
       "    <tr>\n",
       "      <th class=\"index_name level0\" >Fold</th>\n",
       "      <th class=\"blank col0\" >&nbsp;</th>\n",
       "      <th class=\"blank col1\" >&nbsp;</th>\n",
       "      <th class=\"blank col2\" >&nbsp;</th>\n",
       "      <th class=\"blank col3\" >&nbsp;</th>\n",
       "      <th class=\"blank col4\" >&nbsp;</th>\n",
       "      <th class=\"blank col5\" >&nbsp;</th>\n",
       "    </tr>\n",
       "  </thead>\n",
       "  <tbody>\n",
       "    <tr>\n",
       "      <th id=\"T_fab50_level0_row0\" class=\"row_heading level0 row0\" >0</th>\n",
       "      <td id=\"T_fab50_row0_col0\" class=\"data row0 col0\" >1.9498</td>\n",
       "      <td id=\"T_fab50_row0_col1\" class=\"data row0 col1\" >6.8954</td>\n",
       "      <td id=\"T_fab50_row0_col2\" class=\"data row0 col2\" >2.6259</td>\n",
       "      <td id=\"T_fab50_row0_col3\" class=\"data row0 col3\" >0.8872</td>\n",
       "      <td id=\"T_fab50_row0_col4\" class=\"data row0 col4\" >0.1197</td>\n",
       "      <td id=\"T_fab50_row0_col5\" class=\"data row0 col5\" >0.0975</td>\n",
       "    </tr>\n",
       "    <tr>\n",
       "      <th id=\"T_fab50_level0_row1\" class=\"row_heading level0 row1\" >1</th>\n",
       "      <td id=\"T_fab50_row1_col0\" class=\"data row1 col0\" >1.8849</td>\n",
       "      <td id=\"T_fab50_row1_col1\" class=\"data row1 col1\" >5.9703</td>\n",
       "      <td id=\"T_fab50_row1_col2\" class=\"data row1 col2\" >2.4434</td>\n",
       "      <td id=\"T_fab50_row1_col3\" class=\"data row1 col3\" >0.8937</td>\n",
       "      <td id=\"T_fab50_row1_col4\" class=\"data row1 col4\" >0.1225</td>\n",
       "      <td id=\"T_fab50_row1_col5\" class=\"data row1 col5\" >0.0984</td>\n",
       "    </tr>\n",
       "    <tr>\n",
       "      <th id=\"T_fab50_level0_row2\" class=\"row_heading level0 row2\" >2</th>\n",
       "      <td id=\"T_fab50_row2_col0\" class=\"data row2 col0\" >1.7048</td>\n",
       "      <td id=\"T_fab50_row2_col1\" class=\"data row2 col1\" >5.6504</td>\n",
       "      <td id=\"T_fab50_row2_col2\" class=\"data row2 col2\" >2.3771</td>\n",
       "      <td id=\"T_fab50_row2_col3\" class=\"data row2 col3\" >0.9297</td>\n",
       "      <td id=\"T_fab50_row2_col4\" class=\"data row2 col4\" >0.1233</td>\n",
       "      <td id=\"T_fab50_row2_col5\" class=\"data row2 col5\" >0.0932</td>\n",
       "    </tr>\n",
       "    <tr>\n",
       "      <th id=\"T_fab50_level0_row3\" class=\"row_heading level0 row3\" >3</th>\n",
       "      <td id=\"T_fab50_row3_col0\" class=\"data row3 col0\" >2.4386</td>\n",
       "      <td id=\"T_fab50_row3_col1\" class=\"data row3 col1\" >12.9328</td>\n",
       "      <td id=\"T_fab50_row3_col2\" class=\"data row3 col2\" >3.5962</td>\n",
       "      <td id=\"T_fab50_row3_col3\" class=\"data row3 col3\" >0.8626</td>\n",
       "      <td id=\"T_fab50_row3_col4\" class=\"data row3 col4\" >0.1662</td>\n",
       "      <td id=\"T_fab50_row3_col5\" class=\"data row3 col5\" >0.1199</td>\n",
       "    </tr>\n",
       "    <tr>\n",
       "      <th id=\"T_fab50_level0_row4\" class=\"row_heading level0 row4\" >4</th>\n",
       "      <td id=\"T_fab50_row4_col0\" class=\"data row4 col0\" >2.1015</td>\n",
       "      <td id=\"T_fab50_row4_col1\" class=\"data row4 col1\" >6.6053</td>\n",
       "      <td id=\"T_fab50_row4_col2\" class=\"data row4 col2\" >2.5701</td>\n",
       "      <td id=\"T_fab50_row4_col3\" class=\"data row4 col3\" >0.9323</td>\n",
       "      <td id=\"T_fab50_row4_col4\" class=\"data row4 col4\" >0.1173</td>\n",
       "      <td id=\"T_fab50_row4_col5\" class=\"data row4 col5\" >0.0997</td>\n",
       "    </tr>\n",
       "    <tr>\n",
       "      <th id=\"T_fab50_level0_row5\" class=\"row_heading level0 row5\" >5</th>\n",
       "      <td id=\"T_fab50_row5_col0\" class=\"data row5 col0\" >2.2146</td>\n",
       "      <td id=\"T_fab50_row5_col1\" class=\"data row5 col1\" >8.8481</td>\n",
       "      <td id=\"T_fab50_row5_col2\" class=\"data row5 col2\" >2.9746</td>\n",
       "      <td id=\"T_fab50_row5_col3\" class=\"data row5 col3\" >0.9225</td>\n",
       "      <td id=\"T_fab50_row5_col4\" class=\"data row5 col4\" >0.1270</td>\n",
       "      <td id=\"T_fab50_row5_col5\" class=\"data row5 col5\" >0.1093</td>\n",
       "    </tr>\n",
       "    <tr>\n",
       "      <th id=\"T_fab50_level0_row6\" class=\"row_heading level0 row6\" >6</th>\n",
       "      <td id=\"T_fab50_row6_col0\" class=\"data row6 col0\" >1.9175</td>\n",
       "      <td id=\"T_fab50_row6_col1\" class=\"data row6 col1\" >6.3181</td>\n",
       "      <td id=\"T_fab50_row6_col2\" class=\"data row6 col2\" >2.5136</td>\n",
       "      <td id=\"T_fab50_row6_col3\" class=\"data row6 col3\" >0.9441</td>\n",
       "      <td id=\"T_fab50_row6_col4\" class=\"data row6 col4\" >0.1475</td>\n",
       "      <td id=\"T_fab50_row6_col5\" class=\"data row6 col5\" >0.1132</td>\n",
       "    </tr>\n",
       "    <tr>\n",
       "      <th id=\"T_fab50_level0_row7\" class=\"row_heading level0 row7\" >7</th>\n",
       "      <td id=\"T_fab50_row7_col0\" class=\"data row7 col0\" >1.5899</td>\n",
       "      <td id=\"T_fab50_row7_col1\" class=\"data row7 col1\" >3.8542</td>\n",
       "      <td id=\"T_fab50_row7_col2\" class=\"data row7 col2\" >1.9632</td>\n",
       "      <td id=\"T_fab50_row7_col3\" class=\"data row7 col3\" >0.9457</td>\n",
       "      <td id=\"T_fab50_row7_col4\" class=\"data row7 col4\" >0.1159</td>\n",
       "      <td id=\"T_fab50_row7_col5\" class=\"data row7 col5\" >0.0999</td>\n",
       "    </tr>\n",
       "    <tr>\n",
       "      <th id=\"T_fab50_level0_row8\" class=\"row_heading level0 row8\" >8</th>\n",
       "      <td id=\"T_fab50_row8_col0\" class=\"data row8 col0\" >2.3747</td>\n",
       "      <td id=\"T_fab50_row8_col1\" class=\"data row8 col1\" >16.7983</td>\n",
       "      <td id=\"T_fab50_row8_col2\" class=\"data row8 col2\" >4.0986</td>\n",
       "      <td id=\"T_fab50_row8_col3\" class=\"data row8 col3\" >0.7928</td>\n",
       "      <td id=\"T_fab50_row8_col4\" class=\"data row8 col4\" >0.1417</td>\n",
       "      <td id=\"T_fab50_row8_col5\" class=\"data row8 col5\" >0.1027</td>\n",
       "    </tr>\n",
       "    <tr>\n",
       "      <th id=\"T_fab50_level0_row9\" class=\"row_heading level0 row9\" >9</th>\n",
       "      <td id=\"T_fab50_row9_col0\" class=\"data row9 col0\" >2.5968</td>\n",
       "      <td id=\"T_fab50_row9_col1\" class=\"data row9 col1\" >21.1228</td>\n",
       "      <td id=\"T_fab50_row9_col2\" class=\"data row9 col2\" >4.5960</td>\n",
       "      <td id=\"T_fab50_row9_col3\" class=\"data row9 col3\" >0.7368</td>\n",
       "      <td id=\"T_fab50_row9_col4\" class=\"data row9 col4\" >0.1655</td>\n",
       "      <td id=\"T_fab50_row9_col5\" class=\"data row9 col5\" >0.1095</td>\n",
       "    </tr>\n",
       "    <tr>\n",
       "      <th id=\"T_fab50_level0_row10\" class=\"row_heading level0 row10\" >Mean</th>\n",
       "      <td id=\"T_fab50_row10_col0\" class=\"data row10 col0\" >2.0773</td>\n",
       "      <td id=\"T_fab50_row10_col1\" class=\"data row10 col1\" >9.4996</td>\n",
       "      <td id=\"T_fab50_row10_col2\" class=\"data row10 col2\" >2.9759</td>\n",
       "      <td id=\"T_fab50_row10_col3\" class=\"data row10 col3\" >0.8847</td>\n",
       "      <td id=\"T_fab50_row10_col4\" class=\"data row10 col4\" >0.1347</td>\n",
       "      <td id=\"T_fab50_row10_col5\" class=\"data row10 col5\" >0.1043</td>\n",
       "    </tr>\n",
       "    <tr>\n",
       "      <th id=\"T_fab50_level0_row11\" class=\"row_heading level0 row11\" >Std</th>\n",
       "      <td id=\"T_fab50_row11_col0\" class=\"data row11 col0\" >0.3104</td>\n",
       "      <td id=\"T_fab50_row11_col1\" class=\"data row11 col1\" >5.3386</td>\n",
       "      <td id=\"T_fab50_row11_col2\" class=\"data row11 col2\" >0.8024</td>\n",
       "      <td id=\"T_fab50_row11_col3\" class=\"data row11 col3\" >0.0662</td>\n",
       "      <td id=\"T_fab50_row11_col4\" class=\"data row11 col4\" >0.0184</td>\n",
       "      <td id=\"T_fab50_row11_col5\" class=\"data row11 col5\" >0.0079</td>\n",
       "    </tr>\n",
       "  </tbody>\n",
       "</table>\n"
      ],
      "text/plain": [
       "<pandas.io.formats.style.Styler at 0x1de7f24edd0>"
      ]
     },
     "metadata": {},
     "output_type": "display_data"
    },
    {
     "data": {
      "text/html": [],
      "text/plain": [
       "<IPython.core.display.HTML object>"
      ]
     },
     "metadata": {},
     "output_type": "display_data"
    }
   ],
   "source": [
    "reg_model=create_model('gbr')"
   ]
  },
  {
   "cell_type": "code",
   "execution_count": 24,
   "metadata": {},
   "outputs": [
    {
     "data": {
      "text/html": [],
      "text/plain": [
       "<IPython.core.display.HTML object>"
      ]
     },
     "metadata": {},
     "output_type": "display_data"
    },
    {
     "data": {
      "text/html": [
       "<style type=\"text/css\">\n",
       "#T_e6152_row10_col0, #T_e6152_row10_col1, #T_e6152_row10_col2, #T_e6152_row10_col3, #T_e6152_row10_col4, #T_e6152_row10_col5 {\n",
       "  background: yellow;\n",
       "}\n",
       "</style>\n",
       "<table id=\"T_e6152\">\n",
       "  <thead>\n",
       "    <tr>\n",
       "      <th class=\"blank level0\" >&nbsp;</th>\n",
       "      <th id=\"T_e6152_level0_col0\" class=\"col_heading level0 col0\" >MAE</th>\n",
       "      <th id=\"T_e6152_level0_col1\" class=\"col_heading level0 col1\" >MSE</th>\n",
       "      <th id=\"T_e6152_level0_col2\" class=\"col_heading level0 col2\" >RMSE</th>\n",
       "      <th id=\"T_e6152_level0_col3\" class=\"col_heading level0 col3\" >R2</th>\n",
       "      <th id=\"T_e6152_level0_col4\" class=\"col_heading level0 col4\" >RMSLE</th>\n",
       "      <th id=\"T_e6152_level0_col5\" class=\"col_heading level0 col5\" >MAPE</th>\n",
       "    </tr>\n",
       "    <tr>\n",
       "      <th class=\"index_name level0\" >Fold</th>\n",
       "      <th class=\"blank col0\" >&nbsp;</th>\n",
       "      <th class=\"blank col1\" >&nbsp;</th>\n",
       "      <th class=\"blank col2\" >&nbsp;</th>\n",
       "      <th class=\"blank col3\" >&nbsp;</th>\n",
       "      <th class=\"blank col4\" >&nbsp;</th>\n",
       "      <th class=\"blank col5\" >&nbsp;</th>\n",
       "    </tr>\n",
       "  </thead>\n",
       "  <tbody>\n",
       "    <tr>\n",
       "      <th id=\"T_e6152_level0_row0\" class=\"row_heading level0 row0\" >0</th>\n",
       "      <td id=\"T_e6152_row0_col0\" class=\"data row0 col0\" >1.5409</td>\n",
       "      <td id=\"T_e6152_row0_col1\" class=\"data row0 col1\" >5.1347</td>\n",
       "      <td id=\"T_e6152_row0_col2\" class=\"data row0 col2\" >2.2660</td>\n",
       "      <td id=\"T_e6152_row0_col3\" class=\"data row0 col3\" >0.9160</td>\n",
       "      <td id=\"T_e6152_row0_col4\" class=\"data row0 col4\" >0.1078</td>\n",
       "      <td id=\"T_e6152_row0_col5\" class=\"data row0 col5\" >0.0776</td>\n",
       "    </tr>\n",
       "    <tr>\n",
       "      <th id=\"T_e6152_level0_row1\" class=\"row_heading level0 row1\" >1</th>\n",
       "      <td id=\"T_e6152_row1_col0\" class=\"data row1 col0\" >1.4676</td>\n",
       "      <td id=\"T_e6152_row1_col1\" class=\"data row1 col1\" >4.0275</td>\n",
       "      <td id=\"T_e6152_row1_col2\" class=\"data row1 col2\" >2.0069</td>\n",
       "      <td id=\"T_e6152_row1_col3\" class=\"data row1 col3\" >0.9283</td>\n",
       "      <td id=\"T_e6152_row1_col4\" class=\"data row1 col4\" >0.1020</td>\n",
       "      <td id=\"T_e6152_row1_col5\" class=\"data row1 col5\" >0.0788</td>\n",
       "    </tr>\n",
       "    <tr>\n",
       "      <th id=\"T_e6152_level0_row2\" class=\"row_heading level0 row2\" >2</th>\n",
       "      <td id=\"T_e6152_row2_col0\" class=\"data row2 col0\" >1.6008</td>\n",
       "      <td id=\"T_e6152_row2_col1\" class=\"data row2 col1\" >4.8021</td>\n",
       "      <td id=\"T_e6152_row2_col2\" class=\"data row2 col2\" >2.1914</td>\n",
       "      <td id=\"T_e6152_row2_col3\" class=\"data row2 col3\" >0.9402</td>\n",
       "      <td id=\"T_e6152_row2_col4\" class=\"data row2 col4\" >0.1076</td>\n",
       "      <td id=\"T_e6152_row2_col5\" class=\"data row2 col5\" >0.0858</td>\n",
       "    </tr>\n",
       "    <tr>\n",
       "      <th id=\"T_e6152_level0_row3\" class=\"row_heading level0 row3\" >3</th>\n",
       "      <td id=\"T_e6152_row3_col0\" class=\"data row3 col0\" >2.7362</td>\n",
       "      <td id=\"T_e6152_row3_col1\" class=\"data row3 col1\" >18.2760</td>\n",
       "      <td id=\"T_e6152_row3_col2\" class=\"data row3 col2\" >4.2750</td>\n",
       "      <td id=\"T_e6152_row3_col3\" class=\"data row3 col3\" >0.8059</td>\n",
       "      <td id=\"T_e6152_row3_col4\" class=\"data row3 col4\" >0.1616</td>\n",
       "      <td id=\"T_e6152_row3_col5\" class=\"data row3 col5\" >0.1257</td>\n",
       "    </tr>\n",
       "    <tr>\n",
       "      <th id=\"T_e6152_level0_row4\" class=\"row_heading level0 row4\" >4</th>\n",
       "      <td id=\"T_e6152_row4_col0\" class=\"data row4 col0\" >2.0354</td>\n",
       "      <td id=\"T_e6152_row4_col1\" class=\"data row4 col1\" >6.0709</td>\n",
       "      <td id=\"T_e6152_row4_col2\" class=\"data row4 col2\" >2.4639</td>\n",
       "      <td id=\"T_e6152_row4_col3\" class=\"data row4 col3\" >0.9378</td>\n",
       "      <td id=\"T_e6152_row4_col4\" class=\"data row4 col4\" >0.1124</td>\n",
       "      <td id=\"T_e6152_row4_col5\" class=\"data row4 col5\" >0.0921</td>\n",
       "    </tr>\n",
       "    <tr>\n",
       "      <th id=\"T_e6152_level0_row5\" class=\"row_heading level0 row5\" >5</th>\n",
       "      <td id=\"T_e6152_row5_col0\" class=\"data row5 col0\" >2.3514</td>\n",
       "      <td id=\"T_e6152_row5_col1\" class=\"data row5 col1\" >11.6621</td>\n",
       "      <td id=\"T_e6152_row5_col2\" class=\"data row5 col2\" >3.4150</td>\n",
       "      <td id=\"T_e6152_row5_col3\" class=\"data row5 col3\" >0.8979</td>\n",
       "      <td id=\"T_e6152_row5_col4\" class=\"data row5 col4\" >0.1428</td>\n",
       "      <td id=\"T_e6152_row5_col5\" class=\"data row5 col5\" >0.1169</td>\n",
       "    </tr>\n",
       "    <tr>\n",
       "      <th id=\"T_e6152_level0_row6\" class=\"row_heading level0 row6\" >6</th>\n",
       "      <td id=\"T_e6152_row6_col0\" class=\"data row6 col0\" >1.9005</td>\n",
       "      <td id=\"T_e6152_row6_col1\" class=\"data row6 col1\" >5.4449</td>\n",
       "      <td id=\"T_e6152_row6_col2\" class=\"data row6 col2\" >2.3334</td>\n",
       "      <td id=\"T_e6152_row6_col3\" class=\"data row6 col3\" >0.9518</td>\n",
       "      <td id=\"T_e6152_row6_col4\" class=\"data row6 col4\" >0.1397</td>\n",
       "      <td id=\"T_e6152_row6_col5\" class=\"data row6 col5\" >0.1112</td>\n",
       "    </tr>\n",
       "    <tr>\n",
       "      <th id=\"T_e6152_level0_row7\" class=\"row_heading level0 row7\" >7</th>\n",
       "      <td id=\"T_e6152_row7_col0\" class=\"data row7 col0\" >1.5778</td>\n",
       "      <td id=\"T_e6152_row7_col1\" class=\"data row7 col1\" >3.7370</td>\n",
       "      <td id=\"T_e6152_row7_col2\" class=\"data row7 col2\" >1.9331</td>\n",
       "      <td id=\"T_e6152_row7_col3\" class=\"data row7 col3\" >0.9473</td>\n",
       "      <td id=\"T_e6152_row7_col4\" class=\"data row7 col4\" >0.1135</td>\n",
       "      <td id=\"T_e6152_row7_col5\" class=\"data row7 col5\" >0.0998</td>\n",
       "    </tr>\n",
       "    <tr>\n",
       "      <th id=\"T_e6152_level0_row8\" class=\"row_heading level0 row8\" >8</th>\n",
       "      <td id=\"T_e6152_row8_col0\" class=\"data row8 col0\" >2.0048</td>\n",
       "      <td id=\"T_e6152_row8_col1\" class=\"data row8 col1\" >9.2300</td>\n",
       "      <td id=\"T_e6152_row8_col2\" class=\"data row8 col2\" >3.0381</td>\n",
       "      <td id=\"T_e6152_row8_col3\" class=\"data row8 col3\" >0.8861</td>\n",
       "      <td id=\"T_e6152_row8_col4\" class=\"data row8 col4\" >0.1104</td>\n",
       "      <td id=\"T_e6152_row8_col5\" class=\"data row8 col5\" >0.0828</td>\n",
       "    </tr>\n",
       "    <tr>\n",
       "      <th id=\"T_e6152_level0_row9\" class=\"row_heading level0 row9\" >9</th>\n",
       "      <td id=\"T_e6152_row9_col0\" class=\"data row9 col0\" >2.6029</td>\n",
       "      <td id=\"T_e6152_row9_col1\" class=\"data row9 col1\" >14.8349</td>\n",
       "      <td id=\"T_e6152_row9_col2\" class=\"data row9 col2\" >3.8516</td>\n",
       "      <td id=\"T_e6152_row9_col3\" class=\"data row9 col3\" >0.8151</td>\n",
       "      <td id=\"T_e6152_row9_col4\" class=\"data row9 col4\" >0.1617</td>\n",
       "      <td id=\"T_e6152_row9_col5\" class=\"data row9 col5\" >0.1195</td>\n",
       "    </tr>\n",
       "    <tr>\n",
       "      <th id=\"T_e6152_level0_row10\" class=\"row_heading level0 row10\" >Mean</th>\n",
       "      <td id=\"T_e6152_row10_col0\" class=\"data row10 col0\" >1.9818</td>\n",
       "      <td id=\"T_e6152_row10_col1\" class=\"data row10 col1\" >8.3220</td>\n",
       "      <td id=\"T_e6152_row10_col2\" class=\"data row10 col2\" >2.7774</td>\n",
       "      <td id=\"T_e6152_row10_col3\" class=\"data row10 col3\" >0.9026</td>\n",
       "      <td id=\"T_e6152_row10_col4\" class=\"data row10 col4\" >0.1260</td>\n",
       "      <td id=\"T_e6152_row10_col5\" class=\"data row10 col5\" >0.0990</td>\n",
       "    </tr>\n",
       "    <tr>\n",
       "      <th id=\"T_e6152_level0_row11\" class=\"row_heading level0 row11\" >Std</th>\n",
       "      <td id=\"T_e6152_row11_col0\" class=\"data row11 col0\" >0.4323</td>\n",
       "      <td id=\"T_e6152_row11_col1\" class=\"data row11 col1\" >4.7837</td>\n",
       "      <td id=\"T_e6152_row11_col2\" class=\"data row11 col2\" >0.7796</td>\n",
       "      <td id=\"T_e6152_row11_col3\" class=\"data row11 col3\" >0.0502</td>\n",
       "      <td id=\"T_e6152_row11_col4\" class=\"data row11 col4\" >0.0220</td>\n",
       "      <td id=\"T_e6152_row11_col5\" class=\"data row11 col5\" >0.0172</td>\n",
       "    </tr>\n",
       "  </tbody>\n",
       "</table>\n"
      ],
      "text/plain": [
       "<pandas.io.formats.style.Styler at 0x1de7f53b070>"
      ]
     },
     "metadata": {},
     "output_type": "display_data"
    },
    {
     "data": {
      "text/html": [],
      "text/plain": [
       "<IPython.core.display.HTML object>"
      ]
     },
     "metadata": {},
     "output_type": "display_data"
    },
    {
     "name": "stdout",
     "output_type": "stream",
     "text": [
      "Fitting 10 folds for each of 99 candidates, totalling 990 fits\n"
     ]
    }
   ],
   "source": [
    "#hyper tuning the model\n",
    "reg_model_hypertune=tune_model(reg_model,n_iter=99,optimize='rmse')"
   ]
  },
  {
   "cell_type": "markdown",
   "metadata": {},
   "source": [
    "Clustering"
   ]
  },
  {
   "cell_type": "code",
   "execution_count": 25,
   "metadata": {},
   "outputs": [
    {
     "data": {
      "text/html": [
       "<div>\n",
       "<style scoped>\n",
       "    .dataframe tbody tr th:only-of-type {\n",
       "        vertical-align: middle;\n",
       "    }\n",
       "\n",
       "    .dataframe tbody tr th {\n",
       "        vertical-align: top;\n",
       "    }\n",
       "\n",
       "    .dataframe thead th {\n",
       "        text-align: right;\n",
       "    }\n",
       "</style>\n",
       "<table border=\"1\" class=\"dataframe\">\n",
       "  <thead>\n",
       "    <tr style=\"text-align: right;\">\n",
       "      <th></th>\n",
       "      <th>Age</th>\n",
       "      <th>Income</th>\n",
       "      <th>SpendingScore</th>\n",
       "      <th>Savings</th>\n",
       "    </tr>\n",
       "  </thead>\n",
       "  <tbody>\n",
       "    <tr>\n",
       "      <th>0</th>\n",
       "      <td>58</td>\n",
       "      <td>77769</td>\n",
       "      <td>0.791329</td>\n",
       "      <td>6559.829923</td>\n",
       "    </tr>\n",
       "    <tr>\n",
       "      <th>1</th>\n",
       "      <td>59</td>\n",
       "      <td>81799</td>\n",
       "      <td>0.791082</td>\n",
       "      <td>5417.661426</td>\n",
       "    </tr>\n",
       "    <tr>\n",
       "      <th>2</th>\n",
       "      <td>62</td>\n",
       "      <td>74751</td>\n",
       "      <td>0.702657</td>\n",
       "      <td>9258.992965</td>\n",
       "    </tr>\n",
       "    <tr>\n",
       "      <th>3</th>\n",
       "      <td>59</td>\n",
       "      <td>74373</td>\n",
       "      <td>0.765680</td>\n",
       "      <td>7346.334504</td>\n",
       "    </tr>\n",
       "    <tr>\n",
       "      <th>4</th>\n",
       "      <td>87</td>\n",
       "      <td>17760</td>\n",
       "      <td>0.348778</td>\n",
       "      <td>16869.507130</td>\n",
       "    </tr>\n",
       "  </tbody>\n",
       "</table>\n",
       "</div>"
      ],
      "text/plain": [
       "   Age  Income  SpendingScore       Savings\n",
       "0   58   77769       0.791329   6559.829923\n",
       "1   59   81799       0.791082   5417.661426\n",
       "2   62   74751       0.702657   9258.992965\n",
       "3   59   74373       0.765680   7346.334504\n",
       "4   87   17760       0.348778  16869.507130"
      ]
     },
     "metadata": {},
     "output_type": "display_data"
    }
   ],
   "source": [
    "jewelery=get_data('jewellery')"
   ]
  },
  {
   "cell_type": "code",
   "execution_count": 27,
   "metadata": {},
   "outputs": [
    {
     "data": {
      "text/html": [
       "<style type=\"text/css\">\n",
       "#T_35225_row4_col1 {\n",
       "  background-color: lightgreen;\n",
       "}\n",
       "</style>\n",
       "<table id=\"T_35225\">\n",
       "  <thead>\n",
       "    <tr>\n",
       "      <th class=\"blank level0\" >&nbsp;</th>\n",
       "      <th id=\"T_35225_level0_col0\" class=\"col_heading level0 col0\" >Description</th>\n",
       "      <th id=\"T_35225_level0_col1\" class=\"col_heading level0 col1\" >Value</th>\n",
       "    </tr>\n",
       "  </thead>\n",
       "  <tbody>\n",
       "    <tr>\n",
       "      <th id=\"T_35225_level0_row0\" class=\"row_heading level0 row0\" >0</th>\n",
       "      <td id=\"T_35225_row0_col0\" class=\"data row0 col0\" >Session id</td>\n",
       "      <td id=\"T_35225_row0_col1\" class=\"data row0 col1\" >1972</td>\n",
       "    </tr>\n",
       "    <tr>\n",
       "      <th id=\"T_35225_level0_row1\" class=\"row_heading level0 row1\" >1</th>\n",
       "      <td id=\"T_35225_row1_col0\" class=\"data row1 col0\" >Original data shape</td>\n",
       "      <td id=\"T_35225_row1_col1\" class=\"data row1 col1\" >(505, 4)</td>\n",
       "    </tr>\n",
       "    <tr>\n",
       "      <th id=\"T_35225_level0_row2\" class=\"row_heading level0 row2\" >2</th>\n",
       "      <td id=\"T_35225_row2_col0\" class=\"data row2 col0\" >Transformed data shape</td>\n",
       "      <td id=\"T_35225_row2_col1\" class=\"data row2 col1\" >(505, 4)</td>\n",
       "    </tr>\n",
       "    <tr>\n",
       "      <th id=\"T_35225_level0_row3\" class=\"row_heading level0 row3\" >3</th>\n",
       "      <td id=\"T_35225_row3_col0\" class=\"data row3 col0\" >Numeric features</td>\n",
       "      <td id=\"T_35225_row3_col1\" class=\"data row3 col1\" >4</td>\n",
       "    </tr>\n",
       "    <tr>\n",
       "      <th id=\"T_35225_level0_row4\" class=\"row_heading level0 row4\" >4</th>\n",
       "      <td id=\"T_35225_row4_col0\" class=\"data row4 col0\" >Preprocess</td>\n",
       "      <td id=\"T_35225_row4_col1\" class=\"data row4 col1\" >True</td>\n",
       "    </tr>\n",
       "    <tr>\n",
       "      <th id=\"T_35225_level0_row5\" class=\"row_heading level0 row5\" >5</th>\n",
       "      <td id=\"T_35225_row5_col0\" class=\"data row5 col0\" >Imputation type</td>\n",
       "      <td id=\"T_35225_row5_col1\" class=\"data row5 col1\" >simple</td>\n",
       "    </tr>\n",
       "    <tr>\n",
       "      <th id=\"T_35225_level0_row6\" class=\"row_heading level0 row6\" >6</th>\n",
       "      <td id=\"T_35225_row6_col0\" class=\"data row6 col0\" >Numeric imputation</td>\n",
       "      <td id=\"T_35225_row6_col1\" class=\"data row6 col1\" >mean</td>\n",
       "    </tr>\n",
       "    <tr>\n",
       "      <th id=\"T_35225_level0_row7\" class=\"row_heading level0 row7\" >7</th>\n",
       "      <td id=\"T_35225_row7_col0\" class=\"data row7 col0\" >Categorical imputation</td>\n",
       "      <td id=\"T_35225_row7_col1\" class=\"data row7 col1\" >mode</td>\n",
       "    </tr>\n",
       "    <tr>\n",
       "      <th id=\"T_35225_level0_row8\" class=\"row_heading level0 row8\" >8</th>\n",
       "      <td id=\"T_35225_row8_col0\" class=\"data row8 col0\" >CPU Jobs</td>\n",
       "      <td id=\"T_35225_row8_col1\" class=\"data row8 col1\" >-1</td>\n",
       "    </tr>\n",
       "    <tr>\n",
       "      <th id=\"T_35225_level0_row9\" class=\"row_heading level0 row9\" >9</th>\n",
       "      <td id=\"T_35225_row9_col0\" class=\"data row9 col0\" >Use GPU</td>\n",
       "      <td id=\"T_35225_row9_col1\" class=\"data row9 col1\" >False</td>\n",
       "    </tr>\n",
       "    <tr>\n",
       "      <th id=\"T_35225_level0_row10\" class=\"row_heading level0 row10\" >10</th>\n",
       "      <td id=\"T_35225_row10_col0\" class=\"data row10 col0\" >Log Experiment</td>\n",
       "      <td id=\"T_35225_row10_col1\" class=\"data row10 col1\" >False</td>\n",
       "    </tr>\n",
       "    <tr>\n",
       "      <th id=\"T_35225_level0_row11\" class=\"row_heading level0 row11\" >11</th>\n",
       "      <td id=\"T_35225_row11_col0\" class=\"data row11 col0\" >Experiment Name</td>\n",
       "      <td id=\"T_35225_row11_col1\" class=\"data row11 col1\" >cluster-default-name</td>\n",
       "    </tr>\n",
       "    <tr>\n",
       "      <th id=\"T_35225_level0_row12\" class=\"row_heading level0 row12\" >12</th>\n",
       "      <td id=\"T_35225_row12_col0\" class=\"data row12 col0\" >USI</td>\n",
       "      <td id=\"T_35225_row12_col1\" class=\"data row12 col1\" >d692</td>\n",
       "    </tr>\n",
       "  </tbody>\n",
       "</table>\n"
      ],
      "text/plain": [
       "<pandas.io.formats.style.Styler at 0x1de7faa4190>"
      ]
     },
     "metadata": {},
     "output_type": "display_data"
    }
   ],
   "source": [
    "from pycaret.clustering import *\n",
    "clust_algo=setup(jewelery)"
   ]
  },
  {
   "cell_type": "code",
   "execution_count": 31,
   "metadata": {},
   "outputs": [
    {
     "data": {
      "text/html": [],
      "text/plain": [
       "<IPython.core.display.HTML object>"
      ]
     },
     "metadata": {},
     "output_type": "display_data"
    },
    {
     "data": {
      "text/html": [
       "<style type=\"text/css\">\n",
       "</style>\n",
       "<table id=\"T_110f5\">\n",
       "  <thead>\n",
       "    <tr>\n",
       "      <th class=\"blank level0\" >&nbsp;</th>\n",
       "      <th id=\"T_110f5_level0_col0\" class=\"col_heading level0 col0\" >Silhouette</th>\n",
       "      <th id=\"T_110f5_level0_col1\" class=\"col_heading level0 col1\" >Calinski-Harabasz</th>\n",
       "      <th id=\"T_110f5_level0_col2\" class=\"col_heading level0 col2\" >Davies-Bouldin</th>\n",
       "      <th id=\"T_110f5_level0_col3\" class=\"col_heading level0 col3\" >Homogeneity</th>\n",
       "      <th id=\"T_110f5_level0_col4\" class=\"col_heading level0 col4\" >Rand Index</th>\n",
       "      <th id=\"T_110f5_level0_col5\" class=\"col_heading level0 col5\" >Completeness</th>\n",
       "    </tr>\n",
       "  </thead>\n",
       "  <tbody>\n",
       "    <tr>\n",
       "      <th id=\"T_110f5_level0_row0\" class=\"row_heading level0 row0\" >0</th>\n",
       "      <td id=\"T_110f5_row0_col0\" class=\"data row0 col0\" >0.7207</td>\n",
       "      <td id=\"T_110f5_row0_col1\" class=\"data row0 col1\" >5011.8115</td>\n",
       "      <td id=\"T_110f5_row0_col2\" class=\"data row0 col2\" >0.4114</td>\n",
       "      <td id=\"T_110f5_row0_col3\" class=\"data row0 col3\" >0</td>\n",
       "      <td id=\"T_110f5_row0_col4\" class=\"data row0 col4\" >0</td>\n",
       "      <td id=\"T_110f5_row0_col5\" class=\"data row0 col5\" >0</td>\n",
       "    </tr>\n",
       "  </tbody>\n",
       "</table>\n"
      ],
      "text/plain": [
       "<pandas.io.formats.style.Styler at 0x1de7facfa30>"
      ]
     },
     "metadata": {},
     "output_type": "display_data"
    },
    {
     "data": {
      "text/html": [],
      "text/plain": [
       "<IPython.core.display.HTML object>"
      ]
     },
     "metadata": {},
     "output_type": "display_data"
    }
   ],
   "source": [
    "kmeans=create_model('kmeans')"
   ]
  },
  {
   "cell_type": "code",
   "execution_count": 35,
   "metadata": {},
   "outputs": [
    {
     "data": {
      "text/html": [
       "<div>\n",
       "<style scoped>\n",
       "    .dataframe tbody tr th:only-of-type {\n",
       "        vertical-align: middle;\n",
       "    }\n",
       "\n",
       "    .dataframe tbody tr th {\n",
       "        vertical-align: top;\n",
       "    }\n",
       "\n",
       "    .dataframe thead th {\n",
       "        text-align: right;\n",
       "    }\n",
       "</style>\n",
       "<table border=\"1\" class=\"dataframe\">\n",
       "  <thead>\n",
       "    <tr style=\"text-align: right;\">\n",
       "      <th></th>\n",
       "      <th>Age</th>\n",
       "      <th>Income</th>\n",
       "      <th>SpendingScore</th>\n",
       "      <th>Savings</th>\n",
       "      <th>Cluster</th>\n",
       "    </tr>\n",
       "  </thead>\n",
       "  <tbody>\n",
       "    <tr>\n",
       "      <th>0</th>\n",
       "      <td>58</td>\n",
       "      <td>77769</td>\n",
       "      <td>0.791329</td>\n",
       "      <td>6559.830078</td>\n",
       "      <td>Cluster 2</td>\n",
       "    </tr>\n",
       "    <tr>\n",
       "      <th>1</th>\n",
       "      <td>59</td>\n",
       "      <td>81799</td>\n",
       "      <td>0.791082</td>\n",
       "      <td>5417.661621</td>\n",
       "      <td>Cluster 2</td>\n",
       "    </tr>\n",
       "    <tr>\n",
       "      <th>2</th>\n",
       "      <td>62</td>\n",
       "      <td>74751</td>\n",
       "      <td>0.702657</td>\n",
       "      <td>9258.993164</td>\n",
       "      <td>Cluster 2</td>\n",
       "    </tr>\n",
       "    <tr>\n",
       "      <th>3</th>\n",
       "      <td>59</td>\n",
       "      <td>74373</td>\n",
       "      <td>0.765680</td>\n",
       "      <td>7346.334473</td>\n",
       "      <td>Cluster 2</td>\n",
       "    </tr>\n",
       "    <tr>\n",
       "      <th>4</th>\n",
       "      <td>87</td>\n",
       "      <td>17760</td>\n",
       "      <td>0.348778</td>\n",
       "      <td>16869.507812</td>\n",
       "      <td>Cluster 1</td>\n",
       "    </tr>\n",
       "    <tr>\n",
       "      <th>...</th>\n",
       "      <td>...</td>\n",
       "      <td>...</td>\n",
       "      <td>...</td>\n",
       "      <td>...</td>\n",
       "      <td>...</td>\n",
       "    </tr>\n",
       "    <tr>\n",
       "      <th>500</th>\n",
       "      <td>28</td>\n",
       "      <td>101206</td>\n",
       "      <td>0.387441</td>\n",
       "      <td>14936.775391</td>\n",
       "      <td>Cluster 3</td>\n",
       "    </tr>\n",
       "    <tr>\n",
       "      <th>501</th>\n",
       "      <td>93</td>\n",
       "      <td>19934</td>\n",
       "      <td>0.203140</td>\n",
       "      <td>17969.693359</td>\n",
       "      <td>Cluster 1</td>\n",
       "    </tr>\n",
       "    <tr>\n",
       "      <th>502</th>\n",
       "      <td>90</td>\n",
       "      <td>35297</td>\n",
       "      <td>0.355149</td>\n",
       "      <td>16091.402344</td>\n",
       "      <td>Cluster 1</td>\n",
       "    </tr>\n",
       "    <tr>\n",
       "      <th>503</th>\n",
       "      <td>91</td>\n",
       "      <td>20681</td>\n",
       "      <td>0.354679</td>\n",
       "      <td>18401.087891</td>\n",
       "      <td>Cluster 1</td>\n",
       "    </tr>\n",
       "    <tr>\n",
       "      <th>504</th>\n",
       "      <td>89</td>\n",
       "      <td>30267</td>\n",
       "      <td>0.289310</td>\n",
       "      <td>14386.351562</td>\n",
       "      <td>Cluster 1</td>\n",
       "    </tr>\n",
       "  </tbody>\n",
       "</table>\n",
       "<p>505 rows × 5 columns</p>\n",
       "</div>"
      ],
      "text/plain": [
       "     Age  Income  SpendingScore       Savings    Cluster\n",
       "0     58   77769       0.791329   6559.830078  Cluster 2\n",
       "1     59   81799       0.791082   5417.661621  Cluster 2\n",
       "2     62   74751       0.702657   9258.993164  Cluster 2\n",
       "3     59   74373       0.765680   7346.334473  Cluster 2\n",
       "4     87   17760       0.348778  16869.507812  Cluster 1\n",
       "..   ...     ...            ...           ...        ...\n",
       "500   28  101206       0.387441  14936.775391  Cluster 3\n",
       "501   93   19934       0.203140  17969.693359  Cluster 1\n",
       "502   90   35297       0.355149  16091.402344  Cluster 1\n",
       "503   91   20681       0.354679  18401.087891  Cluster 1\n",
       "504   89   30267       0.289310  14386.351562  Cluster 1\n",
       "\n",
       "[505 rows x 5 columns]"
      ]
     },
     "execution_count": 35,
     "metadata": {},
     "output_type": "execute_result"
    }
   ],
   "source": [
    "kmeans_df=assign_model(kmeans)\n",
    "kmeans_df"
   ]
  },
  {
   "cell_type": "code",
   "execution_count": 39,
   "metadata": {},
   "outputs": [
    {
     "data": {
      "text/html": [],
      "text/plain": [
       "<IPython.core.display.HTML object>"
      ]
     },
     "metadata": {},
     "output_type": "display_data"
    },
    {
     "data": {
      "application/vnd.plotly.v1+json": {
       "config": {
        "plotlyServerURL": "https://plot.ly"
       },
       "data": [
        {
         "customdata": [
          [
           26
          ],
          [
           17
          ],
          [
           20
          ],
          [
           24
          ],
          [
           24
          ],
          [
           17
          ],
          [
           29
          ],
          [
           27
          ],
          [
           93
          ],
          [
           17
          ],
          [
           24
          ],
          [
           86
          ],
          [
           28
          ],
          [
           23
          ],
          [
           28
          ],
          [
           18
          ],
          [
           23
          ],
          [
           29
          ],
          [
           23
          ],
          [
           32
          ],
          [
           28
          ],
          [
           24
          ],
          [
           25
          ],
          [
           91
          ],
          [
           28
          ],
          [
           87
          ],
          [
           82
          ],
          [
           24
          ],
          [
           20
          ],
          [
           82
          ],
          [
           25
          ],
          [
           22
          ],
          [
           28
          ],
          [
           27
          ],
          [
           21
          ],
          [
           26
          ],
          [
           21
          ],
          [
           27
          ],
          [
           31
          ],
          [
           23
          ],
          [
           24
          ],
          [
           77
          ],
          [
           86
          ],
          [
           34
          ],
          [
           88
          ],
          [
           25
          ],
          [
           26
          ],
          [
           18
          ],
          [
           83
          ],
          [
           29
          ],
          [
           26
          ],
          [
           28
          ],
          [
           26
          ],
          [
           90
          ],
          [
           17
          ],
          [
           30
          ],
          [
           22
          ],
          [
           89
          ],
          [
           83
          ],
          [
           84
          ],
          [
           22
          ],
          [
           88
          ],
          [
           83
          ],
          [
           90
          ],
          [
           25
          ],
          [
           24
          ],
          [
           20
          ],
          [
           85
          ],
          [
           25
          ],
          [
           29
          ],
          [
           25
          ],
          [
           92
          ]
         ],
         "hovertemplate": "Cluster=Cluster 0<br>PCA1=%{x}<br>PCA2=%{y}<br>Feature=%{customdata[0]}<extra></extra>",
         "legendgroup": "Cluster 0",
         "marker": {
          "color": "#636efa",
          "opacity": 0.5,
          "symbol": "circle"
         },
         "mode": "markers",
         "name": "Cluster 0",
         "orientation": "v",
         "showlegend": true,
         "textposition": "top center",
         "type": "scatter",
         "x": [
          51532.470054685786,
          61085.16181816623,
          47415.38915596519,
          45280.29646688088,
          53976.789993076745,
          59803.045575974975,
          47210.61128826446,
          47518.881323479785,
          50874.593719639124,
          48697.32854572941,
          59239.8535212259,
          52679.13743936505,
          52465.033585302095,
          51395.2243558633,
          48029.23597884719,
          48551.897789887546,
          54778.91990697274,
          43600.2162072105,
          63317.066530294185,
          41328.25268046832,
          48281.96476028116,
          61617.25601853893,
          55783.428854090234,
          43084.43131856257,
          46000.80248340849,
          41859.154366077826,
          50433.851405074136,
          52263.494110483756,
          54230.31142876455,
          45920.30382555985,
          45728.40113927223,
          45302.57091364993,
          41933.87633764402,
          46271.74997443963,
          54542.56027032768,
          50397.083884591375,
          48602.571103509545,
          49923.23240059171,
          47836.448388874844,
          45049.71302323948,
          55795.99791010046,
          52844.21452066902,
          48577.2459519716,
          44074.74433395841,
          47964.55228506109,
          62912.45710039263,
          52086.38065950189,
          55587.35172793507,
          42157.805430948734,
          66750.62107639125,
          56651.4554863195,
          53924.5970418673,
          47842.883669132316,
          48410.00928895811,
          59798.174818909996,
          47549.76255316081,
          57857.289053149805,
          43861.74707161997,
          43629.012740059086,
          46993.641070863785,
          58984.550283890065,
          44952.90204718009,
          41580.27174136408,
          42045.79572232814,
          55809.608247543416,
          59196.593078354046,
          53899.23405406334,
          42414.13983525128,
          53422.552479964805,
          56449.67813276751,
          55168.45153662265,
          47182.0686012116
         ],
         "xaxis": "x",
         "y": [
          6006.733800938243,
          4243.721803980181,
          4709.388721993278,
          4437.356755042894,
          5488.389848804964,
          8450.307548937864,
          6674.234783135653,
          4941.999476017805,
          -5178.053057007954,
          5282.497861655177,
          4745.14449328446,
          -4749.056737128186,
          3371.533064192323,
          5657.241523409535,
          5422.3237152636475,
          4668.21470134718,
          4629.7913457227005,
          -5657.478374018926,
          4946.177503380892,
          -4823.64560909586,
          8499.966919747443,
          6726.313729421173,
          4732.087674705492,
          -4660.855325409049,
          3884.4528521696875,
          -4543.326342656829,
          -6854.20579029035,
          5916.358116348494,
          3238.428937484126,
          -4953.921494062015,
          3658.3064353496707,
          3778.1816093851294,
          4717.997031231377,
          4207.414538362315,
          4193.883189681694,
          2890.5507602719595,
          6249.537248101817,
          6048.724076369267,
          6059.983303443477,
          4590.872356292773,
          4252.897482631877,
          -5677.6678363982455,
          -6305.307643166633,
          -6307.668957592922,
          -4397.185708241014,
          5261.355290099564,
          3388.427067520483,
          3427.135170171345,
          -5954.454575332922,
          2693.0080673252037,
          4271.292256835257,
          5765.842917677417,
          4758.188583448417,
          -5693.66547798064,
          4315.751653167786,
          3437.896625297283,
          5717.501103769999,
          -6877.036237163733,
          -6254.840940318052,
          -4647.129392602865,
          3350.7117975359847,
          -4985.514604349075,
          -5615.560841025145,
          -3106.103134052793,
          3879.14954257809,
          3903.9748137910688,
          3176.7468047467937,
          -5432.281984340307,
          3894.235404068598,
          5101.39863112898,
          4016.9815008394603,
          -4557.716265875749
         ],
         "yaxis": "y"
        },
        {
         "customdata": [
          [
           88
          ],
          [
           84
          ],
          [
           91
          ],
          [
           86
          ],
          [
           91
          ],
          [
           86
          ],
          [
           94
          ],
          [
           85
          ],
          [
           94
          ],
          [
           88
          ],
          [
           85
          ],
          [
           83
          ],
          [
           86
          ],
          [
           91
          ],
          [
           90
          ],
          [
           88
          ],
          [
           84
          ],
          [
           92
          ],
          [
           91
          ],
          [
           94
          ],
          [
           83
          ],
          [
           91
          ],
          [
           83
          ],
          [
           89
          ],
          [
           88
          ],
          [
           87
          ],
          [
           88
          ],
          [
           89
          ],
          [
           85
          ],
          [
           91
          ],
          [
           85
          ],
          [
           94
          ],
          [
           83
          ],
          [
           94
          ],
          [
           84
          ],
          [
           86
          ],
          [
           85
          ],
          [
           87
          ],
          [
           88
          ],
          [
           89
          ],
          [
           87
          ],
          [
           86
          ],
          [
           88
          ],
          [
           91
          ],
          [
           85
          ],
          [
           88
          ],
          [
           90
          ],
          [
           87
          ],
          [
           91
          ],
          [
           85
          ],
          [
           92
          ],
          [
           89
          ],
          [
           89
          ],
          [
           95
          ],
          [
           87
          ],
          [
           87
          ],
          [
           82
          ],
          [
           93
          ],
          [
           82
          ],
          [
           91
          ],
          [
           82
          ],
          [
           89
          ],
          [
           84
          ],
          [
           87
          ],
          [
           92
          ],
          [
           90
          ],
          [
           91
          ],
          [
           81
          ],
          [
           93
          ],
          [
           88
          ],
          [
           84
          ],
          [
           85
          ],
          [
           87
          ],
          [
           89
          ],
          [
           89
          ],
          [
           86
          ],
          [
           84
          ],
          [
           91
          ],
          [
           91
          ],
          [
           83
          ],
          [
           87
          ],
          [
           90
          ],
          [
           83
          ],
          [
           83
          ],
          [
           83
          ],
          [
           87
          ],
          [
           92
          ],
          [
           91
          ],
          [
           79
          ],
          [
           94
          ],
          [
           83
          ],
          [
           91
          ],
          [
           85
          ],
          [
           87
          ],
          [
           87
          ],
          [
           88
          ],
          [
           86
          ],
          [
           90
          ],
          [
           84
          ],
          [
           86
          ],
          [
           90
          ],
          [
           93
          ],
          [
           87
          ],
          [
           91
          ],
          [
           87
          ],
          [
           83
          ],
          [
           84
          ],
          [
           87
          ],
          [
           92
          ],
          [
           87
          ],
          [
           82
          ],
          [
           84
          ],
          [
           97
          ],
          [
           91
          ],
          [
           92
          ],
          [
           90
          ],
          [
           91
          ],
          [
           90
          ],
          [
           88
          ],
          [
           84
          ],
          [
           84
          ],
          [
           92
          ],
          [
           88
          ],
          [
           90
          ],
          [
           84
          ],
          [
           87
          ],
          [
           82
          ],
          [
           89
          ],
          [
           88
          ],
          [
           88
          ],
          [
           88
          ],
          [
           91
          ],
          [
           86
          ],
          [
           89
          ],
          [
           89
          ],
          [
           90
          ],
          [
           89
          ],
          [
           92
          ],
          [
           85
          ],
          [
           94
          ],
          [
           90
          ],
          [
           85
          ],
          [
           88
          ],
          [
           84
          ],
          [
           79
          ],
          [
           88
          ],
          [
           87
          ]
         ],
         "hovertemplate": "Cluster=Cluster 1<br>PCA1=%{x}<br>PCA2=%{y}<br>Feature=%{customdata[0]}<extra></extra>",
         "legendgroup": "Cluster 1",
         "marker": {
          "color": "#EF553B",
          "opacity": 0.5,
          "symbol": "circle"
         },
         "mode": "markers",
         "name": "Cluster 1",
         "orientation": "v",
         "showlegend": true,
         "textposition": "top center",
         "type": "scatter",
         "x": [
          -58306.89374562317,
          -53484.99043374053,
          -50504.82310462913,
          -56854.244929278204,
          -45489.12000858338,
          -46897.287218804486,
          -36822.88273567961,
          -47271.41327800885,
          -47975.62988585301,
          -47129.844161164685,
          -49427.52412175888,
          -48890.162063403404,
          -39916.59061180589,
          -49274.44239573866,
          -45508.35391168647,
          -43012.76980619299,
          -48329.37517055245,
          -42805.174705655,
          -47000.17167428391,
          -54957.490976530244,
          -57495.82749294874,
          -48496.84791008091,
          -45148.06214368701,
          -50446.6872077838,
          -57750.75775521803,
          -50055.787556764524,
          -53103.847928511896,
          -44680.8935536425,
          -44945.69896471382,
          -46108.564374153524,
          -40907.25151543578,
          -48448.18983149922,
          -47148.049525131864,
          -56820.087514001265,
          -37730.76929457193,
          -28705.21282526336,
          -47927.75616068905,
          -49952.56387007487,
          -49206.07300463819,
          -56491.72617965688,
          -45504.92819267483,
          -43811.472609145436,
          -56178.67329217833,
          -63634.72202883467,
          -54413.15852823439,
          -40724.15684584518,
          -53514.36611000952,
          -63656.34761270807,
          -39063.286664840605,
          -46522.91946866404,
          -39882.023288280216,
          -42432.645121021924,
          -49610.67501721531,
          -48754.55326230381,
          -44821.27196488109,
          -28723.991918569303,
          -51459.51352500545,
          -55300.43836861995,
          -42172.09137421163,
          -58771.330100057596,
          -43231.47785779805,
          -55368.98425714009,
          -48469.75824737505,
          -51191.18314121457,
          -53329.088922118586,
          -42253.87288275522,
          -55116.835987210456,
          -41272.89535426133,
          -58127.50383446989,
          -42594.24303541742,
          -48254.006209568106,
          -46206.760756424876,
          -57176.86780758159,
          -48762.364713996016,
          -45316.58138942738,
          -39708.64698638511,
          -57516.27314156978,
          -51304.42078363724,
          -48867.334253339606,
          -47072.83269048476,
          -52350.136878173274,
          -42485.19893881768,
          -42546.30924747514,
          -52508.303527129036,
          -45053.50114082118,
          -52745.27195482761,
          -53120.54075530759,
          -49855.3601937739,
          -37510.58805740357,
          -51858.95285548027,
          -41183.65208626923,
          -38870.67259289512,
          -53905.330812432665,
          -49083.989006407006,
          -49618.5642662469,
          -42334.04764915755,
          -48031.60030337846,
          -46621.675172876654,
          -55003.114748713146,
          -52219.78891088443,
          -40392.52356154923,
          -55837.89619000485,
          -57945.294049611366,
          -44891.726951259356,
          -33223.78792540311,
          -41229.08531754963,
          -48086.471598016615,
          -45889.16122740452,
          -39730.75490897845,
          -44207.36922040722,
          -42152.502842284805,
          -39255.47389259957,
          -48338.704688000944,
          -52957.61627730338,
          -56895.33601319732,
          -38257.01248030677,
          -47591.225131434614,
          -52877.38162330976,
          -57888.98693996799,
          -45243.33594590511,
          -51590.97204811316,
          -40276.44812098459,
          -44316.390997156326,
          -50029.048644307986,
          -33685.8230195353,
          -59885.18347781833,
          -51335.696316784764,
          -51006.62594962383,
          -41654.28539711412,
          -46888.40588576984,
          -47339.94734492914,
          -46752.171898182976,
          -60035.35569518884,
          -53680.72060591249,
          -47490.05336010272,
          -42382.69882279961,
          -41047.37638673446,
          -42194.79875082262,
          -41090.432743024736,
          -47366.64942872538,
          -51240.79467140158,
          -47211.30922838361,
          -49640.516280076605,
          -46294.69656360339,
          -43219.5706384472,
          -48459.57886574736,
          -45592.66270794387
         ],
         "xaxis": "x",
         "y": [
          -1498.3071568123503,
          -2964.870935052016,
          -2541.1034297579586,
          -1039.8872367476195,
          -857.2362973575493,
          -1500.6000118770835,
          -3004.1360440515805,
          -1422.2632977402084,
          -2697.480521875641,
          -2166.9455046342396,
          -3282.496539528996,
          -3117.043952131993,
          -5860.4070049476195,
          -1819.1411226436471,
          -1716.0962167717566,
          -2388.3979285656496,
          -2106.955706664308,
          -2383.9238128105226,
          -3258.592151182354,
          -1273.033886498742,
          -874.5934065316567,
          -1255.022876646797,
          -918.4435120938813,
          -1789.8301942200421,
          -1546.7861986769105,
          -458.7328186883247,
          -1838.6649351564,
          -3320.2389025799566,
          -2663.4354555556247,
          -4704.899979069117,
          -2247.723767110279,
          -424.49463918423834,
          -948.1703671149727,
          -2626.4940910385,
          -3447.522083521276,
          -2125.516560546752,
          1139.06759138312,
          -1016.3629330534924,
          646.5434219075403,
          -1529.9498518651965,
          -1656.4246533860949,
          -3844.0504697250963,
          -1450.7322712124185,
          -958.537035766111,
          -1055.9964673992308,
          -3403.354334610765,
          -3511.6510358173887,
          -672.1307761420629,
          -2178.9510788997572,
          -2395.1514908507806,
          -3145.8380799741603,
          -2804.317989764121,
          -2494.346157927882,
          -3476.7582415328566,
          -809.2480282398328,
          -1283.2493348069156,
          -1443.6315773519384,
          -2379.4456307220717,
          -3482.9500826311123,
          -1946.4256473207158,
          -2464.3656356469837,
          -990.607288855173,
          -975.0114136119723,
          -2999.0486974014216,
          -3704.1154622013437,
          -2813.4089680993466,
          -3386.6308713700564,
          -2039.0522118035892,
          -3329.4235557220823,
          -4573.1365583188735,
          -3586.3925803309553,
          -3972.438138273665,
          -500.3822652767309,
          -1902.3045662332295,
          72.34217763365127,
          -2812.640793364645,
          -2662.2372056655704,
          -1341.6420338652329,
          -3330.0956203911082,
          -3652.14273472246,
          -1271.8366522528793,
          -1573.1294931068767,
          -2323.954352739613,
          -2003.379466663111,
          -3267.8529257017844,
          -3270.2493332029285,
          -2373.9076829435626,
          -2551.6401760254316,
          -2385.931492912865,
          -1998.3145888103263,
          -2299.1778477879416,
          -4966.632164446516,
          776.721281959567,
          -2706.9536020764285,
          -1200.4989785914938,
          -946.4423236598781,
          -2520.879074299022,
          -1061.392546047768,
          -1806.3718853762603,
          -361.822900074144,
          -1918.071077159507,
          -2913.1509550389615,
          -1690.224243239289,
          -1059.5101766806472,
          -4327.5997846590835,
          -559.8885893852707,
          -3267.6642579009535,
          -3656.859751453872,
          -3215.31151566394,
          -1788.595448050822,
          -3595.426920160012,
          -2456.062958384288,
          -296.9483635317865,
          -512.1679220763332,
          -219.83546115271315,
          -3209.7049807914987,
          -2876.0171941981066,
          -1034.045904678544,
          -2297.4104831044388,
          -2386.7438202843023,
          -1709.6808347140902,
          -3159.4029087705608,
          -1681.1081908254462,
          -2907.7976923646916,
          -2359.980757311172,
          968.1817045075676,
          -2253.3241819888653,
          1229.6345018341212,
          -1284.2768049213948,
          -1747.2843051407012,
          -2756.2106649257626,
          -4260.668084206519,
          -2067.7845249042275,
          -1523.1535588510803,
          -1025.6554152768006,
          -1026.2176795347016,
          163.0082475778458,
          -2831.2452680158353,
          -2507.4686024831612,
          -2226.5245221788286,
          -337.5830610287052,
          -497.02890750722577,
          -2403.4517367005997,
          -3445.141443035063,
          -982.6375502407432,
          -623.0250548560496,
          -1858.741442949727
         ],
         "yaxis": "y"
        },
        {
         "customdata": [
          [
           58
          ],
          [
           59
          ],
          [
           61
          ],
          [
           58
          ],
          [
           61
          ],
          [
           55
          ],
          [
           56
          ],
          [
           57
          ],
          [
           56
          ],
          [
           58
          ],
          [
           65
          ],
          [
           67
          ],
          [
           58
          ],
          [
           61
          ],
          [
           59
          ],
          [
           66
          ],
          [
           59
          ],
          [
           59
          ],
          [
           60
          ],
          [
           60
          ],
          [
           67
          ],
          [
           56
          ],
          [
           62
          ],
          [
           65
          ],
          [
           59
          ],
          [
           58
          ],
          [
           61
          ],
          [
           63
          ],
          [
           67
          ],
          [
           65
          ],
          [
           64
          ],
          [
           60
          ],
          [
           61
          ],
          [
           59
          ],
          [
           63
          ],
          [
           61
          ],
          [
           57
          ],
          [
           57
          ],
          [
           59
          ],
          [
           59
          ],
          [
           56
          ],
          [
           61
          ],
          [
           68
          ],
          [
           59
          ],
          [
           60
          ],
          [
           62
          ],
          [
           62
          ],
          [
           59
          ],
          [
           59
          ],
          [
           59
          ],
          [
           63
          ],
          [
           58
          ],
          [
           55
          ],
          [
           61
          ],
          [
           51
          ],
          [
           58
          ],
          [
           56
          ],
          [
           58
          ],
          [
           63
          ],
          [
           62
          ],
          [
           66
          ],
          [
           57
          ],
          [
           66
          ],
          [
           63
          ],
          [
           64
          ],
          [
           62
          ],
          [
           62
          ],
          [
           60
          ],
          [
           65
          ],
          [
           60
          ],
          [
           59
          ],
          [
           56
          ],
          [
           58
          ],
          [
           62
          ],
          [
           56
          ],
          [
           59
          ],
          [
           58
          ],
          [
           63
          ],
          [
           64
          ],
          [
           62
          ],
          [
           60
          ],
          [
           62
          ],
          [
           58
          ],
          [
           56
          ],
          [
           62
          ],
          [
           64
          ],
          [
           66
          ],
          [
           59
          ],
          [
           62
          ],
          [
           65
          ],
          [
           61
          ],
          [
           62
          ],
          [
           60
          ],
          [
           63
          ],
          [
           59
          ],
          [
           62
          ],
          [
           59
          ],
          [
           54
          ],
          [
           61
          ],
          [
           55
          ],
          [
           53
          ],
          [
           55
          ],
          [
           61
          ],
          [
           59
          ],
          [
           59
          ],
          [
           56
          ],
          [
           61
          ],
          [
           61
          ],
          [
           60
          ],
          [
           57
          ],
          [
           61
          ],
          [
           56
          ],
          [
           58
          ],
          [
           64
          ],
          [
           59
          ],
          [
           58
          ],
          [
           59
          ],
          [
           58
          ],
          [
           57
          ],
          [
           55
          ],
          [
           62
          ],
          [
           64
          ],
          [
           61
          ],
          [
           53
          ],
          [
           55
          ],
          [
           58
          ],
          [
           59
          ],
          [
           57
          ],
          [
           53
          ],
          [
           64
          ],
          [
           61
          ],
          [
           60
          ],
          [
           58
          ],
          [
           68
          ],
          [
           59
          ],
          [
           64
          ],
          [
           63
          ],
          [
           63
          ],
          [
           66
          ],
          [
           62
          ],
          [
           59
          ],
          [
           57
          ],
          [
           61
          ],
          [
           58
          ],
          [
           67
          ],
          [
           64
          ],
          [
           55
          ],
          [
           56
          ],
          [
           58
          ],
          [
           55
          ],
          [
           57
          ],
          [
           57
          ],
          [
           58
          ],
          [
           60
          ],
          [
           56
          ],
          [
           61
          ]
         ],
         "hovertemplate": "Cluster=Cluster 2<br>PCA1=%{x}<br>PCA2=%{y}<br>Feature=%{customdata[0]}<extra></extra>",
         "legendgroup": "Cluster 2",
         "marker": {
          "color": "#00cc96",
          "opacity": 0.5,
          "symbol": "circle"
         },
         "mode": "markers",
         "name": "Cluster 2",
         "orientation": "v",
         "showlegend": true,
         "textposition": "top center",
         "type": "scatter",
         "x": [
          -6075.723954598626,
          -7981.746785180182,
          -6214.354922912841,
          4968.7646564935585,
          -3222.028498023302,
          1547.9124272171957,
          375.6120103283669,
          4615.604597857515,
          -1755.3663671079719,
          834.6063397987239,
          -4114.6658392531635,
          5679.935019062441,
          -4883.72055737795,
          -967.1345392121397,
          -1709.0067144922627,
          1855.047974617406,
          -7793.454361394589,
          -18832.323097259658,
          -9176.939927564543,
          -5149.414552703783,
          3574.8676307498163,
          3735.222284723831,
          -7431.169948635812,
          -4794.73019727138,
          -1864.5940731049407,
          2868.675324116308,
          -9270.983238674971,
          7034.56700094057,
          -6586.375025316476,
          -811.2732950246618,
          -12402.614021503567,
          -805.518275463918,
          -7827.504394122573,
          -7225.656657280488,
          -7793.211518497572,
          3607.6218458178496,
          -3147.971701777521,
          -10371.487065175937,
          -2220.6354443938167,
          5619.12553337801,
          5122.282549932672,
          -9600.009518947492,
          -6270.130047136973,
          2663.8141164029994,
          -11770.096233982844,
          -1424.2968597298832,
          -5898.7444822217985,
          -5787.584451174634,
          -6051.79804307661,
          7017.407221041,
          -4661.643211273586,
          3333.037006876274,
          -10419.650737321668,
          -3197.77067384332,
          -3127.7464850155166,
          -4588.845678205518,
          -9823.292972914784,
          2555.7842237304044,
          5567.478118222896,
          -1710.0091114415056,
          -2630.794144410171,
          1381.2925353027395,
          -10238.837919558971,
          -2329.6167739359703,
          -3536.624902612321,
          -11570.013634605875,
          -12594.17525719195,
          -3881.279238659191,
          -9447.56696158067,
          -4595.725464525729,
          277.31943945234815,
          9121.208333274739,
          499.4966240063598,
          -4176.7226283581695,
          -6529.597903259432,
          -7423.928781748681,
          3385.822034418752,
          -5414.8496210406765,
          11039.026949927054,
          -5806.0770680668375,
          -10072.875122355035,
          3175.7301036364247,
          -5327.512632351786,
          -6874.4472797958015,
          -6945.490210959251,
          1198.215521605772,
          7325.256189942475,
          -7249.028144112701,
          4864.6836517626425,
          -9153.99211227535,
          -5628.98375507212,
          -8175.944783875938,
          4848.442756486664,
          10499.407287118534,
          6644.597598902884,
          -611.8920901109303,
          -879.6961238367913,
          1270.592614494425,
          -3354.4093952257376,
          -3652.0516255628017,
          1535.3200257259386,
          3442.0678892712513,
          1691.147001291704,
          -9514.742116918944,
          -5495.930033917728,
          -11393.26427331702,
          -1006.7942920597797,
          -11385.807306619192,
          -5228.773563698112,
          106.4473157190018,
          -2009.7086269484528,
          11129.424152003634,
          -4333.35316556137,
          13091.374146760896,
          -860.4354508721386,
          1797.869290930969,
          -2601.8696305967833,
          -4972.922132318899,
          4241.775879690274,
          -4197.9959882247285,
          -5414.451735591041,
          -14757.626867529665,
          -6112.701963031477,
          -13124.391619355412,
          -847.3002323292325,
          -907.6690954314635,
          -3902.6507664053634,
          -1148.5927303150022,
          -284.9346156042483,
          1223.3332868105217,
          -4025.534582979208,
          -9955.598990292232,
          5073.487342754957,
          2456.114930263716,
          -5713.304473394476,
          -10817.514887710635,
          -18377.08090902116,
          -182.87509914870884,
          -3578.641169860198,
          -12401.012613234328,
          384.4886441749421,
          -9604.97611158608,
          -4335.121225148146,
          -4856.160273050596,
          -15876.014206199563,
          3594.0424319377607,
          -1254.7960958097458,
          -7927.2794017390015,
          2392.9514015408076,
          871.056128882999,
          1380.909588921547,
          -5506.504771609414,
          8122.080380431853,
          -7740.90488614821,
          -15159.90190703026,
          -1867.501178184359
         ],
         "xaxis": "x",
         "y": [
          3500.5963142113806,
          3467.566430123222,
          8154.200471910161,
          3943.1172738218734,
          4129.181187750035,
          3973.906796940993,
          5049.606055105599,
          5713.4422040031895,
          4273.2051301571955,
          5141.1013531258095,
          3078.8959824923877,
          4711.285755352458,
          4688.370839749894,
          4638.7240831112385,
          3684.695260089208,
          5468.743079867755,
          5788.853750291175,
          6823.2532219947,
          7146.6627006351955,
          5556.6661625383185,
          6638.189555586531,
          4370.467576915715,
          6342.036887449034,
          5174.470366607367,
          5267.352326944863,
          5223.642144465042,
          5996.549301848855,
          3374.2873062887634,
          4795.659468727197,
          4771.515278723627,
          4277.420175996693,
          4348.095844750875,
          5701.697567388543,
          4564.617535912253,
          6334.243106042935,
          4852.444506942652,
          5506.996438516336,
          6211.274367328164,
          4177.140252105045,
          4314.803831727298,
          3424.0734017075038,
          4923.281736972954,
          5401.82189917307,
          3399.119908746672,
          5001.420588195518,
          7267.328447090962,
          5205.84012735838,
          5711.628519863213,
          6221.683197407632,
          5588.800471678807,
          4875.41184459968,
          4012.215485337337,
          5982.858062463154,
          5127.9492979435145,
          5318.2818445710855,
          4468.268199202184,
          6862.247568550062,
          5164.690207216542,
          6399.679501338902,
          5692.091535965754,
          5512.809747300329,
          5207.220968280951,
          7423.315553060324,
          6502.20765839998,
          5070.4130636902755,
          6393.584858504244,
          5058.59326067615,
          3532.7505500967063,
          6026.370077872554,
          4575.315312500273,
          5152.077474584809,
          4076.1889404178037,
          4450.572584113242,
          5121.948253777,
          5174.060198642412,
          5595.4250137552435,
          4513.159188235654,
          4509.378968992937,
          4384.687445082085,
          5686.132099777833,
          7033.8322674390665,
          4727.079878527436,
          5507.674338617669,
          3266.4705558115984,
          5240.283887422061,
          6031.597702947421,
          5245.750184774917,
          5030.101276940077,
          4834.954016262216,
          6237.454829267943,
          3413.4612857981797,
          5599.274846074156,
          6716.389157420829,
          4092.58667355862,
          6074.108602891876,
          2642.856238209562,
          4574.029857294047,
          4918.8610453966885,
          4039.04972662622,
          4298.147977719961,
          6617.143268176032,
          3293.926138303468,
          4305.605568968245,
          5484.062321469938,
          5033.927141363294,
          4760.726839204425,
          6827.73658190339,
          5239.834348120344,
          4906.821114529844,
          5019.545227332754,
          4571.311395238496,
          2451.395705037183,
          6791.1218548121105,
          3878.0739044405027,
          1366.2174572861716,
          3616.906745545874,
          5720.063891344353,
          5053.9745650978975,
          4854.3733603157,
          4646.423182047714,
          6401.496667099201,
          5008.011891703144,
          7150.26577689115,
          5122.298324176325,
          5435.293660917676,
          4662.571681544214,
          5499.33924219725,
          6154.518340801139,
          4064.008359759917,
          5666.368020665906,
          5644.552286645012,
          4085.3124409459465,
          5244.436589238656,
          5539.978054207797,
          6098.407220683629,
          6677.482013672125,
          5086.374515846034,
          4411.324333177543,
          4687.331267871377,
          6731.622413481735,
          6845.141671584175,
          5517.4568361246365,
          2658.297501723999,
          6861.841813756604,
          7337.462411005266,
          5244.223965614587,
          6380.91567846293,
          5673.527612414182,
          5992.684142669527,
          5689.000195132609,
          5567.11275396265,
          6298.430264198255,
          4731.012077645315,
          5133.639365463523,
          5573.243770197057,
          2685.6629912898006
         ],
         "yaxis": "y"
        },
        {
         "customdata": [
          [
           37
          ],
          [
           30
          ],
          [
           30
          ],
          [
           36
          ],
          [
           31
          ],
          [
           31
          ],
          [
           33
          ],
          [
           85
          ],
          [
           30
          ],
          [
           37
          ],
          [
           36
          ],
          [
           84
          ],
          [
           34
          ],
          [
           36
          ],
          [
           30
          ],
          [
           22
          ],
          [
           34
          ],
          [
           35
          ],
          [
           34
          ],
          [
           37
          ],
          [
           35
          ],
          [
           29
          ],
          [
           28
          ],
          [
           38
          ],
          [
           88
          ],
          [
           31
          ],
          [
           31
          ],
          [
           30
          ],
          [
           29
          ],
          [
           33
          ],
          [
           32
          ],
          [
           30
          ],
          [
           31
          ],
          [
           37
          ],
          [
           39
          ],
          [
           31
          ],
          [
           33
          ],
          [
           33
          ],
          [
           36
          ],
          [
           31
          ],
          [
           33
          ],
          [
           31
          ],
          [
           31
          ],
          [
           37
          ],
          [
           36
          ],
          [
           30
          ],
          [
           37
          ],
          [
           25
          ],
          [
           35
          ],
          [
           33
          ],
          [
           34
          ],
          [
           28
          ],
          [
           31
          ],
          [
           33
          ],
          [
           28
          ],
          [
           35
          ],
          [
           31
          ],
          [
           31
          ],
          [
           30
          ],
          [
           33
          ],
          [
           28
          ],
          [
           31
          ],
          [
           40
          ],
          [
           30
          ],
          [
           29
          ],
          [
           34
          ],
          [
           39
          ],
          [
           30
          ],
          [
           86
          ],
          [
           35
          ],
          [
           59
          ],
          [
           29
          ],
          [
           28
          ],
          [
           38
          ],
          [
           31
          ],
          [
           84
          ],
          [
           29
          ],
          [
           32
          ],
          [
           28
          ],
          [
           36
          ],
          [
           32
          ],
          [
           84
          ],
          [
           29
          ],
          [
           42
          ],
          [
           32
          ],
          [
           29
          ],
          [
           29
          ],
          [
           34
          ],
          [
           25
          ],
          [
           29
          ],
          [
           33
          ],
          [
           35
          ],
          [
           33
          ],
          [
           36
          ],
          [
           37
          ],
          [
           36
          ],
          [
           35
          ],
          [
           29
          ],
          [
           38
          ],
          [
           33
          ],
          [
           33
          ],
          [
           31
          ],
          [
           38
          ],
          [
           32
          ],
          [
           36
          ],
          [
           34
          ],
          [
           27
          ],
          [
           37
          ],
          [
           35
          ],
          [
           39
          ],
          [
           35
          ],
          [
           31
          ],
          [
           30
          ],
          [
           31
          ],
          [
           37
          ],
          [
           24
          ],
          [
           34
          ],
          [
           31
          ],
          [
           32
          ],
          [
           37
          ],
          [
           26
          ],
          [
           34
          ],
          [
           33
          ],
          [
           33
          ],
          [
           35
          ],
          [
           34
          ],
          [
           28
          ],
          [
           44
          ],
          [
           36
          ],
          [
           43
          ]
         ],
         "hovertemplate": "Cluster=Cluster 3<br>PCA1=%{x}<br>PCA2=%{y}<br>Feature=%{customdata[0]}<extra></extra>",
         "legendgroup": "Cluster 3",
         "marker": {
          "color": "#ab63fa",
          "opacity": 0.5,
          "symbol": "circle"
         },
         "mode": "markers",
         "name": "Cluster 3",
         "orientation": "v",
         "showlegend": true,
         "textposition": "top center",
         "type": "scatter",
         "x": [
          30949.636906806874,
          31614.442557749975,
          24294.80848197436,
          23967.00614170643,
          32345.70841110806,
          32322.9085355238,
          22258.608678229924,
          35579.20584184765,
          26298.14840302524,
          22105.03460663264,
          20592.346601240515,
          38543.62513846528,
          26507.042897939562,
          28639.38501225214,
          22224.556150677487,
          33345.156274462606,
          23196.213321683532,
          28912.895143562044,
          28627.259856345176,
          21900.785293459732,
          41298.631284922674,
          30268.705481027417,
          25474.402763132617,
          18943.37281532903,
          38847.169751928835,
          39135.37624685958,
          30148.682682831157,
          31911.00122289601,
          15764.4914229307,
          25328.069975138656,
          32572.750284951715,
          25376.69328333062,
          37228.73474929928,
          32912.892054458214,
          24706.12836543107,
          35758.27546112109,
          31361.08525850117,
          31045.220281184596,
          24491.388924465642,
          32416.939856368164,
          30584.12459685678,
          25732.344964588883,
          25363.919193669713,
          32289.540193394685,
          22350.76980617097,
          32797.64364946063,
          31202.412658451656,
          25765.790066438327,
          30806.7763656997,
          30046.489099008388,
          22393.41770462973,
          19017.169490301174,
          32307.936747625554,
          40849.480601181116,
          24827.978797692216,
          34360.481813439466,
          35187.9105605055,
          40419.57667419344,
          20486.14068168533,
          32561.025384279314,
          23858.598234856057,
          23748.67782602553,
          23032.680118427605,
          32149.921302465693,
          26228.376273797592,
          35572.715402147136,
          23470.847054512193,
          30614.165788924787,
          39941.23737200699,
          30155.33417948098,
          15177.31970279136,
          40673.85966572637,
          36260.39987248514,
          37939.717010227345,
          26983.046355085906,
          34834.901797228114,
          35036.715862905876,
          26023.56639270154,
          33379.420597243996,
          29861.54669189974,
          30836.97832091277,
          39513.27355052192,
          27412.691418946484,
          31253.46850384729,
          19785.994373705336,
          35711.080006299984,
          23392.94203833671,
          14006.000973765176,
          30950.10184584328,
          26312.37296994567,
          36008.72534227601,
          37194.90227154463,
          38869.64947043888,
          32210.979752849824,
          31960.75447088309,
          33203.842614913294,
          26578.15321715033,
          36813.76713471411,
          28960.634987007834,
          23896.36879719904,
          19295.2677007761,
          28681.54987121019,
          39399.401380792246,
          34753.148471170556,
          34060.877510972976,
          23022.218288328804,
          31016.952780284268,
          34830.866045261144,
          32691.86956188508,
          24819.360933982727,
          26003.522420593898,
          29210.55689290377,
          33217.92658728099,
          31330.34395958771,
          32853.062284043,
          34815.254907582974,
          27758.38755378164,
          29240.50973646175,
          26343.678683823553,
          35023.21628615082,
          21973.307957772966,
          31502.360315169375,
          16918.67622592376,
          24613.751994747243,
          31317.29808239698,
          27456.913258989418,
          22236.169465667877,
          38938.11811665463,
          26071.981192203388,
          25938.05051554674
         ],
         "xaxis": "x",
         "y": [
          -4397.197247861159,
          -3948.4132949879486,
          -3156.174810819154,
          -5918.695473496264,
          -2201.7207440339243,
          -3681.290698907485,
          -5195.925254869426,
          -6195.256076450416,
          -5023.038893615683,
          -4346.187481501863,
          -4611.587865702772,
          -7198.063500096831,
          -5484.674224534327,
          -3130.950373858055,
          -5737.014106158462,
          -6080.299784647307,
          -5613.714696123645,
          -5224.554320132962,
          -3324.816428758568,
          -5234.91456422079,
          -6422.065158701379,
          -4917.675610318429,
          -4541.161734519424,
          -6099.926572904173,
          -8209.63960539854,
          -4339.706610389613,
          -3727.6410744728214,
          -2672.911587003682,
          -2149.152364399405,
          -4507.818639633958,
          -6711.005612774818,
          -3922.3289154774993,
          -4575.537585729334,
          -4588.664848267575,
          -6304.286669733976,
          -4122.471659041032,
          -4837.589777514414,
          -4354.8802382614,
          -3378.543647632871,
          -3316.874095179474,
          -5198.652074260108,
          -4846.280154278842,
          -6518.878337708814,
          -3634.3416070178255,
          -5405.1925717176555,
          -5654.547208585242,
          -4006.8812090056585,
          -4647.51468301475,
          -5560.204279339271,
          -2733.1091736642998,
          -5150.747387385606,
          -4587.056170558119,
          -3401.0812051775497,
          -5591.430813146153,
          -5088.608026609535,
          -5038.81634560889,
          -4164.857943447227,
          -6642.234020142049,
          -4804.203961851945,
          -5658.528738891308,
          -4857.997405051624,
          -4085.387714057354,
          -5461.179167794452,
          -5508.945012028885,
          -4266.484394821195,
          -4807.664945608783,
          -4720.248568308454,
          -4762.434742638739,
          -5237.495096676824,
          -6491.845587524797,
          4253.670080185395,
          -5771.827355976943,
          -3890.344534167892,
          -4683.4402679132145,
          -2897.4182757985127,
          -5079.54089700267,
          -6415.699422707938,
          -7172.334086297048,
          -4139.052833212811,
          -4210.491363493583,
          -4248.410776130163,
          -4805.68261517991,
          -5970.6593858539145,
          -4792.820646769852,
          -4699.391881256261,
          -4543.480905662903,
          -5117.926531788417,
          -1775.6048970799593,
          -6274.399316410814,
          -4286.4053524810115,
          -6111.705479451007,
          -4030.48621423815,
          -4117.8357441478975,
          -5806.362656038756,
          -7950.138456796386,
          -6552.892383943655,
          -4542.181119259877,
          -4615.4621299379405,
          -5439.902010858863,
          -4653.572749186026,
          -3266.649864615702,
          -4194.112749071155,
          -5202.090372452889,
          -4008.589273701796,
          -5075.67817935254,
          -4439.122431386045,
          -4865.004250775121,
          -5377.228895403816,
          -6066.457134457754,
          -6443.1168558178615,
          -3786.133848157164,
          -6286.357858424543,
          -4387.40505781872,
          -5635.163992926342,
          -5910.595732886541,
          -5108.28190746946,
          -3524.6022728079947,
          -5240.710105021423,
          -3863.006710456129,
          -4416.577014358728,
          -5227.972192633891,
          -5081.2058281248055,
          -2877.1941821022288,
          -3288.4640447513416,
          -6141.762968151076,
          -4868.312310128514,
          -4400.0424938714705,
          -4443.17020761207,
          -4687.764441938941,
          -4054.2525236210513
         ],
         "yaxis": "y"
        }
       ],
       "layout": {
        "height": 600,
        "legend": {
         "title": {
          "text": "Cluster"
         },
         "tracegroupgap": 0
        },
        "margin": {
         "t": 60
        },
        "plot_bgcolor": "rgb(240,240,240)",
        "template": {
         "data": {
          "bar": [
           {
            "error_x": {
             "color": "#2a3f5f"
            },
            "error_y": {
             "color": "#2a3f5f"
            },
            "marker": {
             "line": {
              "color": "#E5ECF6",
              "width": 0.5
             },
             "pattern": {
              "fillmode": "overlay",
              "size": 10,
              "solidity": 0.2
             }
            },
            "type": "bar"
           }
          ],
          "barpolar": [
           {
            "marker": {
             "line": {
              "color": "#E5ECF6",
              "width": 0.5
             },
             "pattern": {
              "fillmode": "overlay",
              "size": 10,
              "solidity": 0.2
             }
            },
            "type": "barpolar"
           }
          ],
          "carpet": [
           {
            "aaxis": {
             "endlinecolor": "#2a3f5f",
             "gridcolor": "white",
             "linecolor": "white",
             "minorgridcolor": "white",
             "startlinecolor": "#2a3f5f"
            },
            "baxis": {
             "endlinecolor": "#2a3f5f",
             "gridcolor": "white",
             "linecolor": "white",
             "minorgridcolor": "white",
             "startlinecolor": "#2a3f5f"
            },
            "type": "carpet"
           }
          ],
          "choropleth": [
           {
            "colorbar": {
             "outlinewidth": 0,
             "ticks": ""
            },
            "type": "choropleth"
           }
          ],
          "contour": [
           {
            "colorbar": {
             "outlinewidth": 0,
             "ticks": ""
            },
            "colorscale": [
             [
              0,
              "#0d0887"
             ],
             [
              0.1111111111111111,
              "#46039f"
             ],
             [
              0.2222222222222222,
              "#7201a8"
             ],
             [
              0.3333333333333333,
              "#9c179e"
             ],
             [
              0.4444444444444444,
              "#bd3786"
             ],
             [
              0.5555555555555556,
              "#d8576b"
             ],
             [
              0.6666666666666666,
              "#ed7953"
             ],
             [
              0.7777777777777778,
              "#fb9f3a"
             ],
             [
              0.8888888888888888,
              "#fdca26"
             ],
             [
              1,
              "#f0f921"
             ]
            ],
            "type": "contour"
           }
          ],
          "contourcarpet": [
           {
            "colorbar": {
             "outlinewidth": 0,
             "ticks": ""
            },
            "type": "contourcarpet"
           }
          ],
          "heatmap": [
           {
            "colorbar": {
             "outlinewidth": 0,
             "ticks": ""
            },
            "colorscale": [
             [
              0,
              "#0d0887"
             ],
             [
              0.1111111111111111,
              "#46039f"
             ],
             [
              0.2222222222222222,
              "#7201a8"
             ],
             [
              0.3333333333333333,
              "#9c179e"
             ],
             [
              0.4444444444444444,
              "#bd3786"
             ],
             [
              0.5555555555555556,
              "#d8576b"
             ],
             [
              0.6666666666666666,
              "#ed7953"
             ],
             [
              0.7777777777777778,
              "#fb9f3a"
             ],
             [
              0.8888888888888888,
              "#fdca26"
             ],
             [
              1,
              "#f0f921"
             ]
            ],
            "type": "heatmap"
           }
          ],
          "heatmapgl": [
           {
            "colorbar": {
             "outlinewidth": 0,
             "ticks": ""
            },
            "colorscale": [
             [
              0,
              "#0d0887"
             ],
             [
              0.1111111111111111,
              "#46039f"
             ],
             [
              0.2222222222222222,
              "#7201a8"
             ],
             [
              0.3333333333333333,
              "#9c179e"
             ],
             [
              0.4444444444444444,
              "#bd3786"
             ],
             [
              0.5555555555555556,
              "#d8576b"
             ],
             [
              0.6666666666666666,
              "#ed7953"
             ],
             [
              0.7777777777777778,
              "#fb9f3a"
             ],
             [
              0.8888888888888888,
              "#fdca26"
             ],
             [
              1,
              "#f0f921"
             ]
            ],
            "type": "heatmapgl"
           }
          ],
          "histogram": [
           {
            "marker": {
             "pattern": {
              "fillmode": "overlay",
              "size": 10,
              "solidity": 0.2
             }
            },
            "type": "histogram"
           }
          ],
          "histogram2d": [
           {
            "colorbar": {
             "outlinewidth": 0,
             "ticks": ""
            },
            "colorscale": [
             [
              0,
              "#0d0887"
             ],
             [
              0.1111111111111111,
              "#46039f"
             ],
             [
              0.2222222222222222,
              "#7201a8"
             ],
             [
              0.3333333333333333,
              "#9c179e"
             ],
             [
              0.4444444444444444,
              "#bd3786"
             ],
             [
              0.5555555555555556,
              "#d8576b"
             ],
             [
              0.6666666666666666,
              "#ed7953"
             ],
             [
              0.7777777777777778,
              "#fb9f3a"
             ],
             [
              0.8888888888888888,
              "#fdca26"
             ],
             [
              1,
              "#f0f921"
             ]
            ],
            "type": "histogram2d"
           }
          ],
          "histogram2dcontour": [
           {
            "colorbar": {
             "outlinewidth": 0,
             "ticks": ""
            },
            "colorscale": [
             [
              0,
              "#0d0887"
             ],
             [
              0.1111111111111111,
              "#46039f"
             ],
             [
              0.2222222222222222,
              "#7201a8"
             ],
             [
              0.3333333333333333,
              "#9c179e"
             ],
             [
              0.4444444444444444,
              "#bd3786"
             ],
             [
              0.5555555555555556,
              "#d8576b"
             ],
             [
              0.6666666666666666,
              "#ed7953"
             ],
             [
              0.7777777777777778,
              "#fb9f3a"
             ],
             [
              0.8888888888888888,
              "#fdca26"
             ],
             [
              1,
              "#f0f921"
             ]
            ],
            "type": "histogram2dcontour"
           }
          ],
          "mesh3d": [
           {
            "colorbar": {
             "outlinewidth": 0,
             "ticks": ""
            },
            "type": "mesh3d"
           }
          ],
          "parcoords": [
           {
            "line": {
             "colorbar": {
              "outlinewidth": 0,
              "ticks": ""
             }
            },
            "type": "parcoords"
           }
          ],
          "pie": [
           {
            "automargin": true,
            "type": "pie"
           }
          ],
          "scatter": [
           {
            "fillpattern": {
             "fillmode": "overlay",
             "size": 10,
             "solidity": 0.2
            },
            "type": "scatter"
           }
          ],
          "scatter3d": [
           {
            "line": {
             "colorbar": {
              "outlinewidth": 0,
              "ticks": ""
             }
            },
            "marker": {
             "colorbar": {
              "outlinewidth": 0,
              "ticks": ""
             }
            },
            "type": "scatter3d"
           }
          ],
          "scattercarpet": [
           {
            "marker": {
             "colorbar": {
              "outlinewidth": 0,
              "ticks": ""
             }
            },
            "type": "scattercarpet"
           }
          ],
          "scattergeo": [
           {
            "marker": {
             "colorbar": {
              "outlinewidth": 0,
              "ticks": ""
             }
            },
            "type": "scattergeo"
           }
          ],
          "scattergl": [
           {
            "marker": {
             "colorbar": {
              "outlinewidth": 0,
              "ticks": ""
             }
            },
            "type": "scattergl"
           }
          ],
          "scattermapbox": [
           {
            "marker": {
             "colorbar": {
              "outlinewidth": 0,
              "ticks": ""
             }
            },
            "type": "scattermapbox"
           }
          ],
          "scatterpolar": [
           {
            "marker": {
             "colorbar": {
              "outlinewidth": 0,
              "ticks": ""
             }
            },
            "type": "scatterpolar"
           }
          ],
          "scatterpolargl": [
           {
            "marker": {
             "colorbar": {
              "outlinewidth": 0,
              "ticks": ""
             }
            },
            "type": "scatterpolargl"
           }
          ],
          "scatterternary": [
           {
            "marker": {
             "colorbar": {
              "outlinewidth": 0,
              "ticks": ""
             }
            },
            "type": "scatterternary"
           }
          ],
          "surface": [
           {
            "colorbar": {
             "outlinewidth": 0,
             "ticks": ""
            },
            "colorscale": [
             [
              0,
              "#0d0887"
             ],
             [
              0.1111111111111111,
              "#46039f"
             ],
             [
              0.2222222222222222,
              "#7201a8"
             ],
             [
              0.3333333333333333,
              "#9c179e"
             ],
             [
              0.4444444444444444,
              "#bd3786"
             ],
             [
              0.5555555555555556,
              "#d8576b"
             ],
             [
              0.6666666666666666,
              "#ed7953"
             ],
             [
              0.7777777777777778,
              "#fb9f3a"
             ],
             [
              0.8888888888888888,
              "#fdca26"
             ],
             [
              1,
              "#f0f921"
             ]
            ],
            "type": "surface"
           }
          ],
          "table": [
           {
            "cells": {
             "fill": {
              "color": "#EBF0F8"
             },
             "line": {
              "color": "white"
             }
            },
            "header": {
             "fill": {
              "color": "#C8D4E3"
             },
             "line": {
              "color": "white"
             }
            },
            "type": "table"
           }
          ]
         },
         "layout": {
          "annotationdefaults": {
           "arrowcolor": "#2a3f5f",
           "arrowhead": 0,
           "arrowwidth": 1
          },
          "autotypenumbers": "strict",
          "coloraxis": {
           "colorbar": {
            "outlinewidth": 0,
            "ticks": ""
           }
          },
          "colorscale": {
           "diverging": [
            [
             0,
             "#8e0152"
            ],
            [
             0.1,
             "#c51b7d"
            ],
            [
             0.2,
             "#de77ae"
            ],
            [
             0.3,
             "#f1b6da"
            ],
            [
             0.4,
             "#fde0ef"
            ],
            [
             0.5,
             "#f7f7f7"
            ],
            [
             0.6,
             "#e6f5d0"
            ],
            [
             0.7,
             "#b8e186"
            ],
            [
             0.8,
             "#7fbc41"
            ],
            [
             0.9,
             "#4d9221"
            ],
            [
             1,
             "#276419"
            ]
           ],
           "sequential": [
            [
             0,
             "#0d0887"
            ],
            [
             0.1111111111111111,
             "#46039f"
            ],
            [
             0.2222222222222222,
             "#7201a8"
            ],
            [
             0.3333333333333333,
             "#9c179e"
            ],
            [
             0.4444444444444444,
             "#bd3786"
            ],
            [
             0.5555555555555556,
             "#d8576b"
            ],
            [
             0.6666666666666666,
             "#ed7953"
            ],
            [
             0.7777777777777778,
             "#fb9f3a"
            ],
            [
             0.8888888888888888,
             "#fdca26"
            ],
            [
             1,
             "#f0f921"
            ]
           ],
           "sequentialminus": [
            [
             0,
             "#0d0887"
            ],
            [
             0.1111111111111111,
             "#46039f"
            ],
            [
             0.2222222222222222,
             "#7201a8"
            ],
            [
             0.3333333333333333,
             "#9c179e"
            ],
            [
             0.4444444444444444,
             "#bd3786"
            ],
            [
             0.5555555555555556,
             "#d8576b"
            ],
            [
             0.6666666666666666,
             "#ed7953"
            ],
            [
             0.7777777777777778,
             "#fb9f3a"
            ],
            [
             0.8888888888888888,
             "#fdca26"
            ],
            [
             1,
             "#f0f921"
            ]
           ]
          },
          "colorway": [
           "#636efa",
           "#EF553B",
           "#00cc96",
           "#ab63fa",
           "#FFA15A",
           "#19d3f3",
           "#FF6692",
           "#B6E880",
           "#FF97FF",
           "#FECB52"
          ],
          "font": {
           "color": "#2a3f5f"
          },
          "geo": {
           "bgcolor": "white",
           "lakecolor": "white",
           "landcolor": "#E5ECF6",
           "showlakes": true,
           "showland": true,
           "subunitcolor": "white"
          },
          "hoverlabel": {
           "align": "left"
          },
          "hovermode": "closest",
          "mapbox": {
           "style": "light"
          },
          "paper_bgcolor": "white",
          "plot_bgcolor": "#E5ECF6",
          "polar": {
           "angularaxis": {
            "gridcolor": "white",
            "linecolor": "white",
            "ticks": ""
           },
           "bgcolor": "#E5ECF6",
           "radialaxis": {
            "gridcolor": "white",
            "linecolor": "white",
            "ticks": ""
           }
          },
          "scene": {
           "xaxis": {
            "backgroundcolor": "#E5ECF6",
            "gridcolor": "white",
            "gridwidth": 2,
            "linecolor": "white",
            "showbackground": true,
            "ticks": "",
            "zerolinecolor": "white"
           },
           "yaxis": {
            "backgroundcolor": "#E5ECF6",
            "gridcolor": "white",
            "gridwidth": 2,
            "linecolor": "white",
            "showbackground": true,
            "ticks": "",
            "zerolinecolor": "white"
           },
           "zaxis": {
            "backgroundcolor": "#E5ECF6",
            "gridcolor": "white",
            "gridwidth": 2,
            "linecolor": "white",
            "showbackground": true,
            "ticks": "",
            "zerolinecolor": "white"
           }
          },
          "shapedefaults": {
           "line": {
            "color": "#2a3f5f"
           }
          },
          "ternary": {
           "aaxis": {
            "gridcolor": "white",
            "linecolor": "white",
            "ticks": ""
           },
           "baxis": {
            "gridcolor": "white",
            "linecolor": "white",
            "ticks": ""
           },
           "bgcolor": "#E5ECF6",
           "caxis": {
            "gridcolor": "white",
            "linecolor": "white",
            "ticks": ""
           }
          },
          "title": {
           "x": 0.05
          },
          "xaxis": {
           "automargin": true,
           "gridcolor": "white",
           "linecolor": "white",
           "ticks": "",
           "title": {
            "standoff": 15
           },
           "zerolinecolor": "white",
           "zerolinewidth": 2
          },
          "yaxis": {
           "automargin": true,
           "gridcolor": "white",
           "linecolor": "white",
           "ticks": "",
           "title": {
            "standoff": 15
           },
           "zerolinecolor": "white",
           "zerolinewidth": 2
          }
         }
        },
        "title": {
         "text": "2D Cluster PCA Plot"
        },
        "xaxis": {
         "anchor": "y",
         "domain": [
          0,
          1
         ],
         "title": {
          "text": "PCA1"
         }
        },
        "yaxis": {
         "anchor": "x",
         "domain": [
          0,
          1
         ],
         "title": {
          "text": "PCA2"
         }
        }
       }
      }
     },
     "metadata": {},
     "output_type": "display_data"
    }
   ],
   "source": [
    "plot_model(kmeans)"
   ]
  },
  {
   "cell_type": "code",
   "execution_count": null,
   "metadata": {},
   "outputs": [],
   "source": []
  }
 ],
 "metadata": {
  "kernelspec": {
   "display_name": "Python 3",
   "language": "python",
   "name": "python3"
  },
  "language_info": {
   "codemirror_mode": {
    "name": "ipython",
    "version": 3
   },
   "file_extension": ".py",
   "mimetype": "text/x-python",
   "name": "python",
   "nbconvert_exporter": "python",
   "pygments_lexer": "ipython3",
   "version": "3.10.9 (tags/v3.10.9:1dd9be6, Dec  6 2022, 20:01:21) [MSC v.1934 64 bit (AMD64)]"
  },
  "orig_nbformat": 4,
  "vscode": {
   "interpreter": {
    "hash": "bb27270a5e4f8cb7d0eca249a0950dc7daa5204e8bcb6dd237418e87fe5c3217"
   }
  }
 },
 "nbformat": 4,
 "nbformat_minor": 2
}
