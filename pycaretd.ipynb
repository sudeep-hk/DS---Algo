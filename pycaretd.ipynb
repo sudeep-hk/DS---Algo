{
 "cells": [
  {
   "cell_type": "code",
   "execution_count": 1,
   "metadata": {},
   "outputs": [],
   "source": [
    "#loading dataset from pycaret\n",
    "from pycaret.datasets import get_data"
   ]
  },
  {
   "cell_type": "code",
   "execution_count": 2,
   "metadata": {},
   "outputs": [
    {
     "data": {
      "text/html": [
       "<div>\n",
       "<style scoped>\n",
       "    .dataframe tbody tr th:only-of-type {\n",
       "        vertical-align: middle;\n",
       "    }\n",
       "\n",
       "    .dataframe tbody tr th {\n",
       "        vertical-align: top;\n",
       "    }\n",
       "\n",
       "    .dataframe thead th {\n",
       "        text-align: right;\n",
       "    }\n",
       "</style>\n",
       "<table border=\"1\" class=\"dataframe\">\n",
       "  <thead>\n",
       "    <tr style=\"text-align: right;\">\n",
       "      <th></th>\n",
       "      <th>Id</th>\n",
       "      <th>Purchase</th>\n",
       "      <th>WeekofPurchase</th>\n",
       "      <th>StoreID</th>\n",
       "      <th>PriceCH</th>\n",
       "      <th>PriceMM</th>\n",
       "      <th>DiscCH</th>\n",
       "      <th>DiscMM</th>\n",
       "      <th>SpecialCH</th>\n",
       "      <th>SpecialMM</th>\n",
       "      <th>LoyalCH</th>\n",
       "      <th>SalePriceMM</th>\n",
       "      <th>SalePriceCH</th>\n",
       "      <th>PriceDiff</th>\n",
       "      <th>Store7</th>\n",
       "      <th>PctDiscMM</th>\n",
       "      <th>PctDiscCH</th>\n",
       "      <th>ListPriceDiff</th>\n",
       "      <th>STORE</th>\n",
       "    </tr>\n",
       "  </thead>\n",
       "  <tbody>\n",
       "    <tr>\n",
       "      <th>0</th>\n",
       "      <td>1</td>\n",
       "      <td>CH</td>\n",
       "      <td>237</td>\n",
       "      <td>1</td>\n",
       "      <td>1.75</td>\n",
       "      <td>1.99</td>\n",
       "      <td>0.00</td>\n",
       "      <td>0.0</td>\n",
       "      <td>0</td>\n",
       "      <td>0</td>\n",
       "      <td>0.500000</td>\n",
       "      <td>1.99</td>\n",
       "      <td>1.75</td>\n",
       "      <td>0.24</td>\n",
       "      <td>No</td>\n",
       "      <td>0.000000</td>\n",
       "      <td>0.000000</td>\n",
       "      <td>0.24</td>\n",
       "      <td>1</td>\n",
       "    </tr>\n",
       "    <tr>\n",
       "      <th>1</th>\n",
       "      <td>2</td>\n",
       "      <td>CH</td>\n",
       "      <td>239</td>\n",
       "      <td>1</td>\n",
       "      <td>1.75</td>\n",
       "      <td>1.99</td>\n",
       "      <td>0.00</td>\n",
       "      <td>0.3</td>\n",
       "      <td>0</td>\n",
       "      <td>1</td>\n",
       "      <td>0.600000</td>\n",
       "      <td>1.69</td>\n",
       "      <td>1.75</td>\n",
       "      <td>-0.06</td>\n",
       "      <td>No</td>\n",
       "      <td>0.150754</td>\n",
       "      <td>0.000000</td>\n",
       "      <td>0.24</td>\n",
       "      <td>1</td>\n",
       "    </tr>\n",
       "    <tr>\n",
       "      <th>2</th>\n",
       "      <td>3</td>\n",
       "      <td>CH</td>\n",
       "      <td>245</td>\n",
       "      <td>1</td>\n",
       "      <td>1.86</td>\n",
       "      <td>2.09</td>\n",
       "      <td>0.17</td>\n",
       "      <td>0.0</td>\n",
       "      <td>0</td>\n",
       "      <td>0</td>\n",
       "      <td>0.680000</td>\n",
       "      <td>2.09</td>\n",
       "      <td>1.69</td>\n",
       "      <td>0.40</td>\n",
       "      <td>No</td>\n",
       "      <td>0.000000</td>\n",
       "      <td>0.091398</td>\n",
       "      <td>0.23</td>\n",
       "      <td>1</td>\n",
       "    </tr>\n",
       "    <tr>\n",
       "      <th>3</th>\n",
       "      <td>4</td>\n",
       "      <td>MM</td>\n",
       "      <td>227</td>\n",
       "      <td>1</td>\n",
       "      <td>1.69</td>\n",
       "      <td>1.69</td>\n",
       "      <td>0.00</td>\n",
       "      <td>0.0</td>\n",
       "      <td>0</td>\n",
       "      <td>0</td>\n",
       "      <td>0.400000</td>\n",
       "      <td>1.69</td>\n",
       "      <td>1.69</td>\n",
       "      <td>0.00</td>\n",
       "      <td>No</td>\n",
       "      <td>0.000000</td>\n",
       "      <td>0.000000</td>\n",
       "      <td>0.00</td>\n",
       "      <td>1</td>\n",
       "    </tr>\n",
       "    <tr>\n",
       "      <th>4</th>\n",
       "      <td>5</td>\n",
       "      <td>CH</td>\n",
       "      <td>228</td>\n",
       "      <td>7</td>\n",
       "      <td>1.69</td>\n",
       "      <td>1.69</td>\n",
       "      <td>0.00</td>\n",
       "      <td>0.0</td>\n",
       "      <td>0</td>\n",
       "      <td>0</td>\n",
       "      <td>0.956535</td>\n",
       "      <td>1.69</td>\n",
       "      <td>1.69</td>\n",
       "      <td>0.00</td>\n",
       "      <td>Yes</td>\n",
       "      <td>0.000000</td>\n",
       "      <td>0.000000</td>\n",
       "      <td>0.00</td>\n",
       "      <td>0</td>\n",
       "    </tr>\n",
       "  </tbody>\n",
       "</table>\n",
       "</div>"
      ],
      "text/plain": [
       "   Id Purchase  WeekofPurchase  StoreID  PriceCH  PriceMM  DiscCH  DiscMM  \\\n",
       "0   1       CH             237        1     1.75     1.99    0.00     0.0   \n",
       "1   2       CH             239        1     1.75     1.99    0.00     0.3   \n",
       "2   3       CH             245        1     1.86     2.09    0.17     0.0   \n",
       "3   4       MM             227        1     1.69     1.69    0.00     0.0   \n",
       "4   5       CH             228        7     1.69     1.69    0.00     0.0   \n",
       "\n",
       "   SpecialCH  SpecialMM   LoyalCH  SalePriceMM  SalePriceCH  PriceDiff Store7  \\\n",
       "0          0          0  0.500000         1.99         1.75       0.24     No   \n",
       "1          0          1  0.600000         1.69         1.75      -0.06     No   \n",
       "2          0          0  0.680000         2.09         1.69       0.40     No   \n",
       "3          0          0  0.400000         1.69         1.69       0.00     No   \n",
       "4          0          0  0.956535         1.69         1.69       0.00    Yes   \n",
       "\n",
       "   PctDiscMM  PctDiscCH  ListPriceDiff  STORE  \n",
       "0   0.000000   0.000000           0.24      1  \n",
       "1   0.150754   0.000000           0.24      1  \n",
       "2   0.000000   0.091398           0.23      1  \n",
       "3   0.000000   0.000000           0.00      1  \n",
       "4   0.000000   0.000000           0.00      0  "
      ]
     },
     "metadata": {},
     "output_type": "display_data"
    }
   ],
   "source": [
    "df_juice=get_data('juice')"
   ]
  },
  {
   "cell_type": "code",
   "execution_count": 3,
   "metadata": {},
   "outputs": [
    {
     "data": {
      "text/html": [
       "<div>\n",
       "<style scoped>\n",
       "    .dataframe tbody tr th:only-of-type {\n",
       "        vertical-align: middle;\n",
       "    }\n",
       "\n",
       "    .dataframe tbody tr th {\n",
       "        vertical-align: top;\n",
       "    }\n",
       "\n",
       "    .dataframe thead th {\n",
       "        text-align: right;\n",
       "    }\n",
       "</style>\n",
       "<table border=\"1\" class=\"dataframe\">\n",
       "  <thead>\n",
       "    <tr style=\"text-align: right;\">\n",
       "      <th></th>\n",
       "      <th>Number of times pregnant</th>\n",
       "      <th>Plasma glucose concentration a 2 hours in an oral glucose tolerance test</th>\n",
       "      <th>Diastolic blood pressure (mm Hg)</th>\n",
       "      <th>Triceps skin fold thickness (mm)</th>\n",
       "      <th>2-Hour serum insulin (mu U/ml)</th>\n",
       "      <th>Body mass index (weight in kg/(height in m)^2)</th>\n",
       "      <th>Diabetes pedigree function</th>\n",
       "      <th>Age (years)</th>\n",
       "      <th>Class variable</th>\n",
       "    </tr>\n",
       "  </thead>\n",
       "  <tbody>\n",
       "    <tr>\n",
       "      <th>0</th>\n",
       "      <td>6</td>\n",
       "      <td>148</td>\n",
       "      <td>72</td>\n",
       "      <td>35</td>\n",
       "      <td>0</td>\n",
       "      <td>33.6</td>\n",
       "      <td>0.627</td>\n",
       "      <td>50</td>\n",
       "      <td>1</td>\n",
       "    </tr>\n",
       "    <tr>\n",
       "      <th>1</th>\n",
       "      <td>1</td>\n",
       "      <td>85</td>\n",
       "      <td>66</td>\n",
       "      <td>29</td>\n",
       "      <td>0</td>\n",
       "      <td>26.6</td>\n",
       "      <td>0.351</td>\n",
       "      <td>31</td>\n",
       "      <td>0</td>\n",
       "    </tr>\n",
       "    <tr>\n",
       "      <th>2</th>\n",
       "      <td>8</td>\n",
       "      <td>183</td>\n",
       "      <td>64</td>\n",
       "      <td>0</td>\n",
       "      <td>0</td>\n",
       "      <td>23.3</td>\n",
       "      <td>0.672</td>\n",
       "      <td>32</td>\n",
       "      <td>1</td>\n",
       "    </tr>\n",
       "    <tr>\n",
       "      <th>3</th>\n",
       "      <td>1</td>\n",
       "      <td>89</td>\n",
       "      <td>66</td>\n",
       "      <td>23</td>\n",
       "      <td>94</td>\n",
       "      <td>28.1</td>\n",
       "      <td>0.167</td>\n",
       "      <td>21</td>\n",
       "      <td>0</td>\n",
       "    </tr>\n",
       "    <tr>\n",
       "      <th>4</th>\n",
       "      <td>0</td>\n",
       "      <td>137</td>\n",
       "      <td>40</td>\n",
       "      <td>35</td>\n",
       "      <td>168</td>\n",
       "      <td>43.1</td>\n",
       "      <td>2.288</td>\n",
       "      <td>33</td>\n",
       "      <td>1</td>\n",
       "    </tr>\n",
       "  </tbody>\n",
       "</table>\n",
       "</div>"
      ],
      "text/plain": [
       "   Number of times pregnant  \\\n",
       "0                         6   \n",
       "1                         1   \n",
       "2                         8   \n",
       "3                         1   \n",
       "4                         0   \n",
       "\n",
       "   Plasma glucose concentration a 2 hours in an oral glucose tolerance test  \\\n",
       "0                                                148                          \n",
       "1                                                 85                          \n",
       "2                                                183                          \n",
       "3                                                 89                          \n",
       "4                                                137                          \n",
       "\n",
       "   Diastolic blood pressure (mm Hg)  Triceps skin fold thickness (mm)  \\\n",
       "0                                72                                35   \n",
       "1                                66                                29   \n",
       "2                                64                                 0   \n",
       "3                                66                                23   \n",
       "4                                40                                35   \n",
       "\n",
       "   2-Hour serum insulin (mu U/ml)  \\\n",
       "0                               0   \n",
       "1                               0   \n",
       "2                               0   \n",
       "3                              94   \n",
       "4                             168   \n",
       "\n",
       "   Body mass index (weight in kg/(height in m)^2)  Diabetes pedigree function  \\\n",
       "0                                            33.6                       0.627   \n",
       "1                                            26.6                       0.351   \n",
       "2                                            23.3                       0.672   \n",
       "3                                            28.1                       0.167   \n",
       "4                                            43.1                       2.288   \n",
       "\n",
       "   Age (years)  Class variable  \n",
       "0           50               1  \n",
       "1           31               0  \n",
       "2           32               1  \n",
       "3           21               0  \n",
       "4           33               1  "
      ]
     },
     "metadata": {},
     "output_type": "display_data"
    }
   ],
   "source": [
    "df=get_data('diabetes')"
   ]
  },
  {
   "cell_type": "code",
   "execution_count": 4,
   "metadata": {},
   "outputs": [
    {
     "data": {
      "text/html": [
       "<style type=\"text/css\">\n",
       "#T_01303_row8_col1 {\n",
       "  background-color: lightgreen;\n",
       "}\n",
       "</style>\n",
       "<table id=\"T_01303\">\n",
       "  <thead>\n",
       "    <tr>\n",
       "      <th class=\"blank level0\" >&nbsp;</th>\n",
       "      <th id=\"T_01303_level0_col0\" class=\"col_heading level0 col0\" >Description</th>\n",
       "      <th id=\"T_01303_level0_col1\" class=\"col_heading level0 col1\" >Value</th>\n",
       "    </tr>\n",
       "  </thead>\n",
       "  <tbody>\n",
       "    <tr>\n",
       "      <th id=\"T_01303_level0_row0\" class=\"row_heading level0 row0\" >0</th>\n",
       "      <td id=\"T_01303_row0_col0\" class=\"data row0 col0\" >Session id</td>\n",
       "      <td id=\"T_01303_row0_col1\" class=\"data row0 col1\" >3042</td>\n",
       "    </tr>\n",
       "    <tr>\n",
       "      <th id=\"T_01303_level0_row1\" class=\"row_heading level0 row1\" >1</th>\n",
       "      <td id=\"T_01303_row1_col0\" class=\"data row1 col0\" >Target</td>\n",
       "      <td id=\"T_01303_row1_col1\" class=\"data row1 col1\" >Class variable</td>\n",
       "    </tr>\n",
       "    <tr>\n",
       "      <th id=\"T_01303_level0_row2\" class=\"row_heading level0 row2\" >2</th>\n",
       "      <td id=\"T_01303_row2_col0\" class=\"data row2 col0\" >Target type</td>\n",
       "      <td id=\"T_01303_row2_col1\" class=\"data row2 col1\" >Binary</td>\n",
       "    </tr>\n",
       "    <tr>\n",
       "      <th id=\"T_01303_level0_row3\" class=\"row_heading level0 row3\" >3</th>\n",
       "      <td id=\"T_01303_row3_col0\" class=\"data row3 col0\" >Original data shape</td>\n",
       "      <td id=\"T_01303_row3_col1\" class=\"data row3 col1\" >(768, 9)</td>\n",
       "    </tr>\n",
       "    <tr>\n",
       "      <th id=\"T_01303_level0_row4\" class=\"row_heading level0 row4\" >4</th>\n",
       "      <td id=\"T_01303_row4_col0\" class=\"data row4 col0\" >Transformed data shape</td>\n",
       "      <td id=\"T_01303_row4_col1\" class=\"data row4 col1\" >(768, 9)</td>\n",
       "    </tr>\n",
       "    <tr>\n",
       "      <th id=\"T_01303_level0_row5\" class=\"row_heading level0 row5\" >5</th>\n",
       "      <td id=\"T_01303_row5_col0\" class=\"data row5 col0\" >Transformed train set shape</td>\n",
       "      <td id=\"T_01303_row5_col1\" class=\"data row5 col1\" >(537, 9)</td>\n",
       "    </tr>\n",
       "    <tr>\n",
       "      <th id=\"T_01303_level0_row6\" class=\"row_heading level0 row6\" >6</th>\n",
       "      <td id=\"T_01303_row6_col0\" class=\"data row6 col0\" >Transformed test set shape</td>\n",
       "      <td id=\"T_01303_row6_col1\" class=\"data row6 col1\" >(231, 9)</td>\n",
       "    </tr>\n",
       "    <tr>\n",
       "      <th id=\"T_01303_level0_row7\" class=\"row_heading level0 row7\" >7</th>\n",
       "      <td id=\"T_01303_row7_col0\" class=\"data row7 col0\" >Numeric features</td>\n",
       "      <td id=\"T_01303_row7_col1\" class=\"data row7 col1\" >8</td>\n",
       "    </tr>\n",
       "    <tr>\n",
       "      <th id=\"T_01303_level0_row8\" class=\"row_heading level0 row8\" >8</th>\n",
       "      <td id=\"T_01303_row8_col0\" class=\"data row8 col0\" >Preprocess</td>\n",
       "      <td id=\"T_01303_row8_col1\" class=\"data row8 col1\" >True</td>\n",
       "    </tr>\n",
       "    <tr>\n",
       "      <th id=\"T_01303_level0_row9\" class=\"row_heading level0 row9\" >9</th>\n",
       "      <td id=\"T_01303_row9_col0\" class=\"data row9 col0\" >Imputation type</td>\n",
       "      <td id=\"T_01303_row9_col1\" class=\"data row9 col1\" >simple</td>\n",
       "    </tr>\n",
       "    <tr>\n",
       "      <th id=\"T_01303_level0_row10\" class=\"row_heading level0 row10\" >10</th>\n",
       "      <td id=\"T_01303_row10_col0\" class=\"data row10 col0\" >Numeric imputation</td>\n",
       "      <td id=\"T_01303_row10_col1\" class=\"data row10 col1\" >mean</td>\n",
       "    </tr>\n",
       "    <tr>\n",
       "      <th id=\"T_01303_level0_row11\" class=\"row_heading level0 row11\" >11</th>\n",
       "      <td id=\"T_01303_row11_col0\" class=\"data row11 col0\" >Categorical imputation</td>\n",
       "      <td id=\"T_01303_row11_col1\" class=\"data row11 col1\" >mode</td>\n",
       "    </tr>\n",
       "    <tr>\n",
       "      <th id=\"T_01303_level0_row12\" class=\"row_heading level0 row12\" >12</th>\n",
       "      <td id=\"T_01303_row12_col0\" class=\"data row12 col0\" >Fold Generator</td>\n",
       "      <td id=\"T_01303_row12_col1\" class=\"data row12 col1\" >StratifiedKFold</td>\n",
       "    </tr>\n",
       "    <tr>\n",
       "      <th id=\"T_01303_level0_row13\" class=\"row_heading level0 row13\" >13</th>\n",
       "      <td id=\"T_01303_row13_col0\" class=\"data row13 col0\" >Fold Number</td>\n",
       "      <td id=\"T_01303_row13_col1\" class=\"data row13 col1\" >10</td>\n",
       "    </tr>\n",
       "    <tr>\n",
       "      <th id=\"T_01303_level0_row14\" class=\"row_heading level0 row14\" >14</th>\n",
       "      <td id=\"T_01303_row14_col0\" class=\"data row14 col0\" >CPU Jobs</td>\n",
       "      <td id=\"T_01303_row14_col1\" class=\"data row14 col1\" >-1</td>\n",
       "    </tr>\n",
       "    <tr>\n",
       "      <th id=\"T_01303_level0_row15\" class=\"row_heading level0 row15\" >15</th>\n",
       "      <td id=\"T_01303_row15_col0\" class=\"data row15 col0\" >Use GPU</td>\n",
       "      <td id=\"T_01303_row15_col1\" class=\"data row15 col1\" >False</td>\n",
       "    </tr>\n",
       "    <tr>\n",
       "      <th id=\"T_01303_level0_row16\" class=\"row_heading level0 row16\" >16</th>\n",
       "      <td id=\"T_01303_row16_col0\" class=\"data row16 col0\" >Log Experiment</td>\n",
       "      <td id=\"T_01303_row16_col1\" class=\"data row16 col1\" >False</td>\n",
       "    </tr>\n",
       "    <tr>\n",
       "      <th id=\"T_01303_level0_row17\" class=\"row_heading level0 row17\" >17</th>\n",
       "      <td id=\"T_01303_row17_col0\" class=\"data row17 col0\" >Experiment Name</td>\n",
       "      <td id=\"T_01303_row17_col1\" class=\"data row17 col1\" >clf-default-name</td>\n",
       "    </tr>\n",
       "    <tr>\n",
       "      <th id=\"T_01303_level0_row18\" class=\"row_heading level0 row18\" >18</th>\n",
       "      <td id=\"T_01303_row18_col0\" class=\"data row18 col0\" >USI</td>\n",
       "      <td id=\"T_01303_row18_col1\" class=\"data row18 col1\" >bb81</td>\n",
       "    </tr>\n",
       "  </tbody>\n",
       "</table>\n"
      ],
      "text/plain": [
       "<pandas.io.formats.style.Styler at 0x26e63683610>"
      ]
     },
     "metadata": {},
     "output_type": "display_data"
    }
   ],
   "source": [
    "from pycaret.classification import *\n",
    "clf=setup(data=df,target='Class variable')"
   ]
  },
  {
   "cell_type": "code",
   "execution_count": 5,
   "metadata": {},
   "outputs": [
    {
     "data": {
      "text/html": [
       "<style type=\"text/css\">\n",
       "#T_c14dd th {\n",
       "  text-align: left;\n",
       "}\n",
       "#T_c14dd_row0_col0, #T_c14dd_row0_col2, #T_c14dd_row0_col3, #T_c14dd_row0_col5, #T_c14dd_row1_col0, #T_c14dd_row1_col1, #T_c14dd_row1_col2, #T_c14dd_row1_col4, #T_c14dd_row1_col6, #T_c14dd_row1_col7, #T_c14dd_row2_col0, #T_c14dd_row2_col1, #T_c14dd_row2_col2, #T_c14dd_row2_col3, #T_c14dd_row2_col4, #T_c14dd_row2_col5, #T_c14dd_row2_col6, #T_c14dd_row2_col7, #T_c14dd_row3_col0, #T_c14dd_row3_col1, #T_c14dd_row3_col3, #T_c14dd_row3_col4, #T_c14dd_row3_col5, #T_c14dd_row3_col6, #T_c14dd_row3_col7, #T_c14dd_row4_col0, #T_c14dd_row4_col1, #T_c14dd_row4_col2, #T_c14dd_row4_col3, #T_c14dd_row4_col4, #T_c14dd_row4_col5, #T_c14dd_row4_col6, #T_c14dd_row4_col7, #T_c14dd_row5_col0, #T_c14dd_row5_col1, #T_c14dd_row5_col2, #T_c14dd_row5_col3, #T_c14dd_row5_col4, #T_c14dd_row5_col5, #T_c14dd_row5_col6, #T_c14dd_row5_col7, #T_c14dd_row6_col0, #T_c14dd_row6_col1, #T_c14dd_row6_col2, #T_c14dd_row6_col3, #T_c14dd_row6_col4, #T_c14dd_row6_col5, #T_c14dd_row6_col6, #T_c14dd_row6_col7, #T_c14dd_row7_col0, #T_c14dd_row7_col1, #T_c14dd_row7_col2, #T_c14dd_row7_col3, #T_c14dd_row7_col4, #T_c14dd_row7_col5, #T_c14dd_row7_col6, #T_c14dd_row7_col7, #T_c14dd_row8_col0, #T_c14dd_row8_col1, #T_c14dd_row8_col2, #T_c14dd_row8_col3, #T_c14dd_row8_col4, #T_c14dd_row8_col5, #T_c14dd_row8_col6, #T_c14dd_row8_col7, #T_c14dd_row9_col0, #T_c14dd_row9_col1, #T_c14dd_row9_col2, #T_c14dd_row9_col3, #T_c14dd_row9_col4, #T_c14dd_row9_col5, #T_c14dd_row9_col6, #T_c14dd_row9_col7, #T_c14dd_row10_col0, #T_c14dd_row10_col1, #T_c14dd_row10_col2, #T_c14dd_row10_col3, #T_c14dd_row10_col4, #T_c14dd_row10_col5, #T_c14dd_row10_col6, #T_c14dd_row10_col7, #T_c14dd_row11_col0, #T_c14dd_row11_col1, #T_c14dd_row11_col2, #T_c14dd_row11_col3, #T_c14dd_row11_col4, #T_c14dd_row11_col5, #T_c14dd_row11_col6, #T_c14dd_row11_col7, #T_c14dd_row12_col0, #T_c14dd_row12_col1, #T_c14dd_row12_col2, #T_c14dd_row12_col3, #T_c14dd_row12_col4, #T_c14dd_row12_col5, #T_c14dd_row12_col6, #T_c14dd_row12_col7, #T_c14dd_row13_col0, #T_c14dd_row13_col1, #T_c14dd_row13_col2, #T_c14dd_row13_col3, #T_c14dd_row13_col4, #T_c14dd_row13_col5, #T_c14dd_row13_col6, #T_c14dd_row13_col7, #T_c14dd_row14_col0, #T_c14dd_row14_col1, #T_c14dd_row14_col2, #T_c14dd_row14_col3, #T_c14dd_row14_col4, #T_c14dd_row14_col5, #T_c14dd_row14_col6, #T_c14dd_row14_col7 {\n",
       "  text-align: left;\n",
       "}\n",
       "#T_c14dd_row0_col1, #T_c14dd_row0_col4, #T_c14dd_row0_col6, #T_c14dd_row0_col7, #T_c14dd_row1_col3, #T_c14dd_row1_col5, #T_c14dd_row3_col2 {\n",
       "  text-align: left;\n",
       "  background-color: yellow;\n",
       "}\n",
       "#T_c14dd_row0_col8, #T_c14dd_row1_col8, #T_c14dd_row3_col8, #T_c14dd_row4_col8, #T_c14dd_row5_col8, #T_c14dd_row6_col8, #T_c14dd_row7_col8, #T_c14dd_row8_col8, #T_c14dd_row9_col8, #T_c14dd_row10_col8, #T_c14dd_row11_col8, #T_c14dd_row12_col8, #T_c14dd_row13_col8, #T_c14dd_row14_col8 {\n",
       "  text-align: left;\n",
       "  background-color: lightgrey;\n",
       "}\n",
       "#T_c14dd_row2_col8 {\n",
       "  text-align: left;\n",
       "  background-color: yellow;\n",
       "  background-color: lightgrey;\n",
       "}\n",
       "</style>\n",
       "<table id=\"T_c14dd\">\n",
       "  <thead>\n",
       "    <tr>\n",
       "      <th class=\"blank level0\" >&nbsp;</th>\n",
       "      <th id=\"T_c14dd_level0_col0\" class=\"col_heading level0 col0\" >Model</th>\n",
       "      <th id=\"T_c14dd_level0_col1\" class=\"col_heading level0 col1\" >Accuracy</th>\n",
       "      <th id=\"T_c14dd_level0_col2\" class=\"col_heading level0 col2\" >AUC</th>\n",
       "      <th id=\"T_c14dd_level0_col3\" class=\"col_heading level0 col3\" >Recall</th>\n",
       "      <th id=\"T_c14dd_level0_col4\" class=\"col_heading level0 col4\" >Prec.</th>\n",
       "      <th id=\"T_c14dd_level0_col5\" class=\"col_heading level0 col5\" >F1</th>\n",
       "      <th id=\"T_c14dd_level0_col6\" class=\"col_heading level0 col6\" >Kappa</th>\n",
       "      <th id=\"T_c14dd_level0_col7\" class=\"col_heading level0 col7\" >MCC</th>\n",
       "      <th id=\"T_c14dd_level0_col8\" class=\"col_heading level0 col8\" >TT (Sec)</th>\n",
       "    </tr>\n",
       "  </thead>\n",
       "  <tbody>\n",
       "    <tr>\n",
       "      <th id=\"T_c14dd_level0_row0\" class=\"row_heading level0 row0\" >lr</th>\n",
       "      <td id=\"T_c14dd_row0_col0\" class=\"data row0 col0\" >Logistic Regression</td>\n",
       "      <td id=\"T_c14dd_row0_col1\" class=\"data row0 col1\" >0.7747</td>\n",
       "      <td id=\"T_c14dd_row0_col2\" class=\"data row0 col2\" >0.8307</td>\n",
       "      <td id=\"T_c14dd_row0_col3\" class=\"data row0 col3\" >0.5719</td>\n",
       "      <td id=\"T_c14dd_row0_col4\" class=\"data row0 col4\" >0.7198</td>\n",
       "      <td id=\"T_c14dd_row0_col5\" class=\"data row0 col5\" >0.6335</td>\n",
       "      <td id=\"T_c14dd_row0_col6\" class=\"data row0 col6\" >0.4755</td>\n",
       "      <td id=\"T_c14dd_row0_col7\" class=\"data row0 col7\" >0.4841</td>\n",
       "      <td id=\"T_c14dd_row0_col8\" class=\"data row0 col8\" >0.6150</td>\n",
       "    </tr>\n",
       "    <tr>\n",
       "      <th id=\"T_c14dd_level0_row1\" class=\"row_heading level0 row1\" >gbc</th>\n",
       "      <td id=\"T_c14dd_row1_col0\" class=\"data row1 col0\" >Gradient Boosting Classifier</td>\n",
       "      <td id=\"T_c14dd_row1_col1\" class=\"data row1 col1\" >0.7672</td>\n",
       "      <td id=\"T_c14dd_row1_col2\" class=\"data row1 col2\" >0.8075</td>\n",
       "      <td id=\"T_c14dd_row1_col3\" class=\"data row1 col3\" >0.5933</td>\n",
       "      <td id=\"T_c14dd_row1_col4\" class=\"data row1 col4\" >0.7072</td>\n",
       "      <td id=\"T_c14dd_row1_col5\" class=\"data row1 col5\" >0.6372</td>\n",
       "      <td id=\"T_c14dd_row1_col6\" class=\"data row1 col6\" >0.4690</td>\n",
       "      <td id=\"T_c14dd_row1_col7\" class=\"data row1 col7\" >0.4789</td>\n",
       "      <td id=\"T_c14dd_row1_col8\" class=\"data row1 col8\" >0.0320</td>\n",
       "    </tr>\n",
       "    <tr>\n",
       "      <th id=\"T_c14dd_level0_row2\" class=\"row_heading level0 row2\" >ridge</th>\n",
       "      <td id=\"T_c14dd_row2_col0\" class=\"data row2 col0\" >Ridge Classifier</td>\n",
       "      <td id=\"T_c14dd_row2_col1\" class=\"data row2 col1\" >0.7598</td>\n",
       "      <td id=\"T_c14dd_row2_col2\" class=\"data row2 col2\" >0.0000</td>\n",
       "      <td id=\"T_c14dd_row2_col3\" class=\"data row2 col3\" >0.5450</td>\n",
       "      <td id=\"T_c14dd_row2_col4\" class=\"data row2 col4\" >0.6915</td>\n",
       "      <td id=\"T_c14dd_row2_col5\" class=\"data row2 col5\" >0.6064</td>\n",
       "      <td id=\"T_c14dd_row2_col6\" class=\"data row2 col6\" >0.4389</td>\n",
       "      <td id=\"T_c14dd_row2_col7\" class=\"data row2 col7\" >0.4465</td>\n",
       "      <td id=\"T_c14dd_row2_col8\" class=\"data row2 col8\" >0.0070</td>\n",
       "    </tr>\n",
       "    <tr>\n",
       "      <th id=\"T_c14dd_level0_row3\" class=\"row_heading level0 row3\" >lda</th>\n",
       "      <td id=\"T_c14dd_row3_col0\" class=\"data row3 col0\" >Linear Discriminant Analysis</td>\n",
       "      <td id=\"T_c14dd_row3_col1\" class=\"data row3 col1\" >0.7598</td>\n",
       "      <td id=\"T_c14dd_row3_col2\" class=\"data row3 col2\" >0.8311</td>\n",
       "      <td id=\"T_c14dd_row3_col3\" class=\"data row3 col3\" >0.5506</td>\n",
       "      <td id=\"T_c14dd_row3_col4\" class=\"data row3 col4\" >0.6898</td>\n",
       "      <td id=\"T_c14dd_row3_col5\" class=\"data row3 col5\" >0.6097</td>\n",
       "      <td id=\"T_c14dd_row3_col6\" class=\"data row3 col6\" >0.4410</td>\n",
       "      <td id=\"T_c14dd_row3_col7\" class=\"data row3 col7\" >0.4478</td>\n",
       "      <td id=\"T_c14dd_row3_col8\" class=\"data row3 col8\" >0.0100</td>\n",
       "    </tr>\n",
       "    <tr>\n",
       "      <th id=\"T_c14dd_level0_row4\" class=\"row_heading level0 row4\" >ada</th>\n",
       "      <td id=\"T_c14dd_row4_col0\" class=\"data row4 col0\" >Ada Boost Classifier</td>\n",
       "      <td id=\"T_c14dd_row4_col1\" class=\"data row4 col1\" >0.7469</td>\n",
       "      <td id=\"T_c14dd_row4_col2\" class=\"data row4 col2\" >0.7821</td>\n",
       "      <td id=\"T_c14dd_row4_col3\" class=\"data row4 col3\" >0.5778</td>\n",
       "      <td id=\"T_c14dd_row4_col4\" class=\"data row4 col4\" >0.6600</td>\n",
       "      <td id=\"T_c14dd_row4_col5\" class=\"data row4 col5\" >0.6110</td>\n",
       "      <td id=\"T_c14dd_row4_col6\" class=\"data row4 col6\" >0.4258</td>\n",
       "      <td id=\"T_c14dd_row4_col7\" class=\"data row4 col7\" >0.4313</td>\n",
       "      <td id=\"T_c14dd_row4_col8\" class=\"data row4 col8\" >0.0290</td>\n",
       "    </tr>\n",
       "    <tr>\n",
       "      <th id=\"T_c14dd_level0_row5\" class=\"row_heading level0 row5\" >lightgbm</th>\n",
       "      <td id=\"T_c14dd_row5_col0\" class=\"data row5 col0\" >Light Gradient Boosting Machine</td>\n",
       "      <td id=\"T_c14dd_row5_col1\" class=\"data row5 col1\" >0.7469</td>\n",
       "      <td id=\"T_c14dd_row5_col2\" class=\"data row5 col2\" >0.7851</td>\n",
       "      <td id=\"T_c14dd_row5_col3\" class=\"data row5 col3\" >0.5886</td>\n",
       "      <td id=\"T_c14dd_row5_col4\" class=\"data row5 col4\" >0.6527</td>\n",
       "      <td id=\"T_c14dd_row5_col5\" class=\"data row5 col5\" >0.6165</td>\n",
       "      <td id=\"T_c14dd_row5_col6\" class=\"data row5 col6\" >0.4290</td>\n",
       "      <td id=\"T_c14dd_row5_col7\" class=\"data row5 col7\" >0.4320</td>\n",
       "      <td id=\"T_c14dd_row5_col8\" class=\"data row5 col8\" >0.0210</td>\n",
       "    </tr>\n",
       "    <tr>\n",
       "      <th id=\"T_c14dd_level0_row6\" class=\"row_heading level0 row6\" >nb</th>\n",
       "      <td id=\"T_c14dd_row6_col0\" class=\"data row6 col0\" >Naive Bayes</td>\n",
       "      <td id=\"T_c14dd_row6_col1\" class=\"data row6 col1\" >0.7449</td>\n",
       "      <td id=\"T_c14dd_row6_col2\" class=\"data row6 col2\" >0.8066</td>\n",
       "      <td id=\"T_c14dd_row6_col3\" class=\"data row6 col3\" >0.5825</td>\n",
       "      <td id=\"T_c14dd_row6_col4\" class=\"data row6 col4\" >0.6456</td>\n",
       "      <td id=\"T_c14dd_row6_col5\" class=\"data row6 col5\" >0.6098</td>\n",
       "      <td id=\"T_c14dd_row6_col6\" class=\"data row6 col6\" >0.4219</td>\n",
       "      <td id=\"T_c14dd_row6_col7\" class=\"data row6 col7\" >0.4247</td>\n",
       "      <td id=\"T_c14dd_row6_col8\" class=\"data row6 col8\" >0.0090</td>\n",
       "    </tr>\n",
       "    <tr>\n",
       "      <th id=\"T_c14dd_level0_row7\" class=\"row_heading level0 row7\" >rf</th>\n",
       "      <td id=\"T_c14dd_row7_col0\" class=\"data row7 col0\" >Random Forest Classifier</td>\n",
       "      <td id=\"T_c14dd_row7_col1\" class=\"data row7 col1\" >0.7414</td>\n",
       "      <td id=\"T_c14dd_row7_col2\" class=\"data row7 col2\" >0.7973</td>\n",
       "      <td id=\"T_c14dd_row7_col3\" class=\"data row7 col3\" >0.5620</td>\n",
       "      <td id=\"T_c14dd_row7_col4\" class=\"data row7 col4\" >0.6504</td>\n",
       "      <td id=\"T_c14dd_row7_col5\" class=\"data row7 col5\" >0.6012</td>\n",
       "      <td id=\"T_c14dd_row7_col6\" class=\"data row7 col6\" >0.4117</td>\n",
       "      <td id=\"T_c14dd_row7_col7\" class=\"data row7 col7\" >0.4152</td>\n",
       "      <td id=\"T_c14dd_row7_col8\" class=\"data row7 col8\" >0.0530</td>\n",
       "    </tr>\n",
       "    <tr>\n",
       "      <th id=\"T_c14dd_level0_row8\" class=\"row_heading level0 row8\" >et</th>\n",
       "      <td id=\"T_c14dd_row8_col0\" class=\"data row8 col0\" >Extra Trees Classifier</td>\n",
       "      <td id=\"T_c14dd_row8_col1\" class=\"data row8 col1\" >0.7393</td>\n",
       "      <td id=\"T_c14dd_row8_col2\" class=\"data row8 col2\" >0.8007</td>\n",
       "      <td id=\"T_c14dd_row8_col3\" class=\"data row8 col3\" >0.5404</td>\n",
       "      <td id=\"T_c14dd_row8_col4\" class=\"data row8 col4\" >0.6571</td>\n",
       "      <td id=\"T_c14dd_row8_col5\" class=\"data row8 col5\" >0.5887</td>\n",
       "      <td id=\"T_c14dd_row8_col6\" class=\"data row8 col6\" >0.4016</td>\n",
       "      <td id=\"T_c14dd_row8_col7\" class=\"data row8 col7\" >0.4084</td>\n",
       "      <td id=\"T_c14dd_row8_col8\" class=\"data row8 col8\" >0.0440</td>\n",
       "    </tr>\n",
       "    <tr>\n",
       "      <th id=\"T_c14dd_level0_row9\" class=\"row_heading level0 row9\" >xgboost</th>\n",
       "      <td id=\"T_c14dd_row9_col0\" class=\"data row9 col0\" >Extreme Gradient Boosting</td>\n",
       "      <td id=\"T_c14dd_row9_col1\" class=\"data row9 col1\" >0.7358</td>\n",
       "      <td id=\"T_c14dd_row9_col2\" class=\"data row9 col2\" >0.7670</td>\n",
       "      <td id=\"T_c14dd_row9_col3\" class=\"data row9 col3\" >0.5833</td>\n",
       "      <td id=\"T_c14dd_row9_col4\" class=\"data row9 col4\" >0.6351</td>\n",
       "      <td id=\"T_c14dd_row9_col5\" class=\"data row9 col5\" >0.6053</td>\n",
       "      <td id=\"T_c14dd_row9_col6\" class=\"data row9 col6\" >0.4077</td>\n",
       "      <td id=\"T_c14dd_row9_col7\" class=\"data row9 col7\" >0.4105</td>\n",
       "      <td id=\"T_c14dd_row9_col8\" class=\"data row9 col8\" >0.0300</td>\n",
       "    </tr>\n",
       "    <tr>\n",
       "      <th id=\"T_c14dd_level0_row10\" class=\"row_heading level0 row10\" >qda</th>\n",
       "      <td id=\"T_c14dd_row10_col0\" class=\"data row10 col0\" >Quadratic Discriminant Analysis</td>\n",
       "      <td id=\"T_c14dd_row10_col1\" class=\"data row10 col1\" >0.7300</td>\n",
       "      <td id=\"T_c14dd_row10_col2\" class=\"data row10 col2\" >0.8060</td>\n",
       "      <td id=\"T_c14dd_row10_col3\" class=\"data row10 col3\" >0.5453</td>\n",
       "      <td id=\"T_c14dd_row10_col4\" class=\"data row10 col4\" >0.6283</td>\n",
       "      <td id=\"T_c14dd_row10_col5\" class=\"data row10 col5\" >0.5779</td>\n",
       "      <td id=\"T_c14dd_row10_col6\" class=\"data row10 col6\" >0.3831</td>\n",
       "      <td id=\"T_c14dd_row10_col7\" class=\"data row10 col7\" >0.3883</td>\n",
       "      <td id=\"T_c14dd_row10_col8\" class=\"data row10 col8\" >0.0100</td>\n",
       "    </tr>\n",
       "    <tr>\n",
       "      <th id=\"T_c14dd_level0_row11\" class=\"row_heading level0 row11\" >knn</th>\n",
       "      <td id=\"T_c14dd_row11_col0\" class=\"data row11 col0\" >K Neighbors Classifier</td>\n",
       "      <td id=\"T_c14dd_row11_col1\" class=\"data row11 col1\" >0.7264</td>\n",
       "      <td id=\"T_c14dd_row11_col2\" class=\"data row11 col2\" >0.7430</td>\n",
       "      <td id=\"T_c14dd_row11_col3\" class=\"data row11 col3\" >0.5243</td>\n",
       "      <td id=\"T_c14dd_row11_col4\" class=\"data row11 col4\" >0.6463</td>\n",
       "      <td id=\"T_c14dd_row11_col5\" class=\"data row11 col5\" >0.5739</td>\n",
       "      <td id=\"T_c14dd_row11_col6\" class=\"data row11 col6\" >0.3756</td>\n",
       "      <td id=\"T_c14dd_row11_col7\" class=\"data row11 col7\" >0.3837</td>\n",
       "      <td id=\"T_c14dd_row11_col8\" class=\"data row11 col8\" >0.0570</td>\n",
       "    </tr>\n",
       "    <tr>\n",
       "      <th id=\"T_c14dd_level0_row12\" class=\"row_heading level0 row12\" >dt</th>\n",
       "      <td id=\"T_c14dd_row12_col0\" class=\"data row12 col0\" >Decision Tree Classifier</td>\n",
       "      <td id=\"T_c14dd_row12_col1\" class=\"data row12 col1\" >0.6893</td>\n",
       "      <td id=\"T_c14dd_row12_col2\" class=\"data row12 col2\" >0.6546</td>\n",
       "      <td id=\"T_c14dd_row12_col3\" class=\"data row12 col3\" >0.5406</td>\n",
       "      <td id=\"T_c14dd_row12_col4\" class=\"data row12 col4\" >0.5670</td>\n",
       "      <td id=\"T_c14dd_row12_col5\" class=\"data row12 col5\" >0.5496</td>\n",
       "      <td id=\"T_c14dd_row12_col6\" class=\"data row12 col6\" >0.3132</td>\n",
       "      <td id=\"T_c14dd_row12_col7\" class=\"data row12 col7\" >0.3163</td>\n",
       "      <td id=\"T_c14dd_row12_col8\" class=\"data row12 col8\" >0.0090</td>\n",
       "    </tr>\n",
       "    <tr>\n",
       "      <th id=\"T_c14dd_level0_row13\" class=\"row_heading level0 row13\" >dummy</th>\n",
       "      <td id=\"T_c14dd_row13_col0\" class=\"data row13 col0\" >Dummy Classifier</td>\n",
       "      <td id=\"T_c14dd_row13_col1\" class=\"data row13 col1\" >0.6518</td>\n",
       "      <td id=\"T_c14dd_row13_col2\" class=\"data row13 col2\" >0.5000</td>\n",
       "      <td id=\"T_c14dd_row13_col3\" class=\"data row13 col3\" >0.0000</td>\n",
       "      <td id=\"T_c14dd_row13_col4\" class=\"data row13 col4\" >0.0000</td>\n",
       "      <td id=\"T_c14dd_row13_col5\" class=\"data row13 col5\" >0.0000</td>\n",
       "      <td id=\"T_c14dd_row13_col6\" class=\"data row13 col6\" >0.0000</td>\n",
       "      <td id=\"T_c14dd_row13_col7\" class=\"data row13 col7\" >0.0000</td>\n",
       "      <td id=\"T_c14dd_row13_col8\" class=\"data row13 col8\" >0.0090</td>\n",
       "    </tr>\n",
       "    <tr>\n",
       "      <th id=\"T_c14dd_level0_row14\" class=\"row_heading level0 row14\" >svm</th>\n",
       "      <td id=\"T_c14dd_row14_col0\" class=\"data row14 col0\" >SVM - Linear Kernel</td>\n",
       "      <td id=\"T_c14dd_row14_col1\" class=\"data row14 col1\" >0.5846</td>\n",
       "      <td id=\"T_c14dd_row14_col2\" class=\"data row14 col2\" >0.0000</td>\n",
       "      <td id=\"T_c14dd_row14_col3\" class=\"data row14 col3\" >0.3497</td>\n",
       "      <td id=\"T_c14dd_row14_col4\" class=\"data row14 col4\" >0.3886</td>\n",
       "      <td id=\"T_c14dd_row14_col5\" class=\"data row14 col5\" >0.2829</td>\n",
       "      <td id=\"T_c14dd_row14_col6\" class=\"data row14 col6\" >0.0616</td>\n",
       "      <td id=\"T_c14dd_row14_col7\" class=\"data row14 col7\" >0.0980</td>\n",
       "      <td id=\"T_c14dd_row14_col8\" class=\"data row14 col8\" >0.0130</td>\n",
       "    </tr>\n",
       "  </tbody>\n",
       "</table>\n"
      ],
      "text/plain": [
       "<pandas.io.formats.style.Styler at 0x26e62dfe050>"
      ]
     },
     "metadata": {},
     "output_type": "display_data"
    }
   ],
   "source": [
    "#compare models\n",
    "a=compare_models()"
   ]
  },
  {
   "cell_type": "markdown",
   "metadata": {},
   "source": [
    "Regression"
   ]
  },
  {
   "cell_type": "code",
   "execution_count": 6,
   "metadata": {},
   "outputs": [
    {
     "data": {
      "text/html": [
       "<div>\n",
       "<style scoped>\n",
       "    .dataframe tbody tr th:only-of-type {\n",
       "        vertical-align: middle;\n",
       "    }\n",
       "\n",
       "    .dataframe tbody tr th {\n",
       "        vertical-align: top;\n",
       "    }\n",
       "\n",
       "    .dataframe thead th {\n",
       "        text-align: right;\n",
       "    }\n",
       "</style>\n",
       "<table border=\"1\" class=\"dataframe\">\n",
       "  <thead>\n",
       "    <tr style=\"text-align: right;\">\n",
       "      <th></th>\n",
       "      <th>crim</th>\n",
       "      <th>zn</th>\n",
       "      <th>indus</th>\n",
       "      <th>chas</th>\n",
       "      <th>nox</th>\n",
       "      <th>rm</th>\n",
       "      <th>age</th>\n",
       "      <th>dis</th>\n",
       "      <th>rad</th>\n",
       "      <th>tax</th>\n",
       "      <th>ptratio</th>\n",
       "      <th>black</th>\n",
       "      <th>lstat</th>\n",
       "      <th>medv</th>\n",
       "    </tr>\n",
       "  </thead>\n",
       "  <tbody>\n",
       "    <tr>\n",
       "      <th>0</th>\n",
       "      <td>0.00632</td>\n",
       "      <td>18.0</td>\n",
       "      <td>2.31</td>\n",
       "      <td>0</td>\n",
       "      <td>0.538</td>\n",
       "      <td>6.575</td>\n",
       "      <td>65.2</td>\n",
       "      <td>4.0900</td>\n",
       "      <td>1</td>\n",
       "      <td>296</td>\n",
       "      <td>15.3</td>\n",
       "      <td>396.90</td>\n",
       "      <td>4.98</td>\n",
       "      <td>24.0</td>\n",
       "    </tr>\n",
       "    <tr>\n",
       "      <th>1</th>\n",
       "      <td>0.02731</td>\n",
       "      <td>0.0</td>\n",
       "      <td>7.07</td>\n",
       "      <td>0</td>\n",
       "      <td>0.469</td>\n",
       "      <td>6.421</td>\n",
       "      <td>78.9</td>\n",
       "      <td>4.9671</td>\n",
       "      <td>2</td>\n",
       "      <td>242</td>\n",
       "      <td>17.8</td>\n",
       "      <td>396.90</td>\n",
       "      <td>9.14</td>\n",
       "      <td>21.6</td>\n",
       "    </tr>\n",
       "    <tr>\n",
       "      <th>2</th>\n",
       "      <td>0.02729</td>\n",
       "      <td>0.0</td>\n",
       "      <td>7.07</td>\n",
       "      <td>0</td>\n",
       "      <td>0.469</td>\n",
       "      <td>7.185</td>\n",
       "      <td>61.1</td>\n",
       "      <td>4.9671</td>\n",
       "      <td>2</td>\n",
       "      <td>242</td>\n",
       "      <td>17.8</td>\n",
       "      <td>392.83</td>\n",
       "      <td>4.03</td>\n",
       "      <td>34.7</td>\n",
       "    </tr>\n",
       "    <tr>\n",
       "      <th>3</th>\n",
       "      <td>0.03237</td>\n",
       "      <td>0.0</td>\n",
       "      <td>2.18</td>\n",
       "      <td>0</td>\n",
       "      <td>0.458</td>\n",
       "      <td>6.998</td>\n",
       "      <td>45.8</td>\n",
       "      <td>6.0622</td>\n",
       "      <td>3</td>\n",
       "      <td>222</td>\n",
       "      <td>18.7</td>\n",
       "      <td>394.63</td>\n",
       "      <td>2.94</td>\n",
       "      <td>33.4</td>\n",
       "    </tr>\n",
       "    <tr>\n",
       "      <th>4</th>\n",
       "      <td>0.06905</td>\n",
       "      <td>0.0</td>\n",
       "      <td>2.18</td>\n",
       "      <td>0</td>\n",
       "      <td>0.458</td>\n",
       "      <td>7.147</td>\n",
       "      <td>54.2</td>\n",
       "      <td>6.0622</td>\n",
       "      <td>3</td>\n",
       "      <td>222</td>\n",
       "      <td>18.7</td>\n",
       "      <td>396.90</td>\n",
       "      <td>5.33</td>\n",
       "      <td>36.2</td>\n",
       "    </tr>\n",
       "  </tbody>\n",
       "</table>\n",
       "</div>"
      ],
      "text/plain": [
       "      crim    zn  indus  chas    nox     rm   age     dis  rad  tax  ptratio  \\\n",
       "0  0.00632  18.0   2.31     0  0.538  6.575  65.2  4.0900    1  296     15.3   \n",
       "1  0.02731   0.0   7.07     0  0.469  6.421  78.9  4.9671    2  242     17.8   \n",
       "2  0.02729   0.0   7.07     0  0.469  7.185  61.1  4.9671    2  242     17.8   \n",
       "3  0.03237   0.0   2.18     0  0.458  6.998  45.8  6.0622    3  222     18.7   \n",
       "4  0.06905   0.0   2.18     0  0.458  7.147  54.2  6.0622    3  222     18.7   \n",
       "\n",
       "    black  lstat  medv  \n",
       "0  396.90   4.98  24.0  \n",
       "1  396.90   9.14  21.6  \n",
       "2  392.83   4.03  34.7  \n",
       "3  394.63   2.94  33.4  \n",
       "4  396.90   5.33  36.2  "
      ]
     },
     "metadata": {},
     "output_type": "display_data"
    }
   ],
   "source": [
    "boston_df=get_data('boston')"
   ]
  },
  {
   "cell_type": "code",
   "execution_count": 7,
   "metadata": {},
   "outputs": [
    {
     "data": {
      "text/html": [
       "<style type=\"text/css\">\n",
       "#T_7b22e_row8_col1 {\n",
       "  background-color: lightgreen;\n",
       "}\n",
       "</style>\n",
       "<table id=\"T_7b22e\">\n",
       "  <thead>\n",
       "    <tr>\n",
       "      <th class=\"blank level0\" >&nbsp;</th>\n",
       "      <th id=\"T_7b22e_level0_col0\" class=\"col_heading level0 col0\" >Description</th>\n",
       "      <th id=\"T_7b22e_level0_col1\" class=\"col_heading level0 col1\" >Value</th>\n",
       "    </tr>\n",
       "  </thead>\n",
       "  <tbody>\n",
       "    <tr>\n",
       "      <th id=\"T_7b22e_level0_row0\" class=\"row_heading level0 row0\" >0</th>\n",
       "      <td id=\"T_7b22e_row0_col0\" class=\"data row0 col0\" >Session id</td>\n",
       "      <td id=\"T_7b22e_row0_col1\" class=\"data row0 col1\" >4954</td>\n",
       "    </tr>\n",
       "    <tr>\n",
       "      <th id=\"T_7b22e_level0_row1\" class=\"row_heading level0 row1\" >1</th>\n",
       "      <td id=\"T_7b22e_row1_col0\" class=\"data row1 col0\" >Target</td>\n",
       "      <td id=\"T_7b22e_row1_col1\" class=\"data row1 col1\" >medv</td>\n",
       "    </tr>\n",
       "    <tr>\n",
       "      <th id=\"T_7b22e_level0_row2\" class=\"row_heading level0 row2\" >2</th>\n",
       "      <td id=\"T_7b22e_row2_col0\" class=\"data row2 col0\" >Target type</td>\n",
       "      <td id=\"T_7b22e_row2_col1\" class=\"data row2 col1\" >Regression</td>\n",
       "    </tr>\n",
       "    <tr>\n",
       "      <th id=\"T_7b22e_level0_row3\" class=\"row_heading level0 row3\" >3</th>\n",
       "      <td id=\"T_7b22e_row3_col0\" class=\"data row3 col0\" >Original data shape</td>\n",
       "      <td id=\"T_7b22e_row3_col1\" class=\"data row3 col1\" >(506, 14)</td>\n",
       "    </tr>\n",
       "    <tr>\n",
       "      <th id=\"T_7b22e_level0_row4\" class=\"row_heading level0 row4\" >4</th>\n",
       "      <td id=\"T_7b22e_row4_col0\" class=\"data row4 col0\" >Transformed data shape</td>\n",
       "      <td id=\"T_7b22e_row4_col1\" class=\"data row4 col1\" >(506, 14)</td>\n",
       "    </tr>\n",
       "    <tr>\n",
       "      <th id=\"T_7b22e_level0_row5\" class=\"row_heading level0 row5\" >5</th>\n",
       "      <td id=\"T_7b22e_row5_col0\" class=\"data row5 col0\" >Transformed train set shape</td>\n",
       "      <td id=\"T_7b22e_row5_col1\" class=\"data row5 col1\" >(354, 14)</td>\n",
       "    </tr>\n",
       "    <tr>\n",
       "      <th id=\"T_7b22e_level0_row6\" class=\"row_heading level0 row6\" >6</th>\n",
       "      <td id=\"T_7b22e_row6_col0\" class=\"data row6 col0\" >Transformed test set shape</td>\n",
       "      <td id=\"T_7b22e_row6_col1\" class=\"data row6 col1\" >(152, 14)</td>\n",
       "    </tr>\n",
       "    <tr>\n",
       "      <th id=\"T_7b22e_level0_row7\" class=\"row_heading level0 row7\" >7</th>\n",
       "      <td id=\"T_7b22e_row7_col0\" class=\"data row7 col0\" >Numeric features</td>\n",
       "      <td id=\"T_7b22e_row7_col1\" class=\"data row7 col1\" >13</td>\n",
       "    </tr>\n",
       "    <tr>\n",
       "      <th id=\"T_7b22e_level0_row8\" class=\"row_heading level0 row8\" >8</th>\n",
       "      <td id=\"T_7b22e_row8_col0\" class=\"data row8 col0\" >Preprocess</td>\n",
       "      <td id=\"T_7b22e_row8_col1\" class=\"data row8 col1\" >True</td>\n",
       "    </tr>\n",
       "    <tr>\n",
       "      <th id=\"T_7b22e_level0_row9\" class=\"row_heading level0 row9\" >9</th>\n",
       "      <td id=\"T_7b22e_row9_col0\" class=\"data row9 col0\" >Imputation type</td>\n",
       "      <td id=\"T_7b22e_row9_col1\" class=\"data row9 col1\" >simple</td>\n",
       "    </tr>\n",
       "    <tr>\n",
       "      <th id=\"T_7b22e_level0_row10\" class=\"row_heading level0 row10\" >10</th>\n",
       "      <td id=\"T_7b22e_row10_col0\" class=\"data row10 col0\" >Numeric imputation</td>\n",
       "      <td id=\"T_7b22e_row10_col1\" class=\"data row10 col1\" >mean</td>\n",
       "    </tr>\n",
       "    <tr>\n",
       "      <th id=\"T_7b22e_level0_row11\" class=\"row_heading level0 row11\" >11</th>\n",
       "      <td id=\"T_7b22e_row11_col0\" class=\"data row11 col0\" >Categorical imputation</td>\n",
       "      <td id=\"T_7b22e_row11_col1\" class=\"data row11 col1\" >mode</td>\n",
       "    </tr>\n",
       "    <tr>\n",
       "      <th id=\"T_7b22e_level0_row12\" class=\"row_heading level0 row12\" >12</th>\n",
       "      <td id=\"T_7b22e_row12_col0\" class=\"data row12 col0\" >Fold Generator</td>\n",
       "      <td id=\"T_7b22e_row12_col1\" class=\"data row12 col1\" >KFold</td>\n",
       "    </tr>\n",
       "    <tr>\n",
       "      <th id=\"T_7b22e_level0_row13\" class=\"row_heading level0 row13\" >13</th>\n",
       "      <td id=\"T_7b22e_row13_col0\" class=\"data row13 col0\" >Fold Number</td>\n",
       "      <td id=\"T_7b22e_row13_col1\" class=\"data row13 col1\" >10</td>\n",
       "    </tr>\n",
       "    <tr>\n",
       "      <th id=\"T_7b22e_level0_row14\" class=\"row_heading level0 row14\" >14</th>\n",
       "      <td id=\"T_7b22e_row14_col0\" class=\"data row14 col0\" >CPU Jobs</td>\n",
       "      <td id=\"T_7b22e_row14_col1\" class=\"data row14 col1\" >-1</td>\n",
       "    </tr>\n",
       "    <tr>\n",
       "      <th id=\"T_7b22e_level0_row15\" class=\"row_heading level0 row15\" >15</th>\n",
       "      <td id=\"T_7b22e_row15_col0\" class=\"data row15 col0\" >Use GPU</td>\n",
       "      <td id=\"T_7b22e_row15_col1\" class=\"data row15 col1\" >False</td>\n",
       "    </tr>\n",
       "    <tr>\n",
       "      <th id=\"T_7b22e_level0_row16\" class=\"row_heading level0 row16\" >16</th>\n",
       "      <td id=\"T_7b22e_row16_col0\" class=\"data row16 col0\" >Log Experiment</td>\n",
       "      <td id=\"T_7b22e_row16_col1\" class=\"data row16 col1\" >False</td>\n",
       "    </tr>\n",
       "    <tr>\n",
       "      <th id=\"T_7b22e_level0_row17\" class=\"row_heading level0 row17\" >17</th>\n",
       "      <td id=\"T_7b22e_row17_col0\" class=\"data row17 col0\" >Experiment Name</td>\n",
       "      <td id=\"T_7b22e_row17_col1\" class=\"data row17 col1\" >reg-default-name</td>\n",
       "    </tr>\n",
       "    <tr>\n",
       "      <th id=\"T_7b22e_level0_row18\" class=\"row_heading level0 row18\" >18</th>\n",
       "      <td id=\"T_7b22e_row18_col0\" class=\"data row18 col0\" >USI</td>\n",
       "      <td id=\"T_7b22e_row18_col1\" class=\"data row18 col1\" >a9ce</td>\n",
       "    </tr>\n",
       "  </tbody>\n",
       "</table>\n"
      ],
      "text/plain": [
       "<pandas.io.formats.style.Styler at 0x26e63504820>"
      ]
     },
     "metadata": {},
     "output_type": "display_data"
    }
   ],
   "source": [
    "from pycaret.regression import *\n",
    "reg=setup(data=boston_df,target='medv')"
   ]
  },
  {
   "cell_type": "code",
   "execution_count": 8,
   "metadata": {},
   "outputs": [
    {
     "data": {
      "text/html": [
       "<style type=\"text/css\">\n",
       "#T_62dd8 th {\n",
       "  text-align: left;\n",
       "}\n",
       "#T_62dd8_row0_col0, #T_62dd8_row1_col0, #T_62dd8_row1_col1, #T_62dd8_row1_col2, #T_62dd8_row1_col3, #T_62dd8_row1_col4, #T_62dd8_row1_col5, #T_62dd8_row1_col6, #T_62dd8_row2_col0, #T_62dd8_row2_col1, #T_62dd8_row2_col2, #T_62dd8_row2_col3, #T_62dd8_row2_col4, #T_62dd8_row2_col5, #T_62dd8_row2_col6, #T_62dd8_row3_col0, #T_62dd8_row3_col1, #T_62dd8_row3_col2, #T_62dd8_row3_col3, #T_62dd8_row3_col4, #T_62dd8_row3_col5, #T_62dd8_row3_col6, #T_62dd8_row4_col0, #T_62dd8_row4_col1, #T_62dd8_row4_col2, #T_62dd8_row4_col3, #T_62dd8_row4_col4, #T_62dd8_row4_col5, #T_62dd8_row4_col6, #T_62dd8_row5_col0, #T_62dd8_row5_col1, #T_62dd8_row5_col2, #T_62dd8_row5_col3, #T_62dd8_row5_col4, #T_62dd8_row5_col5, #T_62dd8_row5_col6, #T_62dd8_row6_col0, #T_62dd8_row6_col1, #T_62dd8_row6_col2, #T_62dd8_row6_col3, #T_62dd8_row6_col4, #T_62dd8_row6_col5, #T_62dd8_row6_col6, #T_62dd8_row7_col0, #T_62dd8_row7_col1, #T_62dd8_row7_col2, #T_62dd8_row7_col3, #T_62dd8_row7_col4, #T_62dd8_row7_col5, #T_62dd8_row7_col6, #T_62dd8_row8_col0, #T_62dd8_row8_col1, #T_62dd8_row8_col2, #T_62dd8_row8_col3, #T_62dd8_row8_col4, #T_62dd8_row8_col5, #T_62dd8_row8_col6, #T_62dd8_row9_col0, #T_62dd8_row9_col1, #T_62dd8_row9_col2, #T_62dd8_row9_col3, #T_62dd8_row9_col4, #T_62dd8_row9_col5, #T_62dd8_row9_col6, #T_62dd8_row10_col0, #T_62dd8_row10_col1, #T_62dd8_row10_col2, #T_62dd8_row10_col3, #T_62dd8_row10_col4, #T_62dd8_row10_col5, #T_62dd8_row10_col6, #T_62dd8_row11_col0, #T_62dd8_row11_col1, #T_62dd8_row11_col2, #T_62dd8_row11_col3, #T_62dd8_row11_col4, #T_62dd8_row11_col5, #T_62dd8_row11_col6, #T_62dd8_row12_col0, #T_62dd8_row12_col1, #T_62dd8_row12_col2, #T_62dd8_row12_col3, #T_62dd8_row12_col4, #T_62dd8_row12_col5, #T_62dd8_row12_col6, #T_62dd8_row13_col0, #T_62dd8_row13_col1, #T_62dd8_row13_col2, #T_62dd8_row13_col3, #T_62dd8_row13_col4, #T_62dd8_row13_col5, #T_62dd8_row13_col6, #T_62dd8_row14_col0, #T_62dd8_row14_col1, #T_62dd8_row14_col2, #T_62dd8_row14_col3, #T_62dd8_row14_col4, #T_62dd8_row14_col5, #T_62dd8_row14_col6, #T_62dd8_row15_col0, #T_62dd8_row15_col1, #T_62dd8_row15_col2, #T_62dd8_row15_col3, #T_62dd8_row15_col4, #T_62dd8_row15_col5, #T_62dd8_row15_col6, #T_62dd8_row16_col0, #T_62dd8_row16_col1, #T_62dd8_row16_col2, #T_62dd8_row16_col3, #T_62dd8_row16_col4, #T_62dd8_row16_col5, #T_62dd8_row16_col6, #T_62dd8_row17_col0, #T_62dd8_row17_col1, #T_62dd8_row17_col2, #T_62dd8_row17_col3, #T_62dd8_row17_col4, #T_62dd8_row17_col5, #T_62dd8_row17_col6, #T_62dd8_row18_col0, #T_62dd8_row18_col1, #T_62dd8_row18_col2, #T_62dd8_row18_col3, #T_62dd8_row18_col4, #T_62dd8_row18_col5, #T_62dd8_row18_col6 {\n",
       "  text-align: left;\n",
       "}\n",
       "#T_62dd8_row0_col1, #T_62dd8_row0_col2, #T_62dd8_row0_col3, #T_62dd8_row0_col4, #T_62dd8_row0_col5, #T_62dd8_row0_col6 {\n",
       "  text-align: left;\n",
       "  background-color: yellow;\n",
       "}\n",
       "#T_62dd8_row0_col7, #T_62dd8_row1_col7, #T_62dd8_row2_col7, #T_62dd8_row3_col7, #T_62dd8_row4_col7, #T_62dd8_row5_col7, #T_62dd8_row6_col7, #T_62dd8_row7_col7, #T_62dd8_row8_col7, #T_62dd8_row9_col7, #T_62dd8_row10_col7, #T_62dd8_row11_col7, #T_62dd8_row12_col7, #T_62dd8_row13_col7, #T_62dd8_row14_col7, #T_62dd8_row15_col7, #T_62dd8_row16_col7, #T_62dd8_row18_col7 {\n",
       "  text-align: left;\n",
       "  background-color: lightgrey;\n",
       "}\n",
       "#T_62dd8_row17_col7 {\n",
       "  text-align: left;\n",
       "  background-color: yellow;\n",
       "  background-color: lightgrey;\n",
       "}\n",
       "</style>\n",
       "<table id=\"T_62dd8\">\n",
       "  <thead>\n",
       "    <tr>\n",
       "      <th class=\"blank level0\" >&nbsp;</th>\n",
       "      <th id=\"T_62dd8_level0_col0\" class=\"col_heading level0 col0\" >Model</th>\n",
       "      <th id=\"T_62dd8_level0_col1\" class=\"col_heading level0 col1\" >MAE</th>\n",
       "      <th id=\"T_62dd8_level0_col2\" class=\"col_heading level0 col2\" >MSE</th>\n",
       "      <th id=\"T_62dd8_level0_col3\" class=\"col_heading level0 col3\" >RMSE</th>\n",
       "      <th id=\"T_62dd8_level0_col4\" class=\"col_heading level0 col4\" >R2</th>\n",
       "      <th id=\"T_62dd8_level0_col5\" class=\"col_heading level0 col5\" >RMSLE</th>\n",
       "      <th id=\"T_62dd8_level0_col6\" class=\"col_heading level0 col6\" >MAPE</th>\n",
       "      <th id=\"T_62dd8_level0_col7\" class=\"col_heading level0 col7\" >TT (Sec)</th>\n",
       "    </tr>\n",
       "  </thead>\n",
       "  <tbody>\n",
       "    <tr>\n",
       "      <th id=\"T_62dd8_level0_row0\" class=\"row_heading level0 row0\" >et</th>\n",
       "      <td id=\"T_62dd8_row0_col0\" class=\"data row0 col0\" >Extra Trees Regressor</td>\n",
       "      <td id=\"T_62dd8_row0_col1\" class=\"data row0 col1\" >2.1829</td>\n",
       "      <td id=\"T_62dd8_row0_col2\" class=\"data row0 col2\" >9.2749</td>\n",
       "      <td id=\"T_62dd8_row0_col3\" class=\"data row0 col3\" >3.0004</td>\n",
       "      <td id=\"T_62dd8_row0_col4\" class=\"data row0 col4\" >0.8769</td>\n",
       "      <td id=\"T_62dd8_row0_col5\" class=\"data row0 col5\" >0.1405</td>\n",
       "      <td id=\"T_62dd8_row0_col6\" class=\"data row0 col6\" >0.1120</td>\n",
       "      <td id=\"T_62dd8_row0_col7\" class=\"data row0 col7\" >0.0410</td>\n",
       "    </tr>\n",
       "    <tr>\n",
       "      <th id=\"T_62dd8_level0_row1\" class=\"row_heading level0 row1\" >lightgbm</th>\n",
       "      <td id=\"T_62dd8_row1_col0\" class=\"data row1 col0\" >Light Gradient Boosting Machine</td>\n",
       "      <td id=\"T_62dd8_row1_col1\" class=\"data row1 col1\" >2.3935</td>\n",
       "      <td id=\"T_62dd8_row1_col2\" class=\"data row1 col2\" >11.7742</td>\n",
       "      <td id=\"T_62dd8_row1_col3\" class=\"data row1 col3\" >3.3761</td>\n",
       "      <td id=\"T_62dd8_row1_col4\" class=\"data row1 col4\" >0.8416</td>\n",
       "      <td id=\"T_62dd8_row1_col5\" class=\"data row1 col5\" >0.1518</td>\n",
       "      <td id=\"T_62dd8_row1_col6\" class=\"data row1 col6\" >0.1201</td>\n",
       "      <td id=\"T_62dd8_row1_col7\" class=\"data row1 col7\" >0.0120</td>\n",
       "    </tr>\n",
       "    <tr>\n",
       "      <th id=\"T_62dd8_level0_row2\" class=\"row_heading level0 row2\" >gbr</th>\n",
       "      <td id=\"T_62dd8_row2_col0\" class=\"data row2 col0\" >Gradient Boosting Regressor</td>\n",
       "      <td id=\"T_62dd8_row2_col1\" class=\"data row2 col1\" >2.3359</td>\n",
       "      <td id=\"T_62dd8_row2_col2\" class=\"data row2 col2\" >11.8794</td>\n",
       "      <td id=\"T_62dd8_row2_col3\" class=\"data row2 col3\" >3.3954</td>\n",
       "      <td id=\"T_62dd8_row2_col4\" class=\"data row2 col4\" >0.8374</td>\n",
       "      <td id=\"T_62dd8_row2_col5\" class=\"data row2 col5\" >0.1533</td>\n",
       "      <td id=\"T_62dd8_row2_col6\" class=\"data row2 col6\" >0.1205</td>\n",
       "      <td id=\"T_62dd8_row2_col7\" class=\"data row2 col7\" >0.0230</td>\n",
       "    </tr>\n",
       "    <tr>\n",
       "      <th id=\"T_62dd8_level0_row3\" class=\"row_heading level0 row3\" >xgboost</th>\n",
       "      <td id=\"T_62dd8_row3_col0\" class=\"data row3 col0\" >Extreme Gradient Boosting</td>\n",
       "      <td id=\"T_62dd8_row3_col1\" class=\"data row3 col1\" >2.2803</td>\n",
       "      <td id=\"T_62dd8_row3_col2\" class=\"data row3 col2\" >12.3032</td>\n",
       "      <td id=\"T_62dd8_row3_col3\" class=\"data row3 col3\" >3.4065</td>\n",
       "      <td id=\"T_62dd8_row3_col4\" class=\"data row3 col4\" >0.8310</td>\n",
       "      <td id=\"T_62dd8_row3_col5\" class=\"data row3 col5\" >0.1466</td>\n",
       "      <td id=\"T_62dd8_row3_col6\" class=\"data row3 col6\" >0.1138</td>\n",
       "      <td id=\"T_62dd8_row3_col7\" class=\"data row3 col7\" >0.0270</td>\n",
       "    </tr>\n",
       "    <tr>\n",
       "      <th id=\"T_62dd8_level0_row4\" class=\"row_heading level0 row4\" >ada</th>\n",
       "      <td id=\"T_62dd8_row4_col0\" class=\"data row4 col0\" >AdaBoost Regressor</td>\n",
       "      <td id=\"T_62dd8_row4_col1\" class=\"data row4 col1\" >2.6618</td>\n",
       "      <td id=\"T_62dd8_row4_col2\" class=\"data row4 col2\" >13.5947</td>\n",
       "      <td id=\"T_62dd8_row4_col3\" class=\"data row4 col3\" >3.6196</td>\n",
       "      <td id=\"T_62dd8_row4_col4\" class=\"data row4 col4\" >0.8193</td>\n",
       "      <td id=\"T_62dd8_row4_col5\" class=\"data row4 col5\" >0.1667</td>\n",
       "      <td id=\"T_62dd8_row4_col6\" class=\"data row4 col6\" >0.1395</td>\n",
       "      <td id=\"T_62dd8_row4_col7\" class=\"data row4 col7\" >0.0260</td>\n",
       "    </tr>\n",
       "    <tr>\n",
       "      <th id=\"T_62dd8_level0_row5\" class=\"row_heading level0 row5\" >rf</th>\n",
       "      <td id=\"T_62dd8_row5_col0\" class=\"data row5 col0\" >Random Forest Regressor</td>\n",
       "      <td id=\"T_62dd8_row5_col1\" class=\"data row5 col1\" >2.4306</td>\n",
       "      <td id=\"T_62dd8_row5_col2\" class=\"data row5 col2\" >13.6552</td>\n",
       "      <td id=\"T_62dd8_row5_col3\" class=\"data row5 col3\" >3.6275</td>\n",
       "      <td id=\"T_62dd8_row5_col4\" class=\"data row5 col4\" >0.8160</td>\n",
       "      <td id=\"T_62dd8_row5_col5\" class=\"data row5 col5\" >0.1595</td>\n",
       "      <td id=\"T_62dd8_row5_col6\" class=\"data row5 col6\" >0.1239</td>\n",
       "      <td id=\"T_62dd8_row5_col7\" class=\"data row5 col7\" >0.0550</td>\n",
       "    </tr>\n",
       "    <tr>\n",
       "      <th id=\"T_62dd8_level0_row6\" class=\"row_heading level0 row6\" >lr</th>\n",
       "      <td id=\"T_62dd8_row6_col0\" class=\"data row6 col0\" >Linear Regression</td>\n",
       "      <td id=\"T_62dd8_row6_col1\" class=\"data row6 col1\" >3.1750</td>\n",
       "      <td id=\"T_62dd8_row6_col2\" class=\"data row6 col2\" >19.8053</td>\n",
       "      <td id=\"T_62dd8_row6_col3\" class=\"data row6 col3\" >4.3696</td>\n",
       "      <td id=\"T_62dd8_row6_col4\" class=\"data row6 col4\" >0.7523</td>\n",
       "      <td id=\"T_62dd8_row6_col5\" class=\"data row6 col5\" >0.2382</td>\n",
       "      <td id=\"T_62dd8_row6_col6\" class=\"data row6 col6\" >0.1611</td>\n",
       "      <td id=\"T_62dd8_row6_col7\" class=\"data row6 col7\" >0.0320</td>\n",
       "    </tr>\n",
       "    <tr>\n",
       "      <th id=\"T_62dd8_level0_row7\" class=\"row_heading level0 row7\" >lar</th>\n",
       "      <td id=\"T_62dd8_row7_col0\" class=\"data row7 col0\" >Least Angle Regression</td>\n",
       "      <td id=\"T_62dd8_row7_col1\" class=\"data row7 col1\" >3.1750</td>\n",
       "      <td id=\"T_62dd8_row7_col2\" class=\"data row7 col2\" >19.8053</td>\n",
       "      <td id=\"T_62dd8_row7_col3\" class=\"data row7 col3\" >4.3696</td>\n",
       "      <td id=\"T_62dd8_row7_col4\" class=\"data row7 col4\" >0.7523</td>\n",
       "      <td id=\"T_62dd8_row7_col5\" class=\"data row7 col5\" >0.2382</td>\n",
       "      <td id=\"T_62dd8_row7_col6\" class=\"data row7 col6\" >0.1611</td>\n",
       "      <td id=\"T_62dd8_row7_col7\" class=\"data row7 col7\" >0.0110</td>\n",
       "    </tr>\n",
       "    <tr>\n",
       "      <th id=\"T_62dd8_level0_row8\" class=\"row_heading level0 row8\" >ridge</th>\n",
       "      <td id=\"T_62dd8_row8_col0\" class=\"data row8 col0\" >Ridge Regression</td>\n",
       "      <td id=\"T_62dd8_row8_col1\" class=\"data row8 col1\" >3.1564</td>\n",
       "      <td id=\"T_62dd8_row8_col2\" class=\"data row8 col2\" >20.0092</td>\n",
       "      <td id=\"T_62dd8_row8_col3\" class=\"data row8 col3\" >4.3879</td>\n",
       "      <td id=\"T_62dd8_row8_col4\" class=\"data row8 col4\" >0.7500</td>\n",
       "      <td id=\"T_62dd8_row8_col5\" class=\"data row8 col5\" >0.2430</td>\n",
       "      <td id=\"T_62dd8_row8_col6\" class=\"data row8 col6\" >0.1607</td>\n",
       "      <td id=\"T_62dd8_row8_col7\" class=\"data row8 col7\" >0.0070</td>\n",
       "    </tr>\n",
       "    <tr>\n",
       "      <th id=\"T_62dd8_level0_row9\" class=\"row_heading level0 row9\" >br</th>\n",
       "      <td id=\"T_62dd8_row9_col0\" class=\"data row9 col0\" >Bayesian Ridge</td>\n",
       "      <td id=\"T_62dd8_row9_col1\" class=\"data row9 col1\" >3.1893</td>\n",
       "      <td id=\"T_62dd8_row9_col2\" class=\"data row9 col2\" >20.5664</td>\n",
       "      <td id=\"T_62dd8_row9_col3\" class=\"data row9 col3\" >4.4530</td>\n",
       "      <td id=\"T_62dd8_row9_col4\" class=\"data row9 col4\" >0.7441</td>\n",
       "      <td id=\"T_62dd8_row9_col5\" class=\"data row9 col5\" >0.2399</td>\n",
       "      <td id=\"T_62dd8_row9_col6\" class=\"data row9 col6\" >0.1615</td>\n",
       "      <td id=\"T_62dd8_row9_col7\" class=\"data row9 col7\" >0.0070</td>\n",
       "    </tr>\n",
       "    <tr>\n",
       "      <th id=\"T_62dd8_level0_row10\" class=\"row_heading level0 row10\" >lasso</th>\n",
       "      <td id=\"T_62dd8_row10_col0\" class=\"data row10 col0\" >Lasso Regression</td>\n",
       "      <td id=\"T_62dd8_row10_col1\" class=\"data row10 col1\" >3.4278</td>\n",
       "      <td id=\"T_62dd8_row10_col2\" class=\"data row10 col2\" >24.2757</td>\n",
       "      <td id=\"T_62dd8_row10_col3\" class=\"data row10 col3\" >4.8373</td>\n",
       "      <td id=\"T_62dd8_row10_col4\" class=\"data row10 col4\" >0.7083</td>\n",
       "      <td id=\"T_62dd8_row10_col5\" class=\"data row10 col5\" >0.2406</td>\n",
       "      <td id=\"T_62dd8_row10_col6\" class=\"data row10 col6\" >0.1628</td>\n",
       "      <td id=\"T_62dd8_row10_col7\" class=\"data row10 col7\" >0.0350</td>\n",
       "    </tr>\n",
       "    <tr>\n",
       "      <th id=\"T_62dd8_level0_row11\" class=\"row_heading level0 row11\" >en</th>\n",
       "      <td id=\"T_62dd8_row11_col0\" class=\"data row11 col0\" >Elastic Net</td>\n",
       "      <td id=\"T_62dd8_row11_col1\" class=\"data row11 col1\" >3.4511</td>\n",
       "      <td id=\"T_62dd8_row11_col2\" class=\"data row11 col2\" >24.4383</td>\n",
       "      <td id=\"T_62dd8_row11_col3\" class=\"data row11 col3\" >4.8564</td>\n",
       "      <td id=\"T_62dd8_row11_col4\" class=\"data row11 col4\" >0.7065</td>\n",
       "      <td id=\"T_62dd8_row11_col5\" class=\"data row11 col5\" >0.2429</td>\n",
       "      <td id=\"T_62dd8_row11_col6\" class=\"data row11 col6\" >0.1640</td>\n",
       "      <td id=\"T_62dd8_row11_col7\" class=\"data row11 col7\" >0.0080</td>\n",
       "    </tr>\n",
       "    <tr>\n",
       "      <th id=\"T_62dd8_level0_row12\" class=\"row_heading level0 row12\" >huber</th>\n",
       "      <td id=\"T_62dd8_row12_col0\" class=\"data row12 col0\" >Huber Regressor</td>\n",
       "      <td id=\"T_62dd8_row12_col1\" class=\"data row12 col1\" >3.5780</td>\n",
       "      <td id=\"T_62dd8_row12_col2\" class=\"data row12 col2\" >27.6977</td>\n",
       "      <td id=\"T_62dd8_row12_col3\" class=\"data row12 col3\" >5.0966</td>\n",
       "      <td id=\"T_62dd8_row12_col4\" class=\"data row12 col4\" >0.6602</td>\n",
       "      <td id=\"T_62dd8_row12_col5\" class=\"data row12 col5\" >0.2788</td>\n",
       "      <td id=\"T_62dd8_row12_col6\" class=\"data row12 col6\" >0.1767</td>\n",
       "      <td id=\"T_62dd8_row12_col7\" class=\"data row12 col7\" >0.0150</td>\n",
       "    </tr>\n",
       "    <tr>\n",
       "      <th id=\"T_62dd8_level0_row13\" class=\"row_heading level0 row13\" >omp</th>\n",
       "      <td id=\"T_62dd8_row13_col0\" class=\"data row13 col0\" >Orthogonal Matching Pursuit</td>\n",
       "      <td id=\"T_62dd8_row13_col1\" class=\"data row13 col1\" >4.4303</td>\n",
       "      <td id=\"T_62dd8_row13_col2\" class=\"data row13 col2\" >37.3671</td>\n",
       "      <td id=\"T_62dd8_row13_col3\" class=\"data row13 col3\" >6.0481</td>\n",
       "      <td id=\"T_62dd8_row13_col4\" class=\"data row13 col4\" >0.5416</td>\n",
       "      <td id=\"T_62dd8_row13_col5\" class=\"data row13 col5\" >0.2965</td>\n",
       "      <td id=\"T_62dd8_row13_col6\" class=\"data row13 col6\" >0.2112</td>\n",
       "      <td id=\"T_62dd8_row13_col7\" class=\"data row13 col7\" >0.0070</td>\n",
       "    </tr>\n",
       "    <tr>\n",
       "      <th id=\"T_62dd8_level0_row14\" class=\"row_heading level0 row14\" >dt</th>\n",
       "      <td id=\"T_62dd8_row14_col0\" class=\"data row14 col0\" >Decision Tree Regressor</td>\n",
       "      <td id=\"T_62dd8_row14_col1\" class=\"data row14 col1\" >3.5946</td>\n",
       "      <td id=\"T_62dd8_row14_col2\" class=\"data row14 col2\" >35.6775</td>\n",
       "      <td id=\"T_62dd8_row14_col3\" class=\"data row14 col3\" >5.7579</td>\n",
       "      <td id=\"T_62dd8_row14_col4\" class=\"data row14 col4\" >0.5034</td>\n",
       "      <td id=\"T_62dd8_row14_col5\" class=\"data row14 col5\" >0.2325</td>\n",
       "      <td id=\"T_62dd8_row14_col6\" class=\"data row14 col6\" >0.1746</td>\n",
       "      <td id=\"T_62dd8_row14_col7\" class=\"data row14 col7\" >0.0070</td>\n",
       "    </tr>\n",
       "    <tr>\n",
       "      <th id=\"T_62dd8_level0_row15\" class=\"row_heading level0 row15\" >knn</th>\n",
       "      <td id=\"T_62dd8_row15_col0\" class=\"data row15 col0\" >K Neighbors Regressor</td>\n",
       "      <td id=\"T_62dd8_row15_col1\" class=\"data row15 col1\" >4.5563</td>\n",
       "      <td id=\"T_62dd8_row15_col2\" class=\"data row15 col2\" >40.5172</td>\n",
       "      <td id=\"T_62dd8_row15_col3\" class=\"data row15 col3\" >6.3158</td>\n",
       "      <td id=\"T_62dd8_row15_col4\" class=\"data row15 col4\" >0.4900</td>\n",
       "      <td id=\"T_62dd8_row15_col5\" class=\"data row15 col5\" >0.2490</td>\n",
       "      <td id=\"T_62dd8_row15_col6\" class=\"data row15 col6\" >0.2164</td>\n",
       "      <td id=\"T_62dd8_row15_col7\" class=\"data row15 col7\" >0.0090</td>\n",
       "    </tr>\n",
       "    <tr>\n",
       "      <th id=\"T_62dd8_level0_row16\" class=\"row_heading level0 row16\" >llar</th>\n",
       "      <td id=\"T_62dd8_row16_col0\" class=\"data row16 col0\" >Lasso Least Angle Regression</td>\n",
       "      <td id=\"T_62dd8_row16_col1\" class=\"data row16 col1\" >6.7356</td>\n",
       "      <td id=\"T_62dd8_row16_col2\" class=\"data row16 col2\" >84.6770</td>\n",
       "      <td id=\"T_62dd8_row16_col3\" class=\"data row16 col3\" >9.1137</td>\n",
       "      <td id=\"T_62dd8_row16_col4\" class=\"data row16 col4\" >-0.0362</td>\n",
       "      <td id=\"T_62dd8_row16_col5\" class=\"data row16 col5\" >0.3912</td>\n",
       "      <td id=\"T_62dd8_row16_col6\" class=\"data row16 col6\" >0.3698</td>\n",
       "      <td id=\"T_62dd8_row16_col7\" class=\"data row16 col7\" >0.0070</td>\n",
       "    </tr>\n",
       "    <tr>\n",
       "      <th id=\"T_62dd8_level0_row17\" class=\"row_heading level0 row17\" >dummy</th>\n",
       "      <td id=\"T_62dd8_row17_col0\" class=\"data row17 col0\" >Dummy Regressor</td>\n",
       "      <td id=\"T_62dd8_row17_col1\" class=\"data row17 col1\" >6.7356</td>\n",
       "      <td id=\"T_62dd8_row17_col2\" class=\"data row17 col2\" >84.6770</td>\n",
       "      <td id=\"T_62dd8_row17_col3\" class=\"data row17 col3\" >9.1137</td>\n",
       "      <td id=\"T_62dd8_row17_col4\" class=\"data row17 col4\" >-0.0362</td>\n",
       "      <td id=\"T_62dd8_row17_col5\" class=\"data row17 col5\" >0.3912</td>\n",
       "      <td id=\"T_62dd8_row17_col6\" class=\"data row17 col6\" >0.3698</td>\n",
       "      <td id=\"T_62dd8_row17_col7\" class=\"data row17 col7\" >0.0060</td>\n",
       "    </tr>\n",
       "    <tr>\n",
       "      <th id=\"T_62dd8_level0_row18\" class=\"row_heading level0 row18\" >par</th>\n",
       "      <td id=\"T_62dd8_row18_col0\" class=\"data row18 col0\" >Passive Aggressive Regressor</td>\n",
       "      <td id=\"T_62dd8_row18_col1\" class=\"data row18 col1\" >7.3424</td>\n",
       "      <td id=\"T_62dd8_row18_col2\" class=\"data row18 col2\" >86.0693</td>\n",
       "      <td id=\"T_62dd8_row18_col3\" class=\"data row18 col3\" >9.1645</td>\n",
       "      <td id=\"T_62dd8_row18_col4\" class=\"data row18 col4\" >-0.1012</td>\n",
       "      <td id=\"T_62dd8_row18_col5\" class=\"data row18 col5\" >0.4973</td>\n",
       "      <td id=\"T_62dd8_row18_col6\" class=\"data row18 col6\" >0.4142</td>\n",
       "      <td id=\"T_62dd8_row18_col7\" class=\"data row18 col7\" >0.0070</td>\n",
       "    </tr>\n",
       "  </tbody>\n",
       "</table>\n"
      ],
      "text/plain": [
       "<pandas.io.formats.style.Styler at 0x26e639483a0>"
      ]
     },
     "metadata": {},
     "output_type": "display_data"
    },
    {
     "data": {
      "text/html": [
       "<style>#sk-container-id-1 {color: black;background-color: white;}#sk-container-id-1 pre{padding: 0;}#sk-container-id-1 div.sk-toggleable {background-color: white;}#sk-container-id-1 label.sk-toggleable__label {cursor: pointer;display: block;width: 100%;margin-bottom: 0;padding: 0.3em;box-sizing: border-box;text-align: center;}#sk-container-id-1 label.sk-toggleable__label-arrow:before {content: \"▸\";float: left;margin-right: 0.25em;color: #696969;}#sk-container-id-1 label.sk-toggleable__label-arrow:hover:before {color: black;}#sk-container-id-1 div.sk-estimator:hover label.sk-toggleable__label-arrow:before {color: black;}#sk-container-id-1 div.sk-toggleable__content {max-height: 0;max-width: 0;overflow: hidden;text-align: left;background-color: #f0f8ff;}#sk-container-id-1 div.sk-toggleable__content pre {margin: 0.2em;color: black;border-radius: 0.25em;background-color: #f0f8ff;}#sk-container-id-1 input.sk-toggleable__control:checked~div.sk-toggleable__content {max-height: 200px;max-width: 100%;overflow: auto;}#sk-container-id-1 input.sk-toggleable__control:checked~label.sk-toggleable__label-arrow:before {content: \"▾\";}#sk-container-id-1 div.sk-estimator input.sk-toggleable__control:checked~label.sk-toggleable__label {background-color: #d4ebff;}#sk-container-id-1 div.sk-label input.sk-toggleable__control:checked~label.sk-toggleable__label {background-color: #d4ebff;}#sk-container-id-1 input.sk-hidden--visually {border: 0;clip: rect(1px 1px 1px 1px);clip: rect(1px, 1px, 1px, 1px);height: 1px;margin: -1px;overflow: hidden;padding: 0;position: absolute;width: 1px;}#sk-container-id-1 div.sk-estimator {font-family: monospace;background-color: #f0f8ff;border: 1px dotted black;border-radius: 0.25em;box-sizing: border-box;margin-bottom: 0.5em;}#sk-container-id-1 div.sk-estimator:hover {background-color: #d4ebff;}#sk-container-id-1 div.sk-parallel-item::after {content: \"\";width: 100%;border-bottom: 1px solid gray;flex-grow: 1;}#sk-container-id-1 div.sk-label:hover label.sk-toggleable__label {background-color: #d4ebff;}#sk-container-id-1 div.sk-serial::before {content: \"\";position: absolute;border-left: 1px solid gray;box-sizing: border-box;top: 0;bottom: 0;left: 50%;z-index: 0;}#sk-container-id-1 div.sk-serial {display: flex;flex-direction: column;align-items: center;background-color: white;padding-right: 0.2em;padding-left: 0.2em;position: relative;}#sk-container-id-1 div.sk-item {position: relative;z-index: 1;}#sk-container-id-1 div.sk-parallel {display: flex;align-items: stretch;justify-content: center;background-color: white;position: relative;}#sk-container-id-1 div.sk-item::before, #sk-container-id-1 div.sk-parallel-item::before {content: \"\";position: absolute;border-left: 1px solid gray;box-sizing: border-box;top: 0;bottom: 0;left: 50%;z-index: -1;}#sk-container-id-1 div.sk-parallel-item {display: flex;flex-direction: column;z-index: 1;position: relative;background-color: white;}#sk-container-id-1 div.sk-parallel-item:first-child::after {align-self: flex-end;width: 50%;}#sk-container-id-1 div.sk-parallel-item:last-child::after {align-self: flex-start;width: 50%;}#sk-container-id-1 div.sk-parallel-item:only-child::after {width: 0;}#sk-container-id-1 div.sk-dashed-wrapped {border: 1px dashed gray;margin: 0 0.4em 0.5em 0.4em;box-sizing: border-box;padding-bottom: 0.4em;background-color: white;}#sk-container-id-1 div.sk-label label {font-family: monospace;font-weight: bold;display: inline-block;line-height: 1.2em;}#sk-container-id-1 div.sk-label-container {text-align: center;}#sk-container-id-1 div.sk-container {/* jupyter's `normalize.less` sets `[hidden] { display: none; }` but bootstrap.min.css set `[hidden] { display: none !important; }` so we also need the `!important` here to be able to override the default hidden behavior on the sphinx rendered scikit-learn.org. See: https://github.com/scikit-learn/scikit-learn/issues/21755 */display: inline-block !important;position: relative;}#sk-container-id-1 div.sk-text-repr-fallback {display: none;}</style><div id=\"sk-container-id-1\" class=\"sk-top-container\"><div class=\"sk-text-repr-fallback\"><pre>ExtraTreesRegressor(bootstrap=False, ccp_alpha=0.0, criterion=&#x27;squared_error&#x27;,\n",
       "                    max_depth=None, max_features=1.0, max_leaf_nodes=None,\n",
       "                    max_samples=None, min_impurity_decrease=0.0,\n",
       "                    min_samples_leaf=1, min_samples_split=2,\n",
       "                    min_weight_fraction_leaf=0.0, n_estimators=100, n_jobs=-1,\n",
       "                    oob_score=False, random_state=4954, verbose=0,\n",
       "                    warm_start=False)</pre><b>In a Jupyter environment, please rerun this cell to show the HTML representation or trust the notebook. <br />On GitHub, the HTML representation is unable to render, please try loading this page with nbviewer.org.</b></div><div class=\"sk-container\" hidden><div class=\"sk-item\"><div class=\"sk-estimator sk-toggleable\"><input class=\"sk-toggleable__control sk-hidden--visually\" id=\"sk-estimator-id-1\" type=\"checkbox\" checked><label for=\"sk-estimator-id-1\" class=\"sk-toggleable__label sk-toggleable__label-arrow\">ExtraTreesRegressor</label><div class=\"sk-toggleable__content\"><pre>ExtraTreesRegressor(bootstrap=False, ccp_alpha=0.0, criterion=&#x27;squared_error&#x27;,\n",
       "                    max_depth=None, max_features=1.0, max_leaf_nodes=None,\n",
       "                    max_samples=None, min_impurity_decrease=0.0,\n",
       "                    min_samples_leaf=1, min_samples_split=2,\n",
       "                    min_weight_fraction_leaf=0.0, n_estimators=100, n_jobs=-1,\n",
       "                    oob_score=False, random_state=4954, verbose=0,\n",
       "                    warm_start=False)</pre></div></div></div></div></div>"
      ],
      "text/plain": [
       "ExtraTreesRegressor(bootstrap=False, ccp_alpha=0.0, criterion='squared_error',\n",
       "                    max_depth=None, max_features=1.0, max_leaf_nodes=None,\n",
       "                    max_samples=None, min_impurity_decrease=0.0,\n",
       "                    min_samples_leaf=1, min_samples_split=2,\n",
       "                    min_weight_fraction_leaf=0.0, n_estimators=100, n_jobs=-1,\n",
       "                    oob_score=False, random_state=4954, verbose=0,\n",
       "                    warm_start=False)"
      ]
     },
     "execution_count": 8,
     "metadata": {},
     "output_type": "execute_result"
    }
   ],
   "source": [
    "compare_models()"
   ]
  },
  {
   "cell_type": "code",
   "execution_count": 9,
   "metadata": {},
   "outputs": [
    {
     "data": {
      "text/html": [
       "<style type=\"text/css\">\n",
       "#T_8818a_row10_col0, #T_8818a_row10_col1, #T_8818a_row10_col2, #T_8818a_row10_col3, #T_8818a_row10_col4, #T_8818a_row10_col5 {\n",
       "  background: yellow;\n",
       "}\n",
       "</style>\n",
       "<table id=\"T_8818a\">\n",
       "  <thead>\n",
       "    <tr>\n",
       "      <th class=\"blank level0\" >&nbsp;</th>\n",
       "      <th id=\"T_8818a_level0_col0\" class=\"col_heading level0 col0\" >MAE</th>\n",
       "      <th id=\"T_8818a_level0_col1\" class=\"col_heading level0 col1\" >MSE</th>\n",
       "      <th id=\"T_8818a_level0_col2\" class=\"col_heading level0 col2\" >RMSE</th>\n",
       "      <th id=\"T_8818a_level0_col3\" class=\"col_heading level0 col3\" >R2</th>\n",
       "      <th id=\"T_8818a_level0_col4\" class=\"col_heading level0 col4\" >RMSLE</th>\n",
       "      <th id=\"T_8818a_level0_col5\" class=\"col_heading level0 col5\" >MAPE</th>\n",
       "    </tr>\n",
       "    <tr>\n",
       "      <th class=\"index_name level0\" >Fold</th>\n",
       "      <th class=\"blank col0\" >&nbsp;</th>\n",
       "      <th class=\"blank col1\" >&nbsp;</th>\n",
       "      <th class=\"blank col2\" >&nbsp;</th>\n",
       "      <th class=\"blank col3\" >&nbsp;</th>\n",
       "      <th class=\"blank col4\" >&nbsp;</th>\n",
       "      <th class=\"blank col5\" >&nbsp;</th>\n",
       "    </tr>\n",
       "  </thead>\n",
       "  <tbody>\n",
       "    <tr>\n",
       "      <th id=\"T_8818a_level0_row0\" class=\"row_heading level0 row0\" >0</th>\n",
       "      <td id=\"T_8818a_row0_col0\" class=\"data row0 col0\" >2.4713</td>\n",
       "      <td id=\"T_8818a_row0_col1\" class=\"data row0 col1\" >12.3074</td>\n",
       "      <td id=\"T_8818a_row0_col2\" class=\"data row0 col2\" >3.5082</td>\n",
       "      <td id=\"T_8818a_row0_col3\" class=\"data row0 col3\" >0.8252</td>\n",
       "      <td id=\"T_8818a_row0_col4\" class=\"data row0 col4\" >0.1489</td>\n",
       "      <td id=\"T_8818a_row0_col5\" class=\"data row0 col5\" >0.1168</td>\n",
       "    </tr>\n",
       "    <tr>\n",
       "      <th id=\"T_8818a_level0_row1\" class=\"row_heading level0 row1\" >1</th>\n",
       "      <td id=\"T_8818a_row1_col0\" class=\"data row1 col0\" >2.0427</td>\n",
       "      <td id=\"T_8818a_row1_col1\" class=\"data row1 col1\" >7.0883</td>\n",
       "      <td id=\"T_8818a_row1_col2\" class=\"data row1 col2\" >2.6624</td>\n",
       "      <td id=\"T_8818a_row1_col3\" class=\"data row1 col3\" >0.9013</td>\n",
       "      <td id=\"T_8818a_row1_col4\" class=\"data row1 col4\" >0.1516</td>\n",
       "      <td id=\"T_8818a_row1_col5\" class=\"data row1 col5\" >0.1290</td>\n",
       "    </tr>\n",
       "    <tr>\n",
       "      <th id=\"T_8818a_level0_row2\" class=\"row_heading level0 row2\" >2</th>\n",
       "      <td id=\"T_8818a_row2_col0\" class=\"data row2 col0\" >2.0978</td>\n",
       "      <td id=\"T_8818a_row2_col1\" class=\"data row2 col1\" >8.6570</td>\n",
       "      <td id=\"T_8818a_row2_col2\" class=\"data row2 col2\" >2.9423</td>\n",
       "      <td id=\"T_8818a_row2_col3\" class=\"data row2 col3\" >0.8543</td>\n",
       "      <td id=\"T_8818a_row2_col4\" class=\"data row2 col4\" >0.1468</td>\n",
       "      <td id=\"T_8818a_row2_col5\" class=\"data row2 col5\" >0.1199</td>\n",
       "    </tr>\n",
       "    <tr>\n",
       "      <th id=\"T_8818a_level0_row3\" class=\"row_heading level0 row3\" >3</th>\n",
       "      <td id=\"T_8818a_row3_col0\" class=\"data row3 col0\" >2.3711</td>\n",
       "      <td id=\"T_8818a_row3_col1\" class=\"data row3 col1\" >23.1712</td>\n",
       "      <td id=\"T_8818a_row3_col2\" class=\"data row3 col2\" >4.8136</td>\n",
       "      <td id=\"T_8818a_row3_col3\" class=\"data row3 col3\" >0.5536</td>\n",
       "      <td id=\"T_8818a_row3_col4\" class=\"data row3 col4\" >0.1570</td>\n",
       "      <td id=\"T_8818a_row3_col5\" class=\"data row3 col5\" >0.1031</td>\n",
       "    </tr>\n",
       "    <tr>\n",
       "      <th id=\"T_8818a_level0_row4\" class=\"row_heading level0 row4\" >4</th>\n",
       "      <td id=\"T_8818a_row4_col0\" class=\"data row4 col0\" >2.1300</td>\n",
       "      <td id=\"T_8818a_row4_col1\" class=\"data row4 col1\" >8.3612</td>\n",
       "      <td id=\"T_8818a_row4_col2\" class=\"data row4 col2\" >2.8916</td>\n",
       "      <td id=\"T_8818a_row4_col3\" class=\"data row4 col3\" >0.9320</td>\n",
       "      <td id=\"T_8818a_row4_col4\" class=\"data row4 col4\" >0.1802</td>\n",
       "      <td id=\"T_8818a_row4_col5\" class=\"data row4 col5\" >0.1438</td>\n",
       "    </tr>\n",
       "    <tr>\n",
       "      <th id=\"T_8818a_level0_row5\" class=\"row_heading level0 row5\" >5</th>\n",
       "      <td id=\"T_8818a_row5_col0\" class=\"data row5 col0\" >2.5298</td>\n",
       "      <td id=\"T_8818a_row5_col1\" class=\"data row5 col1\" >10.6430</td>\n",
       "      <td id=\"T_8818a_row5_col2\" class=\"data row5 col2\" >3.2624</td>\n",
       "      <td id=\"T_8818a_row5_col3\" class=\"data row5 col3\" >0.9072</td>\n",
       "      <td id=\"T_8818a_row5_col4\" class=\"data row5 col4\" >0.1702</td>\n",
       "      <td id=\"T_8818a_row5_col5\" class=\"data row5 col5\" >0.1349</td>\n",
       "    </tr>\n",
       "    <tr>\n",
       "      <th id=\"T_8818a_level0_row6\" class=\"row_heading level0 row6\" >6</th>\n",
       "      <td id=\"T_8818a_row6_col0\" class=\"data row6 col0\" >2.6722</td>\n",
       "      <td id=\"T_8818a_row6_col1\" class=\"data row6 col1\" >16.2473</td>\n",
       "      <td id=\"T_8818a_row6_col2\" class=\"data row6 col2\" >4.0308</td>\n",
       "      <td id=\"T_8818a_row6_col3\" class=\"data row6 col3\" >0.8465</td>\n",
       "      <td id=\"T_8818a_row6_col4\" class=\"data row6 col4\" >0.1423</td>\n",
       "      <td id=\"T_8818a_row6_col5\" class=\"data row6 col5\" >0.1118</td>\n",
       "    </tr>\n",
       "    <tr>\n",
       "      <th id=\"T_8818a_level0_row7\" class=\"row_heading level0 row7\" >7</th>\n",
       "      <td id=\"T_8818a_row7_col0\" class=\"data row7 col0\" >2.1744</td>\n",
       "      <td id=\"T_8818a_row7_col1\" class=\"data row7 col1\" >10.8339</td>\n",
       "      <td id=\"T_8818a_row7_col2\" class=\"data row7 col2\" >3.2915</td>\n",
       "      <td id=\"T_8818a_row7_col3\" class=\"data row7 col3\" >0.8206</td>\n",
       "      <td id=\"T_8818a_row7_col4\" class=\"data row7 col4\" >0.1403</td>\n",
       "      <td id=\"T_8818a_row7_col5\" class=\"data row7 col5\" >0.1074</td>\n",
       "    </tr>\n",
       "    <tr>\n",
       "      <th id=\"T_8818a_level0_row8\" class=\"row_heading level0 row8\" >8</th>\n",
       "      <td id=\"T_8818a_row8_col0\" class=\"data row8 col0\" >2.3613</td>\n",
       "      <td id=\"T_8818a_row8_col1\" class=\"data row8 col1\" >10.0230</td>\n",
       "      <td id=\"T_8818a_row8_col2\" class=\"data row8 col2\" >3.1659</td>\n",
       "      <td id=\"T_8818a_row8_col3\" class=\"data row8 col3\" >0.8739</td>\n",
       "      <td id=\"T_8818a_row8_col4\" class=\"data row8 col4\" >0.1501</td>\n",
       "      <td id=\"T_8818a_row8_col5\" class=\"data row8 col5\" >0.1154</td>\n",
       "    </tr>\n",
       "    <tr>\n",
       "      <th id=\"T_8818a_level0_row9\" class=\"row_heading level0 row9\" >9</th>\n",
       "      <td id=\"T_8818a_row9_col0\" class=\"data row9 col0\" >2.5088</td>\n",
       "      <td id=\"T_8818a_row9_col1\" class=\"data row9 col1\" >11.4615</td>\n",
       "      <td id=\"T_8818a_row9_col2\" class=\"data row9 col2\" >3.3855</td>\n",
       "      <td id=\"T_8818a_row9_col3\" class=\"data row9 col3\" >0.8591</td>\n",
       "      <td id=\"T_8818a_row9_col4\" class=\"data row9 col4\" >0.1456</td>\n",
       "      <td id=\"T_8818a_row9_col5\" class=\"data row9 col5\" >0.1230</td>\n",
       "    </tr>\n",
       "    <tr>\n",
       "      <th id=\"T_8818a_level0_row10\" class=\"row_heading level0 row10\" >Mean</th>\n",
       "      <td id=\"T_8818a_row10_col0\" class=\"data row10 col0\" >2.3359</td>\n",
       "      <td id=\"T_8818a_row10_col1\" class=\"data row10 col1\" >11.8794</td>\n",
       "      <td id=\"T_8818a_row10_col2\" class=\"data row10 col2\" >3.3954</td>\n",
       "      <td id=\"T_8818a_row10_col3\" class=\"data row10 col3\" >0.8374</td>\n",
       "      <td id=\"T_8818a_row10_col4\" class=\"data row10 col4\" >0.1533</td>\n",
       "      <td id=\"T_8818a_row10_col5\" class=\"data row10 col5\" >0.1205</td>\n",
       "    </tr>\n",
       "    <tr>\n",
       "      <th id=\"T_8818a_level0_row11\" class=\"row_heading level0 row11\" >Std</th>\n",
       "      <td id=\"T_8818a_row11_col0\" class=\"data row11 col0\" >0.2030</td>\n",
       "      <td id=\"T_8818a_row11_col1\" class=\"data row11 col1\" >4.4579</td>\n",
       "      <td id=\"T_8818a_row11_col2\" class=\"data row11 col2\" >0.5921</td>\n",
       "      <td id=\"T_8818a_row11_col3\" class=\"data row11 col3\" >0.1005</td>\n",
       "      <td id=\"T_8818a_row11_col4\" class=\"data row11 col4\" >0.0120</td>\n",
       "      <td id=\"T_8818a_row11_col5\" class=\"data row11 col5\" >0.0119</td>\n",
       "    </tr>\n",
       "  </tbody>\n",
       "</table>\n"
      ],
      "text/plain": [
       "<pandas.io.formats.style.Styler at 0x26e63506e60>"
      ]
     },
     "metadata": {},
     "output_type": "display_data"
    }
   ],
   "source": [
    "reg_model=create_model('gbr')"
   ]
  },
  {
   "cell_type": "code",
   "execution_count": 10,
   "metadata": {},
   "outputs": [
    {
     "data": {
      "text/html": [
       "<style type=\"text/css\">\n",
       "#T_0dec8_row10_col0, #T_0dec8_row10_col1, #T_0dec8_row10_col2, #T_0dec8_row10_col3, #T_0dec8_row10_col4, #T_0dec8_row10_col5 {\n",
       "  background: yellow;\n",
       "}\n",
       "</style>\n",
       "<table id=\"T_0dec8\">\n",
       "  <thead>\n",
       "    <tr>\n",
       "      <th class=\"blank level0\" >&nbsp;</th>\n",
       "      <th id=\"T_0dec8_level0_col0\" class=\"col_heading level0 col0\" >MAE</th>\n",
       "      <th id=\"T_0dec8_level0_col1\" class=\"col_heading level0 col1\" >MSE</th>\n",
       "      <th id=\"T_0dec8_level0_col2\" class=\"col_heading level0 col2\" >RMSE</th>\n",
       "      <th id=\"T_0dec8_level0_col3\" class=\"col_heading level0 col3\" >R2</th>\n",
       "      <th id=\"T_0dec8_level0_col4\" class=\"col_heading level0 col4\" >RMSLE</th>\n",
       "      <th id=\"T_0dec8_level0_col5\" class=\"col_heading level0 col5\" >MAPE</th>\n",
       "    </tr>\n",
       "    <tr>\n",
       "      <th class=\"index_name level0\" >Fold</th>\n",
       "      <th class=\"blank col0\" >&nbsp;</th>\n",
       "      <th class=\"blank col1\" >&nbsp;</th>\n",
       "      <th class=\"blank col2\" >&nbsp;</th>\n",
       "      <th class=\"blank col3\" >&nbsp;</th>\n",
       "      <th class=\"blank col4\" >&nbsp;</th>\n",
       "      <th class=\"blank col5\" >&nbsp;</th>\n",
       "    </tr>\n",
       "  </thead>\n",
       "  <tbody>\n",
       "    <tr>\n",
       "      <th id=\"T_0dec8_level0_row0\" class=\"row_heading level0 row0\" >0</th>\n",
       "      <td id=\"T_0dec8_row0_col0\" class=\"data row0 col0\" >2.6862</td>\n",
       "      <td id=\"T_0dec8_row0_col1\" class=\"data row0 col1\" >11.9979</td>\n",
       "      <td id=\"T_0dec8_row0_col2\" class=\"data row0 col2\" >3.4638</td>\n",
       "      <td id=\"T_0dec8_row0_col3\" class=\"data row0 col3\" >0.8296</td>\n",
       "      <td id=\"T_0dec8_row0_col4\" class=\"data row0 col4\" >0.1524</td>\n",
       "      <td id=\"T_0dec8_row0_col5\" class=\"data row0 col5\" >0.1330</td>\n",
       "    </tr>\n",
       "    <tr>\n",
       "      <th id=\"T_0dec8_level0_row1\" class=\"row_heading level0 row1\" >1</th>\n",
       "      <td id=\"T_0dec8_row1_col0\" class=\"data row1 col0\" >1.6572</td>\n",
       "      <td id=\"T_0dec8_row1_col1\" class=\"data row1 col1\" >4.6291</td>\n",
       "      <td id=\"T_0dec8_row1_col2\" class=\"data row1 col2\" >2.1515</td>\n",
       "      <td id=\"T_0dec8_row1_col3\" class=\"data row1 col3\" >0.9355</td>\n",
       "      <td id=\"T_0dec8_row1_col4\" class=\"data row1 col4\" >0.1257</td>\n",
       "      <td id=\"T_0dec8_row1_col5\" class=\"data row1 col5\" >0.1061</td>\n",
       "    </tr>\n",
       "    <tr>\n",
       "      <th id=\"T_0dec8_level0_row2\" class=\"row_heading level0 row2\" >2</th>\n",
       "      <td id=\"T_0dec8_row2_col0\" class=\"data row2 col0\" >1.9187</td>\n",
       "      <td id=\"T_0dec8_row2_col1\" class=\"data row2 col1\" >6.9977</td>\n",
       "      <td id=\"T_0dec8_row2_col2\" class=\"data row2 col2\" >2.6453</td>\n",
       "      <td id=\"T_0dec8_row2_col3\" class=\"data row2 col3\" >0.8823</td>\n",
       "      <td id=\"T_0dec8_row2_col4\" class=\"data row2 col4\" >0.1404</td>\n",
       "      <td id=\"T_0dec8_row2_col5\" class=\"data row2 col5\" >0.1063</td>\n",
       "    </tr>\n",
       "    <tr>\n",
       "      <th id=\"T_0dec8_level0_row3\" class=\"row_heading level0 row3\" >3</th>\n",
       "      <td id=\"T_0dec8_row3_col0\" class=\"data row3 col0\" >2.1340</td>\n",
       "      <td id=\"T_0dec8_row3_col1\" class=\"data row3 col1\" >11.0858</td>\n",
       "      <td id=\"T_0dec8_row3_col2\" class=\"data row3 col2\" >3.3295</td>\n",
       "      <td id=\"T_0dec8_row3_col3\" class=\"data row3 col3\" >0.7864</td>\n",
       "      <td id=\"T_0dec8_row3_col4\" class=\"data row3 col4\" >0.1293</td>\n",
       "      <td id=\"T_0dec8_row3_col5\" class=\"data row3 col5\" >0.0904</td>\n",
       "    </tr>\n",
       "    <tr>\n",
       "      <th id=\"T_0dec8_level0_row4\" class=\"row_heading level0 row4\" >4</th>\n",
       "      <td id=\"T_0dec8_row4_col0\" class=\"data row4 col0\" >2.4882</td>\n",
       "      <td id=\"T_0dec8_row4_col1\" class=\"data row4 col1\" >9.8700</td>\n",
       "      <td id=\"T_0dec8_row4_col2\" class=\"data row4 col2\" >3.1417</td>\n",
       "      <td id=\"T_0dec8_row4_col3\" class=\"data row4 col3\" >0.9197</td>\n",
       "      <td id=\"T_0dec8_row4_col4\" class=\"data row4 col4\" >0.1936</td>\n",
       "      <td id=\"T_0dec8_row4_col5\" class=\"data row4 col5\" >0.1684</td>\n",
       "    </tr>\n",
       "    <tr>\n",
       "      <th id=\"T_0dec8_level0_row5\" class=\"row_heading level0 row5\" >5</th>\n",
       "      <td id=\"T_0dec8_row5_col0\" class=\"data row5 col0\" >2.3926</td>\n",
       "      <td id=\"T_0dec8_row5_col1\" class=\"data row5 col1\" >9.7192</td>\n",
       "      <td id=\"T_0dec8_row5_col2\" class=\"data row5 col2\" >3.1176</td>\n",
       "      <td id=\"T_0dec8_row5_col3\" class=\"data row5 col3\" >0.9153</td>\n",
       "      <td id=\"T_0dec8_row5_col4\" class=\"data row5 col4\" >0.1499</td>\n",
       "      <td id=\"T_0dec8_row5_col5\" class=\"data row5 col5\" >0.1185</td>\n",
       "    </tr>\n",
       "    <tr>\n",
       "      <th id=\"T_0dec8_level0_row6\" class=\"row_heading level0 row6\" >6</th>\n",
       "      <td id=\"T_0dec8_row6_col0\" class=\"data row6 col0\" >2.7586</td>\n",
       "      <td id=\"T_0dec8_row6_col1\" class=\"data row6 col1\" >20.0931</td>\n",
       "      <td id=\"T_0dec8_row6_col2\" class=\"data row6 col2\" >4.4825</td>\n",
       "      <td id=\"T_0dec8_row6_col3\" class=\"data row6 col3\" >0.8102</td>\n",
       "      <td id=\"T_0dec8_row6_col4\" class=\"data row6 col4\" >0.1467</td>\n",
       "      <td id=\"T_0dec8_row6_col5\" class=\"data row6 col5\" >0.1101</td>\n",
       "    </tr>\n",
       "    <tr>\n",
       "      <th id=\"T_0dec8_level0_row7\" class=\"row_heading level0 row7\" >7</th>\n",
       "      <td id=\"T_0dec8_row7_col0\" class=\"data row7 col0\" >1.8666</td>\n",
       "      <td id=\"T_0dec8_row7_col1\" class=\"data row7 col1\" >10.7660</td>\n",
       "      <td id=\"T_0dec8_row7_col2\" class=\"data row7 col2\" >3.2812</td>\n",
       "      <td id=\"T_0dec8_row7_col3\" class=\"data row7 col3\" >0.8218</td>\n",
       "      <td id=\"T_0dec8_row7_col4\" class=\"data row7 col4\" >0.1184</td>\n",
       "      <td id=\"T_0dec8_row7_col5\" class=\"data row7 col5\" >0.0829</td>\n",
       "    </tr>\n",
       "    <tr>\n",
       "      <th id=\"T_0dec8_level0_row8\" class=\"row_heading level0 row8\" >8</th>\n",
       "      <td id=\"T_0dec8_row8_col0\" class=\"data row8 col0\" >1.9929</td>\n",
       "      <td id=\"T_0dec8_row8_col1\" class=\"data row8 col1\" >6.8157</td>\n",
       "      <td id=\"T_0dec8_row8_col2\" class=\"data row8 col2\" >2.6107</td>\n",
       "      <td id=\"T_0dec8_row8_col3\" class=\"data row8 col3\" >0.9142</td>\n",
       "      <td id=\"T_0dec8_row8_col4\" class=\"data row8 col4\" >0.1231</td>\n",
       "      <td id=\"T_0dec8_row8_col5\" class=\"data row8 col5\" >0.0948</td>\n",
       "    </tr>\n",
       "    <tr>\n",
       "      <th id=\"T_0dec8_level0_row9\" class=\"row_heading level0 row9\" >9</th>\n",
       "      <td id=\"T_0dec8_row9_col0\" class=\"data row9 col0\" >2.1066</td>\n",
       "      <td id=\"T_0dec8_row9_col1\" class=\"data row9 col1\" >7.3426</td>\n",
       "      <td id=\"T_0dec8_row9_col2\" class=\"data row9 col2\" >2.7097</td>\n",
       "      <td id=\"T_0dec8_row9_col3\" class=\"data row9 col3\" >0.9097</td>\n",
       "      <td id=\"T_0dec8_row9_col4\" class=\"data row9 col4\" >0.1278</td>\n",
       "      <td id=\"T_0dec8_row9_col5\" class=\"data row9 col5\" >0.1074</td>\n",
       "    </tr>\n",
       "    <tr>\n",
       "      <th id=\"T_0dec8_level0_row10\" class=\"row_heading level0 row10\" >Mean</th>\n",
       "      <td id=\"T_0dec8_row10_col0\" class=\"data row10 col0\" >2.2002</td>\n",
       "      <td id=\"T_0dec8_row10_col1\" class=\"data row10 col1\" >9.9317</td>\n",
       "      <td id=\"T_0dec8_row10_col2\" class=\"data row10 col2\" >3.0934</td>\n",
       "      <td id=\"T_0dec8_row10_col3\" class=\"data row10 col3\" >0.8725</td>\n",
       "      <td id=\"T_0dec8_row10_col4\" class=\"data row10 col4\" >0.1407</td>\n",
       "      <td id=\"T_0dec8_row10_col5\" class=\"data row10 col5\" >0.1118</td>\n",
       "    </tr>\n",
       "    <tr>\n",
       "      <th id=\"T_0dec8_level0_row11\" class=\"row_heading level0 row11\" >Std</th>\n",
       "      <td id=\"T_0dec8_row11_col0\" class=\"data row11 col0\" >0.3478</td>\n",
       "      <td id=\"T_0dec8_row11_col1\" class=\"data row11 col1\" >4.0341</td>\n",
       "      <td id=\"T_0dec8_row11_col2\" class=\"data row11 col2\" >0.6024</td>\n",
       "      <td id=\"T_0dec8_row11_col3\" class=\"data row11 col3\" >0.0519</td>\n",
       "      <td id=\"T_0dec8_row11_col4\" class=\"data row11 col4\" >0.0209</td>\n",
       "      <td id=\"T_0dec8_row11_col5\" class=\"data row11 col5\" >0.0232</td>\n",
       "    </tr>\n",
       "  </tbody>\n",
       "</table>\n"
      ],
      "text/plain": [
       "<pandas.io.formats.style.Styler at 0x26e637e9f00>"
      ]
     },
     "metadata": {},
     "output_type": "display_data"
    }
   ],
   "source": [
    "#hyper tuning the model\n",
    "reg_model_hypertune=tune_model(reg_model,n_iter=99,optimize='rmse')"
   ]
  },
  {
   "cell_type": "markdown",
   "metadata": {},
   "source": [
    "Clustering"
   ]
  },
  {
   "cell_type": "code",
   "execution_count": 11,
   "metadata": {},
   "outputs": [
    {
     "data": {
      "text/html": [
       "<div>\n",
       "<style scoped>\n",
       "    .dataframe tbody tr th:only-of-type {\n",
       "        vertical-align: middle;\n",
       "    }\n",
       "\n",
       "    .dataframe tbody tr th {\n",
       "        vertical-align: top;\n",
       "    }\n",
       "\n",
       "    .dataframe thead th {\n",
       "        text-align: right;\n",
       "    }\n",
       "</style>\n",
       "<table border=\"1\" class=\"dataframe\">\n",
       "  <thead>\n",
       "    <tr style=\"text-align: right;\">\n",
       "      <th></th>\n",
       "      <th>Age</th>\n",
       "      <th>Income</th>\n",
       "      <th>SpendingScore</th>\n",
       "      <th>Savings</th>\n",
       "    </tr>\n",
       "  </thead>\n",
       "  <tbody>\n",
       "    <tr>\n",
       "      <th>0</th>\n",
       "      <td>58</td>\n",
       "      <td>77769</td>\n",
       "      <td>0.791329</td>\n",
       "      <td>6559.829923</td>\n",
       "    </tr>\n",
       "    <tr>\n",
       "      <th>1</th>\n",
       "      <td>59</td>\n",
       "      <td>81799</td>\n",
       "      <td>0.791082</td>\n",
       "      <td>5417.661426</td>\n",
       "    </tr>\n",
       "    <tr>\n",
       "      <th>2</th>\n",
       "      <td>62</td>\n",
       "      <td>74751</td>\n",
       "      <td>0.702657</td>\n",
       "      <td>9258.992965</td>\n",
       "    </tr>\n",
       "    <tr>\n",
       "      <th>3</th>\n",
       "      <td>59</td>\n",
       "      <td>74373</td>\n",
       "      <td>0.765680</td>\n",
       "      <td>7346.334504</td>\n",
       "    </tr>\n",
       "    <tr>\n",
       "      <th>4</th>\n",
       "      <td>87</td>\n",
       "      <td>17760</td>\n",
       "      <td>0.348778</td>\n",
       "      <td>16869.507130</td>\n",
       "    </tr>\n",
       "  </tbody>\n",
       "</table>\n",
       "</div>"
      ],
      "text/plain": [
       "   Age  Income  SpendingScore       Savings\n",
       "0   58   77769       0.791329   6559.829923\n",
       "1   59   81799       0.791082   5417.661426\n",
       "2   62   74751       0.702657   9258.992965\n",
       "3   59   74373       0.765680   7346.334504\n",
       "4   87   17760       0.348778  16869.507130"
      ]
     },
     "metadata": {},
     "output_type": "display_data"
    }
   ],
   "source": [
    "jewelery=get_data('jewellery')"
   ]
  },
  {
   "cell_type": "code",
   "execution_count": 12,
   "metadata": {},
   "outputs": [
    {
     "data": {
      "text/html": [
       "<style type=\"text/css\">\n",
       "#T_384ed_row4_col1 {\n",
       "  background-color: lightgreen;\n",
       "}\n",
       "</style>\n",
       "<table id=\"T_384ed\">\n",
       "  <thead>\n",
       "    <tr>\n",
       "      <th class=\"blank level0\" >&nbsp;</th>\n",
       "      <th id=\"T_384ed_level0_col0\" class=\"col_heading level0 col0\" >Description</th>\n",
       "      <th id=\"T_384ed_level0_col1\" class=\"col_heading level0 col1\" >Value</th>\n",
       "    </tr>\n",
       "  </thead>\n",
       "  <tbody>\n",
       "    <tr>\n",
       "      <th id=\"T_384ed_level0_row0\" class=\"row_heading level0 row0\" >0</th>\n",
       "      <td id=\"T_384ed_row0_col0\" class=\"data row0 col0\" >Session id</td>\n",
       "      <td id=\"T_384ed_row0_col1\" class=\"data row0 col1\" >7735</td>\n",
       "    </tr>\n",
       "    <tr>\n",
       "      <th id=\"T_384ed_level0_row1\" class=\"row_heading level0 row1\" >1</th>\n",
       "      <td id=\"T_384ed_row1_col0\" class=\"data row1 col0\" >Original data shape</td>\n",
       "      <td id=\"T_384ed_row1_col1\" class=\"data row1 col1\" >(505, 4)</td>\n",
       "    </tr>\n",
       "    <tr>\n",
       "      <th id=\"T_384ed_level0_row2\" class=\"row_heading level0 row2\" >2</th>\n",
       "      <td id=\"T_384ed_row2_col0\" class=\"data row2 col0\" >Transformed data shape</td>\n",
       "      <td id=\"T_384ed_row2_col1\" class=\"data row2 col1\" >(505, 4)</td>\n",
       "    </tr>\n",
       "    <tr>\n",
       "      <th id=\"T_384ed_level0_row3\" class=\"row_heading level0 row3\" >3</th>\n",
       "      <td id=\"T_384ed_row3_col0\" class=\"data row3 col0\" >Numeric features</td>\n",
       "      <td id=\"T_384ed_row3_col1\" class=\"data row3 col1\" >4</td>\n",
       "    </tr>\n",
       "    <tr>\n",
       "      <th id=\"T_384ed_level0_row4\" class=\"row_heading level0 row4\" >4</th>\n",
       "      <td id=\"T_384ed_row4_col0\" class=\"data row4 col0\" >Preprocess</td>\n",
       "      <td id=\"T_384ed_row4_col1\" class=\"data row4 col1\" >True</td>\n",
       "    </tr>\n",
       "    <tr>\n",
       "      <th id=\"T_384ed_level0_row5\" class=\"row_heading level0 row5\" >5</th>\n",
       "      <td id=\"T_384ed_row5_col0\" class=\"data row5 col0\" >Imputation type</td>\n",
       "      <td id=\"T_384ed_row5_col1\" class=\"data row5 col1\" >simple</td>\n",
       "    </tr>\n",
       "    <tr>\n",
       "      <th id=\"T_384ed_level0_row6\" class=\"row_heading level0 row6\" >6</th>\n",
       "      <td id=\"T_384ed_row6_col0\" class=\"data row6 col0\" >Numeric imputation</td>\n",
       "      <td id=\"T_384ed_row6_col1\" class=\"data row6 col1\" >mean</td>\n",
       "    </tr>\n",
       "    <tr>\n",
       "      <th id=\"T_384ed_level0_row7\" class=\"row_heading level0 row7\" >7</th>\n",
       "      <td id=\"T_384ed_row7_col0\" class=\"data row7 col0\" >Categorical imputation</td>\n",
       "      <td id=\"T_384ed_row7_col1\" class=\"data row7 col1\" >mode</td>\n",
       "    </tr>\n",
       "    <tr>\n",
       "      <th id=\"T_384ed_level0_row8\" class=\"row_heading level0 row8\" >8</th>\n",
       "      <td id=\"T_384ed_row8_col0\" class=\"data row8 col0\" >CPU Jobs</td>\n",
       "      <td id=\"T_384ed_row8_col1\" class=\"data row8 col1\" >-1</td>\n",
       "    </tr>\n",
       "    <tr>\n",
       "      <th id=\"T_384ed_level0_row9\" class=\"row_heading level0 row9\" >9</th>\n",
       "      <td id=\"T_384ed_row9_col0\" class=\"data row9 col0\" >Use GPU</td>\n",
       "      <td id=\"T_384ed_row9_col1\" class=\"data row9 col1\" >False</td>\n",
       "    </tr>\n",
       "    <tr>\n",
       "      <th id=\"T_384ed_level0_row10\" class=\"row_heading level0 row10\" >10</th>\n",
       "      <td id=\"T_384ed_row10_col0\" class=\"data row10 col0\" >Log Experiment</td>\n",
       "      <td id=\"T_384ed_row10_col1\" class=\"data row10 col1\" >False</td>\n",
       "    </tr>\n",
       "    <tr>\n",
       "      <th id=\"T_384ed_level0_row11\" class=\"row_heading level0 row11\" >11</th>\n",
       "      <td id=\"T_384ed_row11_col0\" class=\"data row11 col0\" >Experiment Name</td>\n",
       "      <td id=\"T_384ed_row11_col1\" class=\"data row11 col1\" >cluster-default-name</td>\n",
       "    </tr>\n",
       "    <tr>\n",
       "      <th id=\"T_384ed_level0_row12\" class=\"row_heading level0 row12\" >12</th>\n",
       "      <td id=\"T_384ed_row12_col0\" class=\"data row12 col0\" >USI</td>\n",
       "      <td id=\"T_384ed_row12_col1\" class=\"data row12 col1\" >b883</td>\n",
       "    </tr>\n",
       "  </tbody>\n",
       "</table>\n"
      ],
      "text/plain": [
       "<pandas.io.formats.style.Styler at 0x26e634e9930>"
      ]
     },
     "metadata": {},
     "output_type": "display_data"
    }
   ],
   "source": [
    "from pycaret.clustering import *\n",
    "clust_algo=setup(jewelery)"
   ]
  },
  {
   "cell_type": "code",
   "execution_count": 13,
   "metadata": {},
   "outputs": [
    {
     "data": {
      "text/html": [
       "<style type=\"text/css\">\n",
       "</style>\n",
       "<table id=\"T_5220a\">\n",
       "  <thead>\n",
       "    <tr>\n",
       "      <th class=\"blank level0\" >&nbsp;</th>\n",
       "      <th id=\"T_5220a_level0_col0\" class=\"col_heading level0 col0\" >Silhouette</th>\n",
       "      <th id=\"T_5220a_level0_col1\" class=\"col_heading level0 col1\" >Calinski-Harabasz</th>\n",
       "      <th id=\"T_5220a_level0_col2\" class=\"col_heading level0 col2\" >Davies-Bouldin</th>\n",
       "      <th id=\"T_5220a_level0_col3\" class=\"col_heading level0 col3\" >Homogeneity</th>\n",
       "      <th id=\"T_5220a_level0_col4\" class=\"col_heading level0 col4\" >Rand Index</th>\n",
       "      <th id=\"T_5220a_level0_col5\" class=\"col_heading level0 col5\" >Completeness</th>\n",
       "    </tr>\n",
       "  </thead>\n",
       "  <tbody>\n",
       "    <tr>\n",
       "      <th id=\"T_5220a_level0_row0\" class=\"row_heading level0 row0\" >0</th>\n",
       "      <td id=\"T_5220a_row0_col0\" class=\"data row0 col0\" >0.7207</td>\n",
       "      <td id=\"T_5220a_row0_col1\" class=\"data row0 col1\" >5011.8115</td>\n",
       "      <td id=\"T_5220a_row0_col2\" class=\"data row0 col2\" >0.4114</td>\n",
       "      <td id=\"T_5220a_row0_col3\" class=\"data row0 col3\" >0</td>\n",
       "      <td id=\"T_5220a_row0_col4\" class=\"data row0 col4\" >0</td>\n",
       "      <td id=\"T_5220a_row0_col5\" class=\"data row0 col5\" >0</td>\n",
       "    </tr>\n",
       "  </tbody>\n",
       "</table>\n"
      ],
      "text/plain": [
       "<pandas.io.formats.style.Styler at 0x26e63487c40>"
      ]
     },
     "metadata": {},
     "output_type": "display_data"
    }
   ],
   "source": [
    "kmeans=create_model('kmeans')"
   ]
  },
  {
   "cell_type": "code",
   "execution_count": 14,
   "metadata": {},
   "outputs": [
    {
     "data": {
      "text/html": [
       "<div>\n",
       "<style scoped>\n",
       "    .dataframe tbody tr th:only-of-type {\n",
       "        vertical-align: middle;\n",
       "    }\n",
       "\n",
       "    .dataframe tbody tr th {\n",
       "        vertical-align: top;\n",
       "    }\n",
       "\n",
       "    .dataframe thead th {\n",
       "        text-align: right;\n",
       "    }\n",
       "</style>\n",
       "<table border=\"1\" class=\"dataframe\">\n",
       "  <thead>\n",
       "    <tr style=\"text-align: right;\">\n",
       "      <th></th>\n",
       "      <th>Age</th>\n",
       "      <th>Income</th>\n",
       "      <th>SpendingScore</th>\n",
       "      <th>Savings</th>\n",
       "      <th>Cluster</th>\n",
       "    </tr>\n",
       "  </thead>\n",
       "  <tbody>\n",
       "    <tr>\n",
       "      <th>0</th>\n",
       "      <td>58</td>\n",
       "      <td>77769</td>\n",
       "      <td>0.791329</td>\n",
       "      <td>6559.830078</td>\n",
       "      <td>Cluster 2</td>\n",
       "    </tr>\n",
       "    <tr>\n",
       "      <th>1</th>\n",
       "      <td>59</td>\n",
       "      <td>81799</td>\n",
       "      <td>0.791082</td>\n",
       "      <td>5417.661621</td>\n",
       "      <td>Cluster 2</td>\n",
       "    </tr>\n",
       "    <tr>\n",
       "      <th>2</th>\n",
       "      <td>62</td>\n",
       "      <td>74751</td>\n",
       "      <td>0.702657</td>\n",
       "      <td>9258.993164</td>\n",
       "      <td>Cluster 2</td>\n",
       "    </tr>\n",
       "    <tr>\n",
       "      <th>3</th>\n",
       "      <td>59</td>\n",
       "      <td>74373</td>\n",
       "      <td>0.765680</td>\n",
       "      <td>7346.334473</td>\n",
       "      <td>Cluster 2</td>\n",
       "    </tr>\n",
       "    <tr>\n",
       "      <th>4</th>\n",
       "      <td>87</td>\n",
       "      <td>17760</td>\n",
       "      <td>0.348778</td>\n",
       "      <td>16869.507812</td>\n",
       "      <td>Cluster 1</td>\n",
       "    </tr>\n",
       "    <tr>\n",
       "      <th>...</th>\n",
       "      <td>...</td>\n",
       "      <td>...</td>\n",
       "      <td>...</td>\n",
       "      <td>...</td>\n",
       "      <td>...</td>\n",
       "    </tr>\n",
       "    <tr>\n",
       "      <th>500</th>\n",
       "      <td>28</td>\n",
       "      <td>101206</td>\n",
       "      <td>0.387441</td>\n",
       "      <td>14936.775391</td>\n",
       "      <td>Cluster 3</td>\n",
       "    </tr>\n",
       "    <tr>\n",
       "      <th>501</th>\n",
       "      <td>93</td>\n",
       "      <td>19934</td>\n",
       "      <td>0.203140</td>\n",
       "      <td>17969.693359</td>\n",
       "      <td>Cluster 1</td>\n",
       "    </tr>\n",
       "    <tr>\n",
       "      <th>502</th>\n",
       "      <td>90</td>\n",
       "      <td>35297</td>\n",
       "      <td>0.355149</td>\n",
       "      <td>16091.402344</td>\n",
       "      <td>Cluster 1</td>\n",
       "    </tr>\n",
       "    <tr>\n",
       "      <th>503</th>\n",
       "      <td>91</td>\n",
       "      <td>20681</td>\n",
       "      <td>0.354679</td>\n",
       "      <td>18401.087891</td>\n",
       "      <td>Cluster 1</td>\n",
       "    </tr>\n",
       "    <tr>\n",
       "      <th>504</th>\n",
       "      <td>89</td>\n",
       "      <td>30267</td>\n",
       "      <td>0.289310</td>\n",
       "      <td>14386.351562</td>\n",
       "      <td>Cluster 1</td>\n",
       "    </tr>\n",
       "  </tbody>\n",
       "</table>\n",
       "<p>505 rows × 5 columns</p>\n",
       "</div>"
      ],
      "text/plain": [
       "     Age  Income  SpendingScore       Savings    Cluster\n",
       "0     58   77769       0.791329   6559.830078  Cluster 2\n",
       "1     59   81799       0.791082   5417.661621  Cluster 2\n",
       "2     62   74751       0.702657   9258.993164  Cluster 2\n",
       "3     59   74373       0.765680   7346.334473  Cluster 2\n",
       "4     87   17760       0.348778  16869.507812  Cluster 1\n",
       "..   ...     ...            ...           ...        ...\n",
       "500   28  101206       0.387441  14936.775391  Cluster 3\n",
       "501   93   19934       0.203140  17969.693359  Cluster 1\n",
       "502   90   35297       0.355149  16091.402344  Cluster 1\n",
       "503   91   20681       0.354679  18401.087891  Cluster 1\n",
       "504   89   30267       0.289310  14386.351562  Cluster 1\n",
       "\n",
       "[505 rows x 5 columns]"
      ]
     },
     "execution_count": 14,
     "metadata": {},
     "output_type": "execute_result"
    }
   ],
   "source": [
    "kmeans_df=assign_model(kmeans)\n",
    "kmeans_df"
   ]
  },
  {
   "cell_type": "code",
   "execution_count": 15,
   "metadata": {},
   "outputs": [
    {
     "data": {
      "text/html": [],
      "text/plain": [
       "<IPython.core.display.HTML object>"
      ]
     },
     "metadata": {},
     "output_type": "display_data"
    },
    {
     "data": {
      "application/vnd.plotly.v1+json": {
       "config": {
        "plotlyServerURL": "https://plot.ly"
       },
       "data": [
        {
         "customdata": [
          [
           26
          ],
          [
           17
          ],
          [
           20
          ],
          [
           24
          ],
          [
           24
          ],
          [
           17
          ],
          [
           29
          ],
          [
           27
          ],
          [
           93
          ],
          [
           17
          ],
          [
           24
          ],
          [
           86
          ],
          [
           28
          ],
          [
           23
          ],
          [
           28
          ],
          [
           18
          ],
          [
           23
          ],
          [
           29
          ],
          [
           23
          ],
          [
           32
          ],
          [
           28
          ],
          [
           24
          ],
          [
           25
          ],
          [
           91
          ],
          [
           28
          ],
          [
           87
          ],
          [
           82
          ],
          [
           24
          ],
          [
           20
          ],
          [
           82
          ],
          [
           25
          ],
          [
           22
          ],
          [
           28
          ],
          [
           27
          ],
          [
           21
          ],
          [
           26
          ],
          [
           21
          ],
          [
           27
          ],
          [
           31
          ],
          [
           23
          ],
          [
           24
          ],
          [
           77
          ],
          [
           86
          ],
          [
           34
          ],
          [
           88
          ],
          [
           25
          ],
          [
           26
          ],
          [
           18
          ],
          [
           83
          ],
          [
           29
          ],
          [
           26
          ],
          [
           28
          ],
          [
           26
          ],
          [
           90
          ],
          [
           17
          ],
          [
           30
          ],
          [
           22
          ],
          [
           89
          ],
          [
           83
          ],
          [
           84
          ],
          [
           22
          ],
          [
           88
          ],
          [
           83
          ],
          [
           90
          ],
          [
           25
          ],
          [
           24
          ],
          [
           20
          ],
          [
           85
          ],
          [
           25
          ],
          [
           29
          ],
          [
           25
          ],
          [
           92
          ]
         ],
         "hovertemplate": "Cluster=Cluster 0<br>PCA1=%{x}<br>PCA2=%{y}<br>Feature=%{customdata[0]}<extra></extra>",
         "legendgroup": "Cluster 0",
         "marker": {
          "color": "#636efa",
          "opacity": 0.5,
          "symbol": "circle"
         },
         "mode": "markers",
         "name": "Cluster 0",
         "orientation": "v",
         "showlegend": true,
         "textposition": "top center",
         "type": "scatter",
         "x": [
          51532.47005468577,
          61085.16181816623,
          47415.38915596517,
          45280.29646688087,
          53976.78999307673,
          59803.04557597495,
          47210.61128826444,
          47518.88132347978,
          50874.593719639124,
          48697.32854572939,
          59239.85352122588,
          52679.13743936506,
          52465.033585302095,
          51395.22435586329,
          48029.23597884718,
          48551.89778988752,
          54778.919906972726,
          43600.2162072105,
          63317.066530294185,
          41328.25268046832,
          48281.96476028115,
          61617.256018538916,
          55783.428854090234,
          43084.43131856256,
          46000.80248340848,
          41859.15436607782,
          50433.851405074136,
          52263.49411048377,
          54230.31142876454,
          45920.30382555984,
          45728.40113927222,
          45302.570913649906,
          41933.87633764401,
          46271.74997443963,
          54542.56027032767,
          50397.08388459135,
          48602.571103509545,
          49923.23240059171,
          47836.44838887484,
          45049.71302323946,
          55795.99791010046,
          52844.21452066904,
          48577.245951971585,
          44074.74433395841,
          47964.55228506107,
          62912.45710039263,
          52086.38065950188,
          55587.35172793504,
          42157.805430948734,
          66750.62107639125,
          56651.4554863195,
          53924.597041867295,
          47842.883669132294,
          48410.00928895811,
          59798.174818909996,
          47549.7625531608,
          57857.289053149776,
          43861.74707161996,
          43629.012740059086,
          46993.641070863785,
          58984.550283890065,
          44952.90204718009,
          41580.27174136407,
          42045.79572232814,
          55809.608247543394,
          59196.59307835406,
          53899.23405406332,
          42414.1398352513,
          53422.552479964776,
          56449.67813276751,
          55168.45153662265,
          47182.06860121161
         ],
         "xaxis": "x",
         "y": [
          6006.7338009382465,
          4243.721803980183,
          4709.38872199328,
          4437.356755042897,
          5488.389848804967,
          8450.30754893787,
          6674.234783135656,
          4941.999476017808,
          -5178.053057007972,
          5282.497861655183,
          4745.144493284462,
          -4749.056737128202,
          3371.5330641923238,
          5657.241523409539,
          5422.323715263649,
          4668.214701347184,
          4629.791345722702,
          -5657.478374018932,
          4946.1775033808935,
          -4823.645609095865,
          8499.966919747449,
          6726.3137294211765,
          4732.087674705494,
          -4660.855325409065,
          3884.4528521696893,
          -4543.326342656843,
          -6854.205790290368,
          5916.358116348498,
          3238.4289374841273,
          -4953.921494062029,
          3658.3064353496734,
          3778.1816093851317,
          4717.997031231379,
          4207.414538362317,
          4193.883189681696,
          2890.550760271961,
          6249.537248101821,
          6048.724076369269,
          6059.983303443479,
          4590.872356292776,
          4252.897482631879,
          -5677.66783639826,
          -6305.3076431666495,
          -6307.668957592929,
          -4397.185708241031,
          5261.355290099564,
          3388.427067520485,
          3427.135170171348,
          -5954.4545753329385,
          2693.0080673252005,
          4271.292256835258,
          5765.842917677419,
          4758.188583448421,
          -5693.665477980658,
          4315.751653167789,
          3437.8966252972837,
          5717.5011037700015,
          -6877.03623716375,
          -6254.840940318067,
          -4647.12939260288,
          3350.711797535985,
          -4985.51460434909,
          -5615.560841025159,
          -3106.1031340528075,
          3879.1495425780904,
          3903.974813791069,
          3176.7468047467955,
          -5432.281984340323,
          3894.2354040686,
          5101.398631128978,
          4016.9815008394608,
          -4557.716265875767
         ],
         "yaxis": "y"
        },
        {
         "customdata": [
          [
           88
          ],
          [
           84
          ],
          [
           91
          ],
          [
           86
          ],
          [
           91
          ],
          [
           86
          ],
          [
           94
          ],
          [
           85
          ],
          [
           94
          ],
          [
           88
          ],
          [
           85
          ],
          [
           83
          ],
          [
           86
          ],
          [
           91
          ],
          [
           90
          ],
          [
           88
          ],
          [
           84
          ],
          [
           92
          ],
          [
           91
          ],
          [
           94
          ],
          [
           83
          ],
          [
           91
          ],
          [
           83
          ],
          [
           89
          ],
          [
           88
          ],
          [
           87
          ],
          [
           88
          ],
          [
           89
          ],
          [
           85
          ],
          [
           91
          ],
          [
           85
          ],
          [
           94
          ],
          [
           83
          ],
          [
           94
          ],
          [
           84
          ],
          [
           86
          ],
          [
           85
          ],
          [
           87
          ],
          [
           88
          ],
          [
           89
          ],
          [
           87
          ],
          [
           86
          ],
          [
           88
          ],
          [
           91
          ],
          [
           85
          ],
          [
           88
          ],
          [
           90
          ],
          [
           87
          ],
          [
           91
          ],
          [
           85
          ],
          [
           92
          ],
          [
           89
          ],
          [
           89
          ],
          [
           95
          ],
          [
           87
          ],
          [
           87
          ],
          [
           82
          ],
          [
           93
          ],
          [
           82
          ],
          [
           91
          ],
          [
           82
          ],
          [
           89
          ],
          [
           84
          ],
          [
           87
          ],
          [
           92
          ],
          [
           90
          ],
          [
           91
          ],
          [
           81
          ],
          [
           93
          ],
          [
           88
          ],
          [
           84
          ],
          [
           85
          ],
          [
           87
          ],
          [
           89
          ],
          [
           89
          ],
          [
           86
          ],
          [
           84
          ],
          [
           91
          ],
          [
           91
          ],
          [
           83
          ],
          [
           87
          ],
          [
           90
          ],
          [
           83
          ],
          [
           83
          ],
          [
           83
          ],
          [
           87
          ],
          [
           92
          ],
          [
           91
          ],
          [
           79
          ],
          [
           94
          ],
          [
           83
          ],
          [
           91
          ],
          [
           85
          ],
          [
           87
          ],
          [
           87
          ],
          [
           88
          ],
          [
           86
          ],
          [
           90
          ],
          [
           84
          ],
          [
           86
          ],
          [
           90
          ],
          [
           93
          ],
          [
           87
          ],
          [
           91
          ],
          [
           87
          ],
          [
           83
          ],
          [
           84
          ],
          [
           87
          ],
          [
           92
          ],
          [
           87
          ],
          [
           82
          ],
          [
           84
          ],
          [
           97
          ],
          [
           91
          ],
          [
           92
          ],
          [
           90
          ],
          [
           91
          ],
          [
           90
          ],
          [
           88
          ],
          [
           84
          ],
          [
           84
          ],
          [
           92
          ],
          [
           88
          ],
          [
           90
          ],
          [
           84
          ],
          [
           87
          ],
          [
           82
          ],
          [
           89
          ],
          [
           88
          ],
          [
           88
          ],
          [
           88
          ],
          [
           91
          ],
          [
           86
          ],
          [
           89
          ],
          [
           89
          ],
          [
           90
          ],
          [
           89
          ],
          [
           92
          ],
          [
           85
          ],
          [
           94
          ],
          [
           90
          ],
          [
           85
          ],
          [
           88
          ],
          [
           84
          ],
          [
           79
          ],
          [
           88
          ],
          [
           87
          ]
         ],
         "hovertemplate": "Cluster=Cluster 1<br>PCA1=%{x}<br>PCA2=%{y}<br>Feature=%{customdata[0]}<extra></extra>",
         "legendgroup": "Cluster 1",
         "marker": {
          "color": "#EF553B",
          "opacity": 0.5,
          "symbol": "circle"
         },
         "mode": "markers",
         "name": "Cluster 1",
         "orientation": "v",
         "showlegend": true,
         "textposition": "top center",
         "type": "scatter",
         "x": [
          -58306.893745623165,
          -53484.99043374051,
          -50504.82310462912,
          -56854.2449292782,
          -45489.12000858338,
          -46897.28721880448,
          -36822.8827356796,
          -47271.41327800883,
          -47975.629885853006,
          -47129.844161164685,
          -49427.52412175887,
          -48890.16206340338,
          -39916.5906118059,
          -49274.44239573865,
          -45508.353911686456,
          -43012.76980619297,
          -48329.375170552434,
          -42805.17470565497,
          -47000.171674283905,
          -54957.490976530244,
          -57495.82749294873,
          -48496.84791008091,
          -45148.062143687,
          -50446.6872077838,
          -57750.75775521801,
          -50055.78755676451,
          -53103.847928511896,
          -44680.8935536425,
          -44945.69896471379,
          -46108.56437415351,
          -40907.25151543577,
          -48448.18983149921,
          -47148.04952513186,
          -56820.087514001265,
          -37730.769294571925,
          -28705.212825263356,
          -47927.756160689045,
          -49952.56387007487,
          -49206.07300463819,
          -56491.72617965688,
          -45504.92819267482,
          -43811.472609145436,
          -56178.67329217832,
          -63634.72202883467,
          -54413.15852823435,
          -40724.15684584516,
          -53514.36611000951,
          -63656.34761270807,
          -39063.2866648406,
          -46522.919468664026,
          -39882.023288280194,
          -42432.645121021924,
          -49610.675017215304,
          -48754.553262303794,
          -44821.27196488108,
          -28723.991918569303,
          -51459.51352500547,
          -55300.43836861995,
          -42172.091374211624,
          -58771.330100057596,
          -43231.477857798054,
          -55368.9842571401,
          -48469.75824737505,
          -51191.18314121456,
          -53329.088922118564,
          -42253.872882755204,
          -55116.835987210456,
          -41272.89535426132,
          -58127.50383446989,
          -42594.243035417414,
          -48254.0062095681,
          -46206.76075642486,
          -57176.86780758159,
          -48762.364713996016,
          -45316.58138942738,
          -39708.6469863851,
          -57516.27314156977,
          -51304.42078363724,
          -48867.334253339584,
          -47072.832690484756,
          -52350.136878173274,
          -42485.19893881767,
          -42546.309247475125,
          -52508.30352712902,
          -45053.50114082116,
          -52745.27195482761,
          -53120.54075530757,
          -49855.360193773886,
          -37510.58805740357,
          -51858.95285548027,
          -41183.65208626922,
          -38870.6725928951,
          -53905.330812432665,
          -49083.989006407,
          -49618.564266246896,
          -42334.047649157525,
          -48031.600303378444,
          -46621.67517287665,
          -55003.11474871313,
          -52219.78891088443,
          -40392.52356154922,
          -55837.89619000485,
          -57945.29404961135,
          -44891.726951259334,
          -33223.78792540309,
          -41229.085317549616,
          -48086.4715980166,
          -45889.16122740451,
          -39730.75490897845,
          -44207.36922040722,
          -42152.5028422848,
          -39255.47389259956,
          -48338.70468800094,
          -52957.61627730337,
          -56895.336013197324,
          -38257.01248030675,
          -47591.2251314346,
          -52877.38162330976,
          -57888.98693996799,
          -45243.335945905106,
          -51590.97204811316,
          -40276.44812098457,
          -44316.39099715631,
          -50029.04864430798,
          -33685.82301953528,
          -59885.18347781835,
          -51335.696316784764,
          -51006.62594962384,
          -41654.28539711411,
          -46888.40588576983,
          -47339.94734492913,
          -46752.17189818297,
          -60035.355695188846,
          -53680.72060591247,
          -47490.05336010272,
          -42382.698822799604,
          -41047.37638673445,
          -42194.79875082261,
          -41090.432743024714,
          -47366.64942872538,
          -51240.79467140158,
          -47211.309228383594,
          -49640.51628007658,
          -46294.696563603386,
          -43219.5706384472,
          -48459.57886574735,
          -45592.662707943855
         ],
         "xaxis": "x",
         "y": [
          -1498.3071568123485,
          -2964.8709350520157,
          -2541.1034297579586,
          -1039.887236747617,
          -857.2362973575495,
          -1500.600011877083,
          -3004.136044051583,
          -1422.2632977402075,
          -2697.4805218756424,
          -2166.945504634239,
          -3282.4965395289964,
          -3117.043952131993,
          -5860.407004947623,
          -1819.1411226436478,
          -1716.096216771757,
          -2388.3979285656505,
          -2106.9557066643074,
          -2383.9238128105258,
          -3258.592151182355,
          -1273.0338864987414,
          -874.5934065316534,
          -1255.022876646797,
          -918.4435120938801,
          -1789.8301942200412,
          -1546.7861986769092,
          -458.7328186883233,
          -1838.6649351563985,
          -3320.2389025799575,
          -2663.435455555625,
          -4704.89997906912,
          -2247.7237671102794,
          -424.49463918423794,
          -948.1703671149705,
          -2626.494091038499,
          -3447.5220835212776,
          -2125.5165605467546,
          1139.0675913831228,
          -1016.3629330534906,
          646.5434219075428,
          -1529.9498518651944,
          -1656.4246533860946,
          -3844.0504697250967,
          -1450.7322712124173,
          -958.5370357661079,
          -1055.9964673992295,
          -3403.354334610767,
          -3511.6510358173896,
          -672.1307761420593,
          -2178.95107889976,
          -2395.151490850781,
          -3145.8380799741644,
          -2804.3179897641226,
          -2494.3461579278814,
          -3476.7582415328593,
          -809.2480282398318,
          -1283.2493348069174,
          -1443.6315773519354,
          -2379.4456307220707,
          -3482.9500826311146,
          -1946.425647320714,
          -2464.365635646983,
          -990.6072888551704,
          -975.0114136119702,
          -2999.048697401422,
          -3704.1154622013455,
          -2813.4089680993484,
          -3386.630871370056,
          -2039.0522118035892,
          -3329.4235557220827,
          -4573.136558318876,
          -3586.3925803309558,
          -3972.438138273666,
          -500.38226527672754,
          -1902.3045662332286,
          72.34217763365285,
          -2812.640793364647,
          -2662.2372056655686,
          -1341.6420338652322,
          -3330.095620391109,
          -3652.142734722461,
          -1271.8366522528777,
          -1573.1294931068771,
          -2323.9543527396136,
          -2003.37946666311,
          -3267.8529257017854,
          -3270.249333202928,
          -2373.9076829435635,
          -2551.6401760254316,
          -2385.931492912865,
          -1998.3145888103268,
          -2299.177847787941,
          -4966.632164446521,
          776.7212819595711,
          -2706.953602076429,
          -1200.4989785914925,
          -946.4423236598789,
          -2520.879074299023,
          -1061.3925460477678,
          -1806.3718853762591,
          -361.82290007414144,
          -1918.071077159508,
          -2913.150955038962,
          -1690.224243239287,
          -1059.5101766806474,
          -4327.599784659086,
          -559.8885893852698,
          -3267.6642579009526,
          -3656.8597514538724,
          -3215.3115156639424,
          -1788.5954480508217,
          -3595.4269201600137,
          -2456.062958384289,
          -296.9483635317865,
          -512.1679220763323,
          -219.83546115271085,
          -3209.7049807915023,
          -2876.017194198107,
          -1034.0459046785422,
          -2297.410483104438,
          -2386.7438202843023,
          -1709.6808347140886,
          -3159.4029087705635,
          -1681.1081908254466,
          -2907.7976923646925,
          -2359.9807573111743,
          968.1817045075727,
          -2253.3241819888635,
          1229.634501834125,
          -1284.276804921395,
          -1747.2843051407012,
          -2756.2106649257635,
          -4260.668084206521,
          -2067.784524904225,
          -1523.1535588510794,
          -1025.6554152767992,
          -1026.2176795347025,
          163.00824757784636,
          -2831.245268015839,
          -2507.468602483163,
          -2226.524522178829,
          -337.5830610287036,
          -497.02890750722423,
          -2403.4517367005997,
          -3445.141443035064,
          -982.637550240741,
          -623.0250548560479,
          -1858.7414429497264
         ],
         "yaxis": "y"
        },
        {
         "customdata": [
          [
           58
          ],
          [
           59
          ],
          [
           61
          ],
          [
           58
          ],
          [
           61
          ],
          [
           55
          ],
          [
           56
          ],
          [
           57
          ],
          [
           56
          ],
          [
           58
          ],
          [
           65
          ],
          [
           67
          ],
          [
           58
          ],
          [
           61
          ],
          [
           59
          ],
          [
           66
          ],
          [
           59
          ],
          [
           59
          ],
          [
           60
          ],
          [
           60
          ],
          [
           67
          ],
          [
           56
          ],
          [
           62
          ],
          [
           65
          ],
          [
           59
          ],
          [
           58
          ],
          [
           61
          ],
          [
           63
          ],
          [
           67
          ],
          [
           65
          ],
          [
           64
          ],
          [
           60
          ],
          [
           61
          ],
          [
           59
          ],
          [
           63
          ],
          [
           61
          ],
          [
           57
          ],
          [
           57
          ],
          [
           59
          ],
          [
           59
          ],
          [
           56
          ],
          [
           61
          ],
          [
           68
          ],
          [
           59
          ],
          [
           60
          ],
          [
           62
          ],
          [
           62
          ],
          [
           59
          ],
          [
           59
          ],
          [
           59
          ],
          [
           63
          ],
          [
           58
          ],
          [
           55
          ],
          [
           61
          ],
          [
           51
          ],
          [
           58
          ],
          [
           56
          ],
          [
           58
          ],
          [
           63
          ],
          [
           62
          ],
          [
           66
          ],
          [
           57
          ],
          [
           66
          ],
          [
           63
          ],
          [
           64
          ],
          [
           62
          ],
          [
           62
          ],
          [
           60
          ],
          [
           65
          ],
          [
           60
          ],
          [
           59
          ],
          [
           56
          ],
          [
           58
          ],
          [
           62
          ],
          [
           56
          ],
          [
           59
          ],
          [
           58
          ],
          [
           63
          ],
          [
           64
          ],
          [
           62
          ],
          [
           60
          ],
          [
           62
          ],
          [
           58
          ],
          [
           56
          ],
          [
           62
          ],
          [
           64
          ],
          [
           66
          ],
          [
           59
          ],
          [
           62
          ],
          [
           65
          ],
          [
           61
          ],
          [
           62
          ],
          [
           60
          ],
          [
           63
          ],
          [
           59
          ],
          [
           62
          ],
          [
           59
          ],
          [
           54
          ],
          [
           61
          ],
          [
           55
          ],
          [
           53
          ],
          [
           55
          ],
          [
           61
          ],
          [
           59
          ],
          [
           59
          ],
          [
           56
          ],
          [
           61
          ],
          [
           61
          ],
          [
           60
          ],
          [
           57
          ],
          [
           61
          ],
          [
           56
          ],
          [
           58
          ],
          [
           64
          ],
          [
           59
          ],
          [
           58
          ],
          [
           59
          ],
          [
           58
          ],
          [
           57
          ],
          [
           55
          ],
          [
           62
          ],
          [
           64
          ],
          [
           61
          ],
          [
           53
          ],
          [
           55
          ],
          [
           58
          ],
          [
           59
          ],
          [
           57
          ],
          [
           53
          ],
          [
           64
          ],
          [
           61
          ],
          [
           60
          ],
          [
           58
          ],
          [
           68
          ],
          [
           59
          ],
          [
           64
          ],
          [
           63
          ],
          [
           63
          ],
          [
           66
          ],
          [
           62
          ],
          [
           59
          ],
          [
           57
          ],
          [
           61
          ],
          [
           58
          ],
          [
           67
          ],
          [
           64
          ],
          [
           55
          ],
          [
           56
          ],
          [
           58
          ],
          [
           55
          ],
          [
           57
          ],
          [
           57
          ],
          [
           58
          ],
          [
           60
          ],
          [
           56
          ],
          [
           61
          ]
         ],
         "hovertemplate": "Cluster=Cluster 2<br>PCA1=%{x}<br>PCA2=%{y}<br>Feature=%{customdata[0]}<extra></extra>",
         "legendgroup": "Cluster 2",
         "marker": {
          "color": "#00cc96",
          "opacity": 0.5,
          "symbol": "circle"
         },
         "mode": "markers",
         "name": "Cluster 2",
         "orientation": "v",
         "showlegend": true,
         "textposition": "top center",
         "type": "scatter",
         "x": [
          -6075.723954598629,
          -7981.746785180182,
          -6214.354922912845,
          4968.764656493556,
          -3222.0284980233046,
          1547.9124272171928,
          375.6120103283632,
          4615.604597857511,
          -1755.366367107975,
          834.6063397987206,
          -4114.665839253166,
          5679.935019062437,
          -4883.720557377953,
          -967.134539212143,
          -1709.0067144922655,
          1855.0479746174021,
          -7793.454361394593,
          -18832.32309725966,
          -9176.939927564548,
          -5149.414552703785,
          3574.8676307498113,
          3735.2222847238263,
          -7431.169948635815,
          -4794.730197271382,
          -1864.5940731049445,
          2868.675324116303,
          -9270.983238674973,
          7034.567000940566,
          -6586.375025316479,
          -811.2732950246651,
          -12402.614021503565,
          -805.5182754639212,
          -7827.504394122576,
          -7225.65665728049,
          -7793.211518497576,
          3607.621845817846,
          -3147.971701777524,
          -10371.487065175937,
          -2220.63544439382,
          5619.125533378007,
          5122.28254993267,
          -9600.009518947494,
          -6270.130047136974,
          2663.814116402996,
          -11770.096233982844,
          -1424.2968597298882,
          -5898.744482221801,
          -5787.584451174637,
          -6051.798043076614,
          7017.407221040996,
          -4661.643211273586,
          3333.037006876268,
          -10419.650737321668,
          -3197.7706738433244,
          -3127.7464850155197,
          -4588.845678205522,
          -9823.292972914787,
          2555.7842237302957,
          5567.478118222893,
          -1710.009111441509,
          -2630.794144410175,
          1381.2925353027351,
          -10238.837919558973,
          -2329.6167739359744,
          -3536.6249026123246,
          -11570.013634605879,
          -12594.175257191951,
          -3881.2792386591937,
          -9447.566961580671,
          -4595.7254645257335,
          277.31943945234434,
          9121.208333274735,
          499.4966240063562,
          -4176.722628358172,
          -6529.597903259434,
          -7423.928781748682,
          3385.822034418749,
          -5414.849621040677,
          11039.02694992705,
          -5806.077068066839,
          -10072.87512235504,
          3175.730103636421,
          -5327.512632351789,
          -6874.447279795804,
          -6945.490210959254,
          1198.215521605768,
          7325.256189942471,
          -7249.028144112702,
          4864.683651762638,
          -9153.992112275353,
          -5628.98375507212,
          -8175.944783875942,
          4848.442756486658,
          10499.407287118533,
          6644.597598902879,
          -611.8920901109323,
          -879.6961238367942,
          1270.5926144944215,
          -3354.409395225739,
          -3652.051625562804,
          1535.320025725934,
          3442.067889271248,
          1691.1470012917005,
          -9514.742116918947,
          -5495.93003391773,
          -11393.264273317018,
          -1006.7942920597837,
          -11385.807306619196,
          -5228.773563698116,
          106.44731571899835,
          -2009.7086269484555,
          11129.424152003634,
          -4333.353165561373,
          13091.374146760896,
          -860.4354508721402,
          1797.8692909309655,
          -2601.869630596787,
          -4972.922132318902,
          4241.77587969027,
          -4197.995988224731,
          -5414.451735591045,
          -14757.62686752967,
          -6112.701963031483,
          -13124.391619355421,
          -847.3002323292363,
          -907.669095431467,
          -3902.6507664053647,
          -1148.5927303150065,
          -284.9346156042513,
          1223.3332868105178,
          -4025.5345829792122,
          -9955.598990292234,
          5073.487342754953,
          2456.1149302637123,
          -5713.304473394479,
          -10817.514887710633,
          -18377.080909021162,
          -182.87509914871217,
          -3578.6411698602014,
          -12401.012613234328,
          384.48864417493763,
          -9604.976111586082,
          -4335.121225148149,
          -4856.160273050597,
          -15876.01420619956,
          3594.0424319377566,
          -1254.7960958097499,
          -7927.279401739002,
          2392.951401540803,
          871.0561288829945,
          1380.909588921542,
          -5506.504771609417,
          8122.080380431846,
          -7740.904886148216,
          -15159.901907030264,
          -1867.5011781843616
         ],
         "xaxis": "x",
         "y": [
          3500.596314211384,
          3467.566430123227,
          8154.200471910169,
          3943.1172738218756,
          4129.1811877500395,
          3973.906796940996,
          5049.606055105603,
          5713.442204003194,
          4273.205130157199,
          5141.101353125813,
          3078.8959824923895,
          4711.285755352459,
          4688.370839749898,
          4638.724083111242,
          3684.6952600892114,
          5468.743079867759,
          5788.853750291178,
          6823.253221994707,
          7146.662700635202,
          5556.666162538324,
          6638.189555586538,
          4370.467576915718,
          6342.03688744904,
          5174.470366607372,
          5267.352326944868,
          5223.642144465046,
          5996.5493018488605,
          3374.2873062887643,
          4795.6594687272,
          4771.515278723628,
          4277.420175996697,
          4348.095844750877,
          5701.697567388548,
          4564.617535912257,
          6334.24310604294,
          4852.444506942656,
          5506.996438516341,
          6211.274367328168,
          4177.140252105049,
          4314.8038317273,
          3424.073401707506,
          4923.281736972959,
          5401.821899173075,
          3399.1199087466734,
          5001.420588195522,
          7267.328447090968,
          5205.840127358385,
          5711.628519863219,
          6221.683197407638,
          5588.800471678811,
          4875.411844599684,
          4012.21548533734,
          5982.858062463161,
          5127.949297943519,
          5318.281844571092,
          4468.268199202187,
          6862.247568550069,
          5164.690207216538,
          6399.679501338905,
          5692.091535965758,
          5512.809747300332,
          5207.220968280955,
          7423.315553060331,
          6502.207658399985,
          5070.413063690279,
          6393.5848585042495,
          5058.593260676154,
          3532.75055009671,
          6026.370077872559,
          4575.315312500276,
          5152.077474584813,
          4076.188940417806,
          4450.572584113245,
          5121.948253777004,
          5174.060198642417,
          5595.425013755249,
          4513.159188235659,
          4509.378968992941,
          4384.687445082086,
          5686.132099777838,
          7033.832267439071,
          4727.07987852744,
          5507.674338617672,
          3266.4705558116016,
          5240.283887422065,
          6031.597702947425,
          5245.750184774921,
          5030.10127694008,
          4834.95401626222,
          6237.454829267948,
          3413.461285798182,
          5599.2748460741595,
          6716.3891574208355,
          4092.586673558621,
          6074.108602891865,
          2642.856238209564,
          4574.029857294052,
          4918.861045396693,
          4039.0497266262246,
          4298.147977719967,
          6617.143268176037,
          3293.926138303471,
          4305.605568968248,
          5484.062321469943,
          5033.927141363299,
          4760.726839204431,
          6827.736581903395,
          5239.834348120349,
          4906.821114529846,
          5019.54522733276,
          4571.311395238498,
          2451.395705037184,
          6791.121854812115,
          3878.0739044405027,
          1366.2174572861725,
          3616.9067455458776,
          5720.063891344358,
          5053.974565097902,
          4854.373360315704,
          4646.423182047719,
          6401.496667099208,
          5008.011891703149,
          7150.265776891157,
          5122.298324176331,
          5435.29366091768,
          4662.571681544217,
          5499.339242197258,
          6154.5183408011435,
          4064.0083597599214,
          5666.368020665911,
          5644.552286645017,
          4085.3124409459515,
          5244.43658923866,
          5539.9780542078,
          6098.4072206836345,
          6677.48201367213,
          5086.374515846041,
          4411.324333177547,
          4687.331267871381,
          6731.622413481739,
          6845.141671584182,
          5517.456836124642,
          2658.297501724002,
          6861.84181375661,
          7337.462411005273,
          5244.22396561459,
          6380.915678462937,
          5673.527612414187,
          5992.684142669531,
          5689.000195132613,
          5567.112753962655,
          6298.430264198263,
          4731.012077645319,
          5133.639365463529,
          5573.243770197064,
          2685.6629912898024
         ],
         "yaxis": "y"
        },
        {
         "customdata": [
          [
           37
          ],
          [
           30
          ],
          [
           30
          ],
          [
           36
          ],
          [
           31
          ],
          [
           31
          ],
          [
           33
          ],
          [
           85
          ],
          [
           30
          ],
          [
           37
          ],
          [
           36
          ],
          [
           84
          ],
          [
           34
          ],
          [
           36
          ],
          [
           30
          ],
          [
           22
          ],
          [
           34
          ],
          [
           35
          ],
          [
           34
          ],
          [
           37
          ],
          [
           35
          ],
          [
           29
          ],
          [
           28
          ],
          [
           38
          ],
          [
           88
          ],
          [
           31
          ],
          [
           31
          ],
          [
           30
          ],
          [
           29
          ],
          [
           33
          ],
          [
           32
          ],
          [
           30
          ],
          [
           31
          ],
          [
           37
          ],
          [
           39
          ],
          [
           31
          ],
          [
           33
          ],
          [
           33
          ],
          [
           36
          ],
          [
           31
          ],
          [
           33
          ],
          [
           31
          ],
          [
           31
          ],
          [
           37
          ],
          [
           36
          ],
          [
           30
          ],
          [
           37
          ],
          [
           25
          ],
          [
           35
          ],
          [
           33
          ],
          [
           34
          ],
          [
           28
          ],
          [
           31
          ],
          [
           33
          ],
          [
           28
          ],
          [
           35
          ],
          [
           31
          ],
          [
           31
          ],
          [
           30
          ],
          [
           33
          ],
          [
           28
          ],
          [
           31
          ],
          [
           40
          ],
          [
           30
          ],
          [
           29
          ],
          [
           34
          ],
          [
           39
          ],
          [
           30
          ],
          [
           86
          ],
          [
           35
          ],
          [
           59
          ],
          [
           29
          ],
          [
           28
          ],
          [
           38
          ],
          [
           31
          ],
          [
           84
          ],
          [
           29
          ],
          [
           32
          ],
          [
           28
          ],
          [
           36
          ],
          [
           32
          ],
          [
           84
          ],
          [
           29
          ],
          [
           42
          ],
          [
           32
          ],
          [
           29
          ],
          [
           29
          ],
          [
           34
          ],
          [
           25
          ],
          [
           29
          ],
          [
           33
          ],
          [
           35
          ],
          [
           33
          ],
          [
           36
          ],
          [
           37
          ],
          [
           36
          ],
          [
           35
          ],
          [
           29
          ],
          [
           38
          ],
          [
           33
          ],
          [
           33
          ],
          [
           31
          ],
          [
           38
          ],
          [
           32
          ],
          [
           36
          ],
          [
           34
          ],
          [
           27
          ],
          [
           37
          ],
          [
           35
          ],
          [
           39
          ],
          [
           35
          ],
          [
           31
          ],
          [
           30
          ],
          [
           31
          ],
          [
           37
          ],
          [
           24
          ],
          [
           34
          ],
          [
           31
          ],
          [
           32
          ],
          [
           37
          ],
          [
           26
          ],
          [
           34
          ],
          [
           33
          ],
          [
           33
          ],
          [
           35
          ],
          [
           34
          ],
          [
           28
          ],
          [
           44
          ],
          [
           36
          ],
          [
           43
          ]
         ],
         "hovertemplate": "Cluster=Cluster 3<br>PCA1=%{x}<br>PCA2=%{y}<br>Feature=%{customdata[0]}<extra></extra>",
         "legendgroup": "Cluster 3",
         "marker": {
          "color": "#ab63fa",
          "opacity": 0.5,
          "symbol": "circle"
         },
         "mode": "markers",
         "name": "Cluster 3",
         "orientation": "v",
         "showlegend": true,
         "textposition": "top center",
         "type": "scatter",
         "x": [
          30949.636906806874,
          31614.442557749975,
          24294.808481974364,
          23967.006141706435,
          32345.70841110806,
          32322.90853552379,
          22258.60867822992,
          35579.20584184765,
          26298.148403025254,
          22105.034606632642,
          20592.34660124051,
          38543.625138465286,
          26507.042897939555,
          28639.385012252143,
          22224.55615067749,
          33345.15627446259,
          23196.21332168354,
          28912.895143562044,
          28627.259856345176,
          21900.785293459732,
          41298.63128492268,
          30268.70548102742,
          25474.402763132617,
          18943.37281532902,
          38847.16975192885,
          39135.376246859574,
          30148.682682831157,
          31911.00122289601,
          15764.491422930696,
          25328.069975138656,
          32572.750284951708,
          25376.69328333063,
          37228.73474929927,
          32912.89205445822,
          24706.12836543107,
          35758.27546112109,
          31361.085258501167,
          31045.22028118459,
          24491.388924465642,
          32416.93985636817,
          30584.124596856786,
          25732.344964588887,
          25363.919193669724,
          32289.540193394685,
          22350.76980617097,
          32797.64364946063,
          31202.412658451645,
          25765.790066438323,
          30806.776365699694,
          30046.48909900838,
          22393.41770462973,
          19017.16949030117,
          32307.936747625543,
          40849.48060118111,
          24827.978797692216,
          34360.481813439466,
          35187.910560505516,
          40419.57667419344,
          20486.14068168533,
          32561.025384279303,
          23858.598234856054,
          23748.67782602552,
          23032.680118427605,
          32149.921302465693,
          26228.37627379759,
          35572.71540214713,
          23470.847054512196,
          30614.165788924787,
          39941.23737200697,
          30155.334179480982,
          15177.319702791357,
          40673.85966572636,
          36260.39987248514,
          37939.717010227345,
          26983.04635508589,
          34834.901797228114,
          35036.715862905876,
          26023.566392701552,
          33379.420597243996,
          29861.546691899748,
          30836.978320912778,
          39513.2735505219,
          27412.69141894649,
          31253.468503847278,
          19785.99437370534,
          35711.08000629997,
          23392.94203833671,
          14006.00097376518,
          30950.10184584328,
          26312.37296994567,
          36008.72534227599,
          37194.90227154461,
          38869.649470438875,
          32210.979752849817,
          31960.75447088309,
          33203.842614913294,
          26578.15321715033,
          36813.7671347141,
          28960.634987007834,
          23896.368797199037,
          19295.267700776098,
          28681.549871210183,
          39399.401380792246,
          34753.148471170556,
          34060.87751097297,
          23022.218288328804,
          31016.952780284268,
          34830.866045261144,
          32691.869561885087,
          24819.360933982727,
          26003.5224205939,
          29210.55689290377,
          33217.92658728099,
          31330.34395958771,
          32853.062284043,
          34815.25490758297,
          27758.38755378164,
          29240.509736461743,
          26343.678683823553,
          35023.21628615081,
          21973.30795777297,
          31502.360315169382,
          16918.676225923755,
          24613.751994747243,
          31317.29808239698,
          27456.913258989418,
          22236.169465667866,
          38938.11811665463,
          26071.981192203395,
          25938.050515546747
         ],
         "xaxis": "x",
         "y": [
          -4397.197247861163,
          -3948.4132949879518,
          -3156.1748108191555,
          -5918.695473496269,
          -2201.720744033925,
          -3681.290698907487,
          -5195.925254869429,
          -6195.25607645043,
          -5023.038893615686,
          -4346.1874815018655,
          -4611.587865702776,
          -7198.0635000968505,
          -5484.67422453433,
          -3130.9503738580574,
          -5737.014106158465,
          -6080.29978464731,
          -5613.7146961236485,
          -5224.554320132967,
          -3324.8164287585705,
          -5234.914564220794,
          -6422.065158701388,
          -4917.6756103184325,
          -4541.161734519425,
          -6099.926572904177,
          -8209.63960539856,
          -4339.706610389618,
          -3727.641074472824,
          -2672.911587003684,
          -2149.152364399404,
          -4507.818639633961,
          -6711.005612774824,
          -3922.3289154775002,
          -4575.537585729337,
          -4588.66484826758,
          -6304.286669733982,
          -4122.471659041034,
          -4837.5897775144185,
          -4354.880238261405,
          -3378.543647632873,
          -3316.874095179476,
          -5198.652074260112,
          -4846.280154278846,
          -6518.878337708818,
          -3634.3416070178296,
          -5405.192571717659,
          -5654.547208585245,
          -4006.881209005663,
          -4647.5146830147505,
          -5560.204279339277,
          -2733.109173664302,
          -5150.747387385609,
          -4587.0561705581185,
          -3401.081205177553,
          -5591.4308131461585,
          -5088.608026609537,
          -5038.816345608893,
          -4164.85794344723,
          -6642.234020142057,
          -4804.2039618519475,
          -5658.528738891313,
          -4857.997405051626,
          -4085.3877140573545,
          -5461.179167794457,
          -5508.945012028888,
          -4266.484394821196,
          -4807.664945608786,
          -4720.248568308458,
          -4762.434742638742,
          -5237.495096676837,
          -6491.845587524804,
          4253.670080185398,
          -5771.827355976949,
          -3890.3445341678944,
          -4683.440267913221,
          -2897.4182757985136,
          -5079.540897002683,
          -6415.699422707944,
          -7172.334086297053,
          -4139.052833212812,
          -4210.4913634935865,
          -4248.410776130167,
          -4805.682615179922,
          -5970.659385853918,
          -4792.820646769857,
          -4699.3918812562615,
          -4543.4809056629065,
          -5117.92653178842,
          -1775.604897079958,
          -6274.399316410818,
          -4286.405352481013,
          -6111.70547945101,
          -4030.486214238154,
          -4117.835744147902,
          -5806.362656038761,
          -7950.138456796392,
          -6552.892383943661,
          -4542.18111925988,
          -4615.462129937944,
          -5439.902010858867,
          -4653.572749186029,
          -3266.6498646157015,
          -4194.112749071157,
          -5202.0903724528935,
          -4008.5892737017984,
          -5075.678179352545,
          -4439.1224313860475,
          -4865.004250775122,
          -5377.22889540382,
          -6066.457134457759,
          -6443.116855817869,
          -3786.133848157167,
          -6286.357858424548,
          -4387.4050578187225,
          -5635.163992926346,
          -5910.595732886546,
          -5108.2819074694635,
          -3524.602272807998,
          -5240.710105021427,
          -3863.006710456131,
          -4416.5770143587315,
          -5227.9721926338925,
          -5081.205828124811,
          -2877.1941821022288,
          -3288.464044751344,
          -6141.762968151082,
          -4868.312310128517,
          -4400.042493871472,
          -4443.170207612076,
          -4687.7644419389435,
          -4054.252523621055
         ],
         "yaxis": "y"
        }
       ],
       "layout": {
        "height": 600,
        "legend": {
         "title": {
          "text": "Cluster"
         },
         "tracegroupgap": 0
        },
        "margin": {
         "t": 60
        },
        "plot_bgcolor": "rgb(240,240,240)",
        "template": {
         "data": {
          "bar": [
           {
            "error_x": {
             "color": "#2a3f5f"
            },
            "error_y": {
             "color": "#2a3f5f"
            },
            "marker": {
             "line": {
              "color": "#E5ECF6",
              "width": 0.5
             },
             "pattern": {
              "fillmode": "overlay",
              "size": 10,
              "solidity": 0.2
             }
            },
            "type": "bar"
           }
          ],
          "barpolar": [
           {
            "marker": {
             "line": {
              "color": "#E5ECF6",
              "width": 0.5
             },
             "pattern": {
              "fillmode": "overlay",
              "size": 10,
              "solidity": 0.2
             }
            },
            "type": "barpolar"
           }
          ],
          "carpet": [
           {
            "aaxis": {
             "endlinecolor": "#2a3f5f",
             "gridcolor": "white",
             "linecolor": "white",
             "minorgridcolor": "white",
             "startlinecolor": "#2a3f5f"
            },
            "baxis": {
             "endlinecolor": "#2a3f5f",
             "gridcolor": "white",
             "linecolor": "white",
             "minorgridcolor": "white",
             "startlinecolor": "#2a3f5f"
            },
            "type": "carpet"
           }
          ],
          "choropleth": [
           {
            "colorbar": {
             "outlinewidth": 0,
             "ticks": ""
            },
            "type": "choropleth"
           }
          ],
          "contour": [
           {
            "colorbar": {
             "outlinewidth": 0,
             "ticks": ""
            },
            "colorscale": [
             [
              0,
              "#0d0887"
             ],
             [
              0.1111111111111111,
              "#46039f"
             ],
             [
              0.2222222222222222,
              "#7201a8"
             ],
             [
              0.3333333333333333,
              "#9c179e"
             ],
             [
              0.4444444444444444,
              "#bd3786"
             ],
             [
              0.5555555555555556,
              "#d8576b"
             ],
             [
              0.6666666666666666,
              "#ed7953"
             ],
             [
              0.7777777777777778,
              "#fb9f3a"
             ],
             [
              0.8888888888888888,
              "#fdca26"
             ],
             [
              1,
              "#f0f921"
             ]
            ],
            "type": "contour"
           }
          ],
          "contourcarpet": [
           {
            "colorbar": {
             "outlinewidth": 0,
             "ticks": ""
            },
            "type": "contourcarpet"
           }
          ],
          "heatmap": [
           {
            "colorbar": {
             "outlinewidth": 0,
             "ticks": ""
            },
            "colorscale": [
             [
              0,
              "#0d0887"
             ],
             [
              0.1111111111111111,
              "#46039f"
             ],
             [
              0.2222222222222222,
              "#7201a8"
             ],
             [
              0.3333333333333333,
              "#9c179e"
             ],
             [
              0.4444444444444444,
              "#bd3786"
             ],
             [
              0.5555555555555556,
              "#d8576b"
             ],
             [
              0.6666666666666666,
              "#ed7953"
             ],
             [
              0.7777777777777778,
              "#fb9f3a"
             ],
             [
              0.8888888888888888,
              "#fdca26"
             ],
             [
              1,
              "#f0f921"
             ]
            ],
            "type": "heatmap"
           }
          ],
          "heatmapgl": [
           {
            "colorbar": {
             "outlinewidth": 0,
             "ticks": ""
            },
            "colorscale": [
             [
              0,
              "#0d0887"
             ],
             [
              0.1111111111111111,
              "#46039f"
             ],
             [
              0.2222222222222222,
              "#7201a8"
             ],
             [
              0.3333333333333333,
              "#9c179e"
             ],
             [
              0.4444444444444444,
              "#bd3786"
             ],
             [
              0.5555555555555556,
              "#d8576b"
             ],
             [
              0.6666666666666666,
              "#ed7953"
             ],
             [
              0.7777777777777778,
              "#fb9f3a"
             ],
             [
              0.8888888888888888,
              "#fdca26"
             ],
             [
              1,
              "#f0f921"
             ]
            ],
            "type": "heatmapgl"
           }
          ],
          "histogram": [
           {
            "marker": {
             "pattern": {
              "fillmode": "overlay",
              "size": 10,
              "solidity": 0.2
             }
            },
            "type": "histogram"
           }
          ],
          "histogram2d": [
           {
            "colorbar": {
             "outlinewidth": 0,
             "ticks": ""
            },
            "colorscale": [
             [
              0,
              "#0d0887"
             ],
             [
              0.1111111111111111,
              "#46039f"
             ],
             [
              0.2222222222222222,
              "#7201a8"
             ],
             [
              0.3333333333333333,
              "#9c179e"
             ],
             [
              0.4444444444444444,
              "#bd3786"
             ],
             [
              0.5555555555555556,
              "#d8576b"
             ],
             [
              0.6666666666666666,
              "#ed7953"
             ],
             [
              0.7777777777777778,
              "#fb9f3a"
             ],
             [
              0.8888888888888888,
              "#fdca26"
             ],
             [
              1,
              "#f0f921"
             ]
            ],
            "type": "histogram2d"
           }
          ],
          "histogram2dcontour": [
           {
            "colorbar": {
             "outlinewidth": 0,
             "ticks": ""
            },
            "colorscale": [
             [
              0,
              "#0d0887"
             ],
             [
              0.1111111111111111,
              "#46039f"
             ],
             [
              0.2222222222222222,
              "#7201a8"
             ],
             [
              0.3333333333333333,
              "#9c179e"
             ],
             [
              0.4444444444444444,
              "#bd3786"
             ],
             [
              0.5555555555555556,
              "#d8576b"
             ],
             [
              0.6666666666666666,
              "#ed7953"
             ],
             [
              0.7777777777777778,
              "#fb9f3a"
             ],
             [
              0.8888888888888888,
              "#fdca26"
             ],
             [
              1,
              "#f0f921"
             ]
            ],
            "type": "histogram2dcontour"
           }
          ],
          "mesh3d": [
           {
            "colorbar": {
             "outlinewidth": 0,
             "ticks": ""
            },
            "type": "mesh3d"
           }
          ],
          "parcoords": [
           {
            "line": {
             "colorbar": {
              "outlinewidth": 0,
              "ticks": ""
             }
            },
            "type": "parcoords"
           }
          ],
          "pie": [
           {
            "automargin": true,
            "type": "pie"
           }
          ],
          "scatter": [
           {
            "fillpattern": {
             "fillmode": "overlay",
             "size": 10,
             "solidity": 0.2
            },
            "type": "scatter"
           }
          ],
          "scatter3d": [
           {
            "line": {
             "colorbar": {
              "outlinewidth": 0,
              "ticks": ""
             }
            },
            "marker": {
             "colorbar": {
              "outlinewidth": 0,
              "ticks": ""
             }
            },
            "type": "scatter3d"
           }
          ],
          "scattercarpet": [
           {
            "marker": {
             "colorbar": {
              "outlinewidth": 0,
              "ticks": ""
             }
            },
            "type": "scattercarpet"
           }
          ],
          "scattergeo": [
           {
            "marker": {
             "colorbar": {
              "outlinewidth": 0,
              "ticks": ""
             }
            },
            "type": "scattergeo"
           }
          ],
          "scattergl": [
           {
            "marker": {
             "colorbar": {
              "outlinewidth": 0,
              "ticks": ""
             }
            },
            "type": "scattergl"
           }
          ],
          "scattermapbox": [
           {
            "marker": {
             "colorbar": {
              "outlinewidth": 0,
              "ticks": ""
             }
            },
            "type": "scattermapbox"
           }
          ],
          "scatterpolar": [
           {
            "marker": {
             "colorbar": {
              "outlinewidth": 0,
              "ticks": ""
             }
            },
            "type": "scatterpolar"
           }
          ],
          "scatterpolargl": [
           {
            "marker": {
             "colorbar": {
              "outlinewidth": 0,
              "ticks": ""
             }
            },
            "type": "scatterpolargl"
           }
          ],
          "scatterternary": [
           {
            "marker": {
             "colorbar": {
              "outlinewidth": 0,
              "ticks": ""
             }
            },
            "type": "scatterternary"
           }
          ],
          "surface": [
           {
            "colorbar": {
             "outlinewidth": 0,
             "ticks": ""
            },
            "colorscale": [
             [
              0,
              "#0d0887"
             ],
             [
              0.1111111111111111,
              "#46039f"
             ],
             [
              0.2222222222222222,
              "#7201a8"
             ],
             [
              0.3333333333333333,
              "#9c179e"
             ],
             [
              0.4444444444444444,
              "#bd3786"
             ],
             [
              0.5555555555555556,
              "#d8576b"
             ],
             [
              0.6666666666666666,
              "#ed7953"
             ],
             [
              0.7777777777777778,
              "#fb9f3a"
             ],
             [
              0.8888888888888888,
              "#fdca26"
             ],
             [
              1,
              "#f0f921"
             ]
            ],
            "type": "surface"
           }
          ],
          "table": [
           {
            "cells": {
             "fill": {
              "color": "#EBF0F8"
             },
             "line": {
              "color": "white"
             }
            },
            "header": {
             "fill": {
              "color": "#C8D4E3"
             },
             "line": {
              "color": "white"
             }
            },
            "type": "table"
           }
          ]
         },
         "layout": {
          "annotationdefaults": {
           "arrowcolor": "#2a3f5f",
           "arrowhead": 0,
           "arrowwidth": 1
          },
          "autotypenumbers": "strict",
          "coloraxis": {
           "colorbar": {
            "outlinewidth": 0,
            "ticks": ""
           }
          },
          "colorscale": {
           "diverging": [
            [
             0,
             "#8e0152"
            ],
            [
             0.1,
             "#c51b7d"
            ],
            [
             0.2,
             "#de77ae"
            ],
            [
             0.3,
             "#f1b6da"
            ],
            [
             0.4,
             "#fde0ef"
            ],
            [
             0.5,
             "#f7f7f7"
            ],
            [
             0.6,
             "#e6f5d0"
            ],
            [
             0.7,
             "#b8e186"
            ],
            [
             0.8,
             "#7fbc41"
            ],
            [
             0.9,
             "#4d9221"
            ],
            [
             1,
             "#276419"
            ]
           ],
           "sequential": [
            [
             0,
             "#0d0887"
            ],
            [
             0.1111111111111111,
             "#46039f"
            ],
            [
             0.2222222222222222,
             "#7201a8"
            ],
            [
             0.3333333333333333,
             "#9c179e"
            ],
            [
             0.4444444444444444,
             "#bd3786"
            ],
            [
             0.5555555555555556,
             "#d8576b"
            ],
            [
             0.6666666666666666,
             "#ed7953"
            ],
            [
             0.7777777777777778,
             "#fb9f3a"
            ],
            [
             0.8888888888888888,
             "#fdca26"
            ],
            [
             1,
             "#f0f921"
            ]
           ],
           "sequentialminus": [
            [
             0,
             "#0d0887"
            ],
            [
             0.1111111111111111,
             "#46039f"
            ],
            [
             0.2222222222222222,
             "#7201a8"
            ],
            [
             0.3333333333333333,
             "#9c179e"
            ],
            [
             0.4444444444444444,
             "#bd3786"
            ],
            [
             0.5555555555555556,
             "#d8576b"
            ],
            [
             0.6666666666666666,
             "#ed7953"
            ],
            [
             0.7777777777777778,
             "#fb9f3a"
            ],
            [
             0.8888888888888888,
             "#fdca26"
            ],
            [
             1,
             "#f0f921"
            ]
           ]
          },
          "colorway": [
           "#636efa",
           "#EF553B",
           "#00cc96",
           "#ab63fa",
           "#FFA15A",
           "#19d3f3",
           "#FF6692",
           "#B6E880",
           "#FF97FF",
           "#FECB52"
          ],
          "font": {
           "color": "#2a3f5f"
          },
          "geo": {
           "bgcolor": "white",
           "lakecolor": "white",
           "landcolor": "#E5ECF6",
           "showlakes": true,
           "showland": true,
           "subunitcolor": "white"
          },
          "hoverlabel": {
           "align": "left"
          },
          "hovermode": "closest",
          "mapbox": {
           "style": "light"
          },
          "paper_bgcolor": "white",
          "plot_bgcolor": "#E5ECF6",
          "polar": {
           "angularaxis": {
            "gridcolor": "white",
            "linecolor": "white",
            "ticks": ""
           },
           "bgcolor": "#E5ECF6",
           "radialaxis": {
            "gridcolor": "white",
            "linecolor": "white",
            "ticks": ""
           }
          },
          "scene": {
           "xaxis": {
            "backgroundcolor": "#E5ECF6",
            "gridcolor": "white",
            "gridwidth": 2,
            "linecolor": "white",
            "showbackground": true,
            "ticks": "",
            "zerolinecolor": "white"
           },
           "yaxis": {
            "backgroundcolor": "#E5ECF6",
            "gridcolor": "white",
            "gridwidth": 2,
            "linecolor": "white",
            "showbackground": true,
            "ticks": "",
            "zerolinecolor": "white"
           },
           "zaxis": {
            "backgroundcolor": "#E5ECF6",
            "gridcolor": "white",
            "gridwidth": 2,
            "linecolor": "white",
            "showbackground": true,
            "ticks": "",
            "zerolinecolor": "white"
           }
          },
          "shapedefaults": {
           "line": {
            "color": "#2a3f5f"
           }
          },
          "ternary": {
           "aaxis": {
            "gridcolor": "white",
            "linecolor": "white",
            "ticks": ""
           },
           "baxis": {
            "gridcolor": "white",
            "linecolor": "white",
            "ticks": ""
           },
           "bgcolor": "#E5ECF6",
           "caxis": {
            "gridcolor": "white",
            "linecolor": "white",
            "ticks": ""
           }
          },
          "title": {
           "x": 0.05
          },
          "xaxis": {
           "automargin": true,
           "gridcolor": "white",
           "linecolor": "white",
           "ticks": "",
           "title": {
            "standoff": 15
           },
           "zerolinecolor": "white",
           "zerolinewidth": 2
          },
          "yaxis": {
           "automargin": true,
           "gridcolor": "white",
           "linecolor": "white",
           "ticks": "",
           "title": {
            "standoff": 15
           },
           "zerolinecolor": "white",
           "zerolinewidth": 2
          }
         }
        },
        "title": {
         "text": "2D Cluster PCA Plot"
        },
        "xaxis": {
         "anchor": "y",
         "domain": [
          0,
          1
         ],
         "title": {
          "text": "PCA1"
         }
        },
        "yaxis": {
         "anchor": "x",
         "domain": [
          0,
          1
         ],
         "title": {
          "text": "PCA2"
         }
        }
       }
      }
     },
     "metadata": {},
     "output_type": "display_data"
    }
   ],
   "source": [
    "plot_model(kmeans)"
   ]
  },
  {
   "cell_type": "code",
   "execution_count": null,
   "metadata": {},
   "outputs": [],
   "source": []
  }
 ],
 "metadata": {
  "kernelspec": {
   "display_name": "Python 3",
   "language": "python",
   "name": "python3"
  },
  "language_info": {
   "codemirror_mode": {
    "name": "ipython",
    "version": 3
   },
   "file_extension": ".py",
   "mimetype": "text/x-python",
   "name": "python",
   "nbconvert_exporter": "python",
   "pygments_lexer": "ipython3",
   "version": "3.10.10"
  },
  "orig_nbformat": 4,
  "vscode": {
   "interpreter": {
    "hash": "bb27270a5e4f8cb7d0eca249a0950dc7daa5204e8bcb6dd237418e87fe5c3217"
   }
  }
 },
 "nbformat": 4,
 "nbformat_minor": 2
}
